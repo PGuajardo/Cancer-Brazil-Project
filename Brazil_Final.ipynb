{
 "cells": [
  {
   "cell_type": "code",
   "execution_count": 58,
   "id": "7954de16",
   "metadata": {},
   "outputs": [],
   "source": [
    "import acquire\n",
    "\n",
    "import pandas as pd\n",
    "\n",
    "import numpy as np\n",
    "import matplotlib.pyplot as plt\n",
    "\n",
    "# import splitting and imputing functions\n",
    "from sklearn.model_selection import train_test_split\n",
    "from sklearn.impute import SimpleImputer\n",
    "\n",
    "# turn off pink boxes for demo\n",
    "import warnings\n",
    "warnings.filterwarnings(\"ignore\")\n",
    "\n",
    "import scipy.stats as stats\n",
    "import seaborn as sns\n",
    "\n",
    "\n",
    "# decision tree evaluated on imbalanced dataset with SMOTE oversampling\n",
    "#from numpy import mean\n",
    "#from sklearn.datasets import make_classification\n",
    "from sklearn.model_selection import cross_val_score\n",
    "from sklearn.model_selection import RepeatedStratifiedKFold\n",
    "from imblearn.under_sampling import RandomUnderSampler\n",
    "from sklearn.tree import DecisionTreeClassifier\n",
    "from imblearn.pipeline import Pipeline\n",
    "from imblearn.over_sampling import SMOTE\n",
    "\n",
    "from collections import Counter\n",
    "\n",
    "from sklearn.metrics import accuracy_score\n",
    "from sklearn.metrics import classification_report\n",
    "\n",
    "from sklearn.tree import DecisionTreeClassifier\n",
    "from sklearn.ensemble import RandomForestClassifier\n",
    "from sklearn.neighbors import KNeighborsClassifier"
   ]
  },
  {
   "cell_type": "code",
   "execution_count": null,
   "id": "4739db14",
   "metadata": {},
   "outputs": [],
   "source": [
    "def train_validate_test_split(df, target):\n",
    "    train_validate, test = train_test_split(df, test_size=0.2,  \n",
    "                                            stratify=df[target], random_state = 123)\n",
    "    \n",
    "    \n",
    "    train, validate = train_test_split(train_validate, test_size=0.3, \n",
    "                                       stratify=train_validate[target], random_state = 123)\n",
    "    return train, validate, test"
   ]
  },
  {
   "cell_type": "code",
   "execution_count": 2,
   "id": "185d1641",
   "metadata": {},
   "outputs": [
    {
     "data": {
      "text/html": [
       "<div>\n",
       "<style scoped>\n",
       "    .dataframe tbody tr th:only-of-type {\n",
       "        vertical-align: middle;\n",
       "    }\n",
       "\n",
       "    .dataframe tbody tr th {\n",
       "        vertical-align: top;\n",
       "    }\n",
       "\n",
       "    .dataframe thead th {\n",
       "        text-align: right;\n",
       "    }\n",
       "</style>\n",
       "<table border=\"1\" class=\"dataframe\">\n",
       "  <thead>\n",
       "    <tr style=\"text-align: right;\">\n",
       "      <th></th>\n",
       "      <th>Patient.Code</th>\n",
       "      <th>RCBP.Name</th>\n",
       "      <th>Gender</th>\n",
       "      <th>Date.of.Birth</th>\n",
       "      <th>Age</th>\n",
       "      <th>Raca.Color</th>\n",
       "      <th>Nationality</th>\n",
       "      <th>Naturality.State</th>\n",
       "      <th>Naturality</th>\n",
       "      <th>Degree.of.Education</th>\n",
       "      <th>...</th>\n",
       "      <th>Laterality</th>\n",
       "      <th>Statement</th>\n",
       "      <th>TNM</th>\n",
       "      <th>Status.Vital</th>\n",
       "      <th>Type.of.Death</th>\n",
       "      <th>Date.of.Death</th>\n",
       "      <th>Date.of.Last.Contact</th>\n",
       "      <th>Date.of.Diagnostic</th>\n",
       "      <th>Distant.metastasis</th>\n",
       "      <th>year</th>\n",
       "    </tr>\n",
       "  </thead>\n",
       "  <tbody>\n",
       "    <tr>\n",
       "      <th>0</th>\n",
       "      <td>672054.0</td>\n",
       "      <td>RCBP CAMPINAS-UNICAMP</td>\n",
       "      <td>MASCULINO</td>\n",
       "      <td>1975-03-16</td>\n",
       "      <td>30.0</td>\n",
       "      <td>BRANCO</td>\n",
       "      <td>BRASIL</td>\n",
       "      <td>S�O PAULO</td>\n",
       "      <td>NaN</td>\n",
       "      <td>NaN</td>\n",
       "      <td>...</td>\n",
       "      <td>NaN</td>\n",
       "      <td>NaN</td>\n",
       "      <td>NaN</td>\n",
       "      <td>MORTO</td>\n",
       "      <td>C�NCER</td>\n",
       "      <td>2005-10-07</td>\n",
       "      <td>2005-10-07</td>\n",
       "      <td>2005-10-07</td>\n",
       "      <td>NaN</td>\n",
       "      <td>2005.0</td>\n",
       "    </tr>\n",
       "    <tr>\n",
       "      <th>1</th>\n",
       "      <td>673213.0</td>\n",
       "      <td>RCBP CAMPINAS-UNICAMP</td>\n",
       "      <td>FEMININO</td>\n",
       "      <td>1950-05-24</td>\n",
       "      <td>53.0</td>\n",
       "      <td>NaN</td>\n",
       "      <td>NaN</td>\n",
       "      <td>NaN</td>\n",
       "      <td>NaN</td>\n",
       "      <td>NaN</td>\n",
       "      <td>...</td>\n",
       "      <td>NaN</td>\n",
       "      <td>NaN</td>\n",
       "      <td>NaN</td>\n",
       "      <td>MORTO</td>\n",
       "      <td>NaN</td>\n",
       "      <td>2007-01-30</td>\n",
       "      <td>2007-01-30</td>\n",
       "      <td>2003-07-18</td>\n",
       "      <td>NaN</td>\n",
       "      <td>2003.0</td>\n",
       "    </tr>\n",
       "    <tr>\n",
       "      <th>2</th>\n",
       "      <td>673396.0</td>\n",
       "      <td>RCBP CAMPINAS-UNICAMP</td>\n",
       "      <td>FEMININO</td>\n",
       "      <td>1951-09-02</td>\n",
       "      <td>51.0</td>\n",
       "      <td>PARDA</td>\n",
       "      <td>BRASIL</td>\n",
       "      <td>S�O PAULO</td>\n",
       "      <td>NaN</td>\n",
       "      <td>NaN</td>\n",
       "      <td>...</td>\n",
       "      <td>NaN</td>\n",
       "      <td>NaN</td>\n",
       "      <td>NaN</td>\n",
       "      <td>MORTO</td>\n",
       "      <td>C�NCER</td>\n",
       "      <td>2005-07-03</td>\n",
       "      <td>2005-07-03</td>\n",
       "      <td>2003-05-16</td>\n",
       "      <td>NaN</td>\n",
       "      <td>2003.0</td>\n",
       "    </tr>\n",
       "    <tr>\n",
       "      <th>3</th>\n",
       "      <td>673425.0</td>\n",
       "      <td>RCBP CAMPINAS-UNICAMP</td>\n",
       "      <td>FEMININO</td>\n",
       "      <td>1929-11-21</td>\n",
       "      <td>73.0</td>\n",
       "      <td>NaN</td>\n",
       "      <td>NaN</td>\n",
       "      <td>NaN</td>\n",
       "      <td>NaN</td>\n",
       "      <td>NaN</td>\n",
       "      <td>...</td>\n",
       "      <td>NaN</td>\n",
       "      <td>NaN</td>\n",
       "      <td>NaN</td>\n",
       "      <td>VIVO</td>\n",
       "      <td>NaN</td>\n",
       "      <td>NaN</td>\n",
       "      <td>2010-07-28</td>\n",
       "      <td>2003-04-01</td>\n",
       "      <td>NaN</td>\n",
       "      <td>2003.0</td>\n",
       "    </tr>\n",
       "    <tr>\n",
       "      <th>4</th>\n",
       "      <td>673745.0</td>\n",
       "      <td>RCBP CAMPINAS-UNICAMP</td>\n",
       "      <td>MASCULINO</td>\n",
       "      <td>1934-07-03</td>\n",
       "      <td>71.0</td>\n",
       "      <td>BRANCO</td>\n",
       "      <td>BRASIL</td>\n",
       "      <td>S�O PAULO</td>\n",
       "      <td>NaN</td>\n",
       "      <td>NaN</td>\n",
       "      <td>...</td>\n",
       "      <td>NaN</td>\n",
       "      <td>NaN</td>\n",
       "      <td>NaN</td>\n",
       "      <td>MORTO</td>\n",
       "      <td>C�NCER</td>\n",
       "      <td>2005-10-21</td>\n",
       "      <td>2005-10-21</td>\n",
       "      <td>2005-10-21</td>\n",
       "      <td>NaN</td>\n",
       "      <td>2005.0</td>\n",
       "    </tr>\n",
       "  </tbody>\n",
       "</table>\n",
       "<p>5 rows × 38 columns</p>\n",
       "</div>"
      ],
      "text/plain": [
       "   Patient.Code              RCBP.Name     Gender Date.of.Birth   Age  \\\n",
       "0      672054.0  RCBP CAMPINAS-UNICAMP  MASCULINO    1975-03-16  30.0   \n",
       "1      673213.0  RCBP CAMPINAS-UNICAMP   FEMININO    1950-05-24  53.0   \n",
       "2      673396.0  RCBP CAMPINAS-UNICAMP   FEMININO    1951-09-02  51.0   \n",
       "3      673425.0  RCBP CAMPINAS-UNICAMP   FEMININO    1929-11-21  73.0   \n",
       "4      673745.0  RCBP CAMPINAS-UNICAMP  MASCULINO    1934-07-03  71.0   \n",
       "\n",
       "  Raca.Color Nationality Naturality.State Naturality Degree.of.Education  ...  \\\n",
       "0     BRANCO      BRASIL        S�O PAULO        NaN                 NaN  ...   \n",
       "1        NaN         NaN              NaN        NaN                 NaN  ...   \n",
       "2      PARDA      BRASIL        S�O PAULO        NaN                 NaN  ...   \n",
       "3        NaN         NaN              NaN        NaN                 NaN  ...   \n",
       "4     BRANCO      BRASIL        S�O PAULO        NaN                 NaN  ...   \n",
       "\n",
       "  Laterality  Statement  TNM Status.Vital Type.of.Death Date.of.Death  \\\n",
       "0        NaN        NaN  NaN        MORTO        C�NCER    2005-10-07   \n",
       "1        NaN        NaN  NaN        MORTO           NaN    2007-01-30   \n",
       "2        NaN        NaN  NaN        MORTO        C�NCER    2005-07-03   \n",
       "3        NaN        NaN  NaN         VIVO           NaN           NaN   \n",
       "4        NaN        NaN  NaN        MORTO        C�NCER    2005-10-21   \n",
       "\n",
       "  Date.of.Last.Contact Date.of.Diagnostic  Distant.metastasis    year  \n",
       "0           2005-10-07         2005-10-07                 NaN  2005.0  \n",
       "1           2007-01-30         2003-07-18                 NaN  2003.0  \n",
       "2           2005-07-03         2003-05-16                 NaN  2003.0  \n",
       "3           2010-07-28         2003-04-01                 NaN  2003.0  \n",
       "4           2005-10-21         2005-10-21                 NaN  2005.0  \n",
       "\n",
       "[5 rows x 38 columns]"
      ]
     },
     "execution_count": 2,
     "metadata": {},
     "output_type": "execute_result"
    }
   ],
   "source": [
    "df = acquire.get_brazil_data()\n",
    "df.head()"
   ]
  },
  {
   "cell_type": "code",
   "execution_count": 3,
   "id": "8e13dbbd",
   "metadata": {},
   "outputs": [
    {
     "data": {
      "text/plain": [
       "(1778176, 38)"
      ]
     },
     "execution_count": 3,
     "metadata": {},
     "output_type": "execute_result"
    }
   ],
   "source": [
    "df.shape"
   ]
  },
  {
   "cell_type": "code",
   "execution_count": 4,
   "id": "08b7ed9e",
   "metadata": {},
   "outputs": [
    {
     "name": "stdout",
     "output_type": "stream",
     "text": [
      "<class 'pandas.core.frame.DataFrame'>\n",
      "RangeIndex: 1778176 entries, 0 to 1778175\n",
      "Data columns (total 38 columns):\n",
      " #   Column                           Dtype  \n",
      "---  ------                           -----  \n",
      " 0   Patient.Code                     float64\n",
      " 1   RCBP.Name                        object \n",
      " 2   Gender                           object \n",
      " 3   Date.of.Birth                    object \n",
      " 4   Age                              float64\n",
      " 5   Raca.Color                       object \n",
      " 6   Nationality                      object \n",
      " 7   Naturality.State                 object \n",
      " 8   Naturality                       object \n",
      " 9   Degree.of.Education              object \n",
      " 10  State.Civil                      object \n",
      " 11  Code.Profession                  float64\n",
      " 12  Name.Occupation                  object \n",
      " 13  Status.Address                   object \n",
      " 14  City.Address                     object \n",
      " 15  Description.of.Topography        object \n",
      " 16  Topography.Code                  object \n",
      " 17  Morphology.Description           object \n",
      " 18  Code.of.Morphology               int64  \n",
      " 19  Description.of.Disease           object \n",
      " 20  Illness.Code                     object \n",
      " 21  Child.Illness.Description        object \n",
      " 22  Child.Illness.Code               object \n",
      " 23  Youth.Adult.Illness.Description  object \n",
      " 24  Code.of.Disease.Adult.Young.     object \n",
      " 25  Indicator.of.Rare.Case           object \n",
      " 26  Diagnostic.means                 object \n",
      " 27  Extension                        object \n",
      " 28  Laterality                       object \n",
      " 29  Statement                        object \n",
      " 30  TNM                              object \n",
      " 31  Status.Vital                     object \n",
      " 32  Type.of.Death                    object \n",
      " 33  Date.of.Death                    object \n",
      " 34  Date.of.Last.Contact             object \n",
      " 35  Date.of.Diagnostic               object \n",
      " 36  Distant.metastasis               object \n",
      " 37  year                             float64\n",
      "dtypes: float64(4), int64(1), object(33)\n",
      "memory usage: 515.5+ MB\n"
     ]
    }
   ],
   "source": [
    "df.info()"
   ]
  },
  {
   "cell_type": "code",
   "execution_count": 7,
   "id": "48c57115",
   "metadata": {},
   "outputs": [
    {
     "data": {
      "text/plain": [
       "MORTO    123862\n",
       "VIVO      85896\n",
       "Name: Status.Vital, dtype: int64"
      ]
     },
     "execution_count": 7,
     "metadata": {},
     "output_type": "execute_result"
    }
   ],
   "source": [
    "df['Status.Vital'].value_counts()"
   ]
  },
  {
   "cell_type": "code",
   "execution_count": 8,
   "id": "9996a3ce",
   "metadata": {},
   "outputs": [
    {
     "data": {
      "text/plain": [
       "C�NCER        375903\n",
       "N�O C�NCER     23376\n",
       "Name: Type.of.Death, dtype: int64"
      ]
     },
     "execution_count": 8,
     "metadata": {},
     "output_type": "execute_result"
    }
   ],
   "source": [
    "df['Type.of.Death'].value_counts()"
   ]
  },
  {
   "cell_type": "code",
   "execution_count": 11,
   "id": "5b7cf39b",
   "metadata": {},
   "outputs": [
    {
     "data": {
      "text/plain": [
       "BRASIL           811183\n",
       "PORTUGAL            749\n",
       "ITALIA              451\n",
       "JAPAO               448\n",
       "ESPANHA             266\n",
       "                  ...  \n",
       "BAREIN                1\n",
       "AFEGANISTAO           1\n",
       "SUDAO                 1\n",
       "ILHAS NORFOLK         1\n",
       "ANTIGUA               1\n",
       "Name: Nationality, Length: 113, dtype: int64"
      ]
     },
     "execution_count": 11,
     "metadata": {},
     "output_type": "execute_result"
    }
   ],
   "source": [
    "df.Nationality.value_counts()"
   ]
  },
  {
   "cell_type": "code",
   "execution_count": 14,
   "id": "d1d81867",
   "metadata": {},
   "outputs": [
    {
     "data": {
      "text/plain": [
       "Patient.Code                         74429\n",
       "RCBP.Name                                0\n",
       "Gender                                   0\n",
       "Date.of.Birth                       768445\n",
       "Age                                  79972\n",
       "Raca.Color                          785048\n",
       "Nationality                         962996\n",
       "Naturality.State                   1326620\n",
       "Naturality                         1591764\n",
       "Degree.of.Education                1372348\n",
       "State.Civil                        1179041\n",
       "Code.Profession                     140150\n",
       "Name.Occupation                     140150\n",
       "Status.Address                       64197\n",
       "City.Address                         63842\n",
       "Description.of.Topography                0\n",
       "Topography.Code                          0\n",
       "Morphology.Description                   0\n",
       "Code.of.Morphology                       0\n",
       "Description.of.Disease                   0\n",
       "Illness.Code                             0\n",
       "Child.Illness.Description          1079470\n",
       "Child.Illness.Code                 1079470\n",
       "Youth.Adult.Illness.Description    1098116\n",
       "Code.of.Disease.Adult.Young.       1098116\n",
       "Indicator.of.Rare.Case              731311\n",
       "Diagnostic.means                     30326\n",
       "Extension                          1227546\n",
       "Laterality                         1580348\n",
       "Statement                          1713701\n",
       "TNM                                1715988\n",
       "Status.Vital                       1568418\n",
       "Type.of.Death                      1378897\n",
       "Date.of.Death                      1151656\n",
       "Date.of.Last.Contact               1335704\n",
       "Date.of.Diagnostic                   63842\n",
       "Distant.metastasis                 1760809\n",
       "year                                 63842\n",
       "dtype: int64"
      ]
     },
     "execution_count": 14,
     "metadata": {},
     "output_type": "execute_result"
    }
   ],
   "source": [
    "df.isna().sum()"
   ]
  },
  {
   "cell_type": "code",
   "execution_count": 15,
   "id": "af2701e0",
   "metadata": {},
   "outputs": [
    {
     "data": {
      "text/plain": [
       "0          C�NCER\n",
       "1             NaN\n",
       "2          C�NCER\n",
       "3             NaN\n",
       "4          C�NCER\n",
       "            ...  \n",
       "1778171       NaN\n",
       "1778172       NaN\n",
       "1778173       NaN\n",
       "1778174       NaN\n",
       "1778175       NaN\n",
       "Name: Type.of.Death, Length: 1778176, dtype: object"
      ]
     },
     "execution_count": 15,
     "metadata": {},
     "output_type": "execute_result"
    }
   ],
   "source": [
    "df['Type.of.Death']"
   ]
  },
  {
   "cell_type": "code",
   "execution_count": 19,
   "id": "24379367",
   "metadata": {},
   "outputs": [
    {
     "data": {
      "text/plain": [
       "1568418"
      ]
     },
     "execution_count": 19,
     "metadata": {},
     "output_type": "execute_result"
    }
   ],
   "source": [
    "df['Status.Vital'].isna().sum()"
   ]
  },
  {
   "cell_type": "code",
   "execution_count": 17,
   "id": "9d056c25",
   "metadata": {},
   "outputs": [],
   "source": [
    "# Explain a lot of the data is missing, for cancer and death (thats why I have to drop about 80% of the data)"
   ]
  },
  {
   "cell_type": "markdown",
   "id": "9a877e22",
   "metadata": {},
   "source": [
    "## I'll use this for just looking for cancer or no cancer "
   ]
  },
  {
   "cell_type": "code",
   "execution_count": 78,
   "id": "c742d503",
   "metadata": {},
   "outputs": [],
   "source": [
    "df_cancer = df.copy()"
   ]
  },
  {
   "cell_type": "code",
   "execution_count": 79,
   "id": "3e9cb551",
   "metadata": {},
   "outputs": [],
   "source": [
    "df_cancer = df_cancer[df_cancer['Type.of.Death'].notna()]"
   ]
  },
  {
   "cell_type": "code",
   "execution_count": 80,
   "id": "24d6c98f",
   "metadata": {},
   "outputs": [
    {
     "data": {
      "text/plain": [
       "(399279, 38)"
      ]
     },
     "execution_count": 80,
     "metadata": {},
     "output_type": "execute_result"
    }
   ],
   "source": [
    "df_cancer.shape"
   ]
  },
  {
   "cell_type": "code",
   "execution_count": 81,
   "id": "9802f076",
   "metadata": {},
   "outputs": [
    {
     "data": {
      "text/html": [
       "<div>\n",
       "<style scoped>\n",
       "    .dataframe tbody tr th:only-of-type {\n",
       "        vertical-align: middle;\n",
       "    }\n",
       "\n",
       "    .dataframe tbody tr th {\n",
       "        vertical-align: top;\n",
       "    }\n",
       "\n",
       "    .dataframe thead th {\n",
       "        text-align: right;\n",
       "    }\n",
       "</style>\n",
       "<table border=\"1\" class=\"dataframe\">\n",
       "  <thead>\n",
       "    <tr style=\"text-align: right;\">\n",
       "      <th></th>\n",
       "      <th>Patient.Code</th>\n",
       "      <th>RCBP.Name</th>\n",
       "      <th>Gender</th>\n",
       "      <th>Date.of.Birth</th>\n",
       "      <th>Age</th>\n",
       "      <th>Raca.Color</th>\n",
       "      <th>Nationality</th>\n",
       "      <th>Naturality.State</th>\n",
       "      <th>Naturality</th>\n",
       "      <th>Degree.of.Education</th>\n",
       "      <th>...</th>\n",
       "      <th>Laterality</th>\n",
       "      <th>Statement</th>\n",
       "      <th>TNM</th>\n",
       "      <th>Status.Vital</th>\n",
       "      <th>Type.of.Death</th>\n",
       "      <th>Date.of.Death</th>\n",
       "      <th>Date.of.Last.Contact</th>\n",
       "      <th>Date.of.Diagnostic</th>\n",
       "      <th>Distant.metastasis</th>\n",
       "      <th>year</th>\n",
       "    </tr>\n",
       "  </thead>\n",
       "  <tbody>\n",
       "    <tr>\n",
       "      <th>0</th>\n",
       "      <td>672054.0</td>\n",
       "      <td>RCBP CAMPINAS-UNICAMP</td>\n",
       "      <td>MASCULINO</td>\n",
       "      <td>1975-03-16</td>\n",
       "      <td>30.0</td>\n",
       "      <td>BRANCO</td>\n",
       "      <td>BRASIL</td>\n",
       "      <td>S�O PAULO</td>\n",
       "      <td>NaN</td>\n",
       "      <td>NaN</td>\n",
       "      <td>...</td>\n",
       "      <td>NaN</td>\n",
       "      <td>NaN</td>\n",
       "      <td>NaN</td>\n",
       "      <td>MORTO</td>\n",
       "      <td>C�NCER</td>\n",
       "      <td>2005-10-07</td>\n",
       "      <td>2005-10-07</td>\n",
       "      <td>2005-10-07</td>\n",
       "      <td>NaN</td>\n",
       "      <td>2005.0</td>\n",
       "    </tr>\n",
       "    <tr>\n",
       "      <th>2</th>\n",
       "      <td>673396.0</td>\n",
       "      <td>RCBP CAMPINAS-UNICAMP</td>\n",
       "      <td>FEMININO</td>\n",
       "      <td>1951-09-02</td>\n",
       "      <td>51.0</td>\n",
       "      <td>PARDA</td>\n",
       "      <td>BRASIL</td>\n",
       "      <td>S�O PAULO</td>\n",
       "      <td>NaN</td>\n",
       "      <td>NaN</td>\n",
       "      <td>...</td>\n",
       "      <td>NaN</td>\n",
       "      <td>NaN</td>\n",
       "      <td>NaN</td>\n",
       "      <td>MORTO</td>\n",
       "      <td>C�NCER</td>\n",
       "      <td>2005-07-03</td>\n",
       "      <td>2005-07-03</td>\n",
       "      <td>2003-05-16</td>\n",
       "      <td>NaN</td>\n",
       "      <td>2003.0</td>\n",
       "    </tr>\n",
       "    <tr>\n",
       "      <th>4</th>\n",
       "      <td>673745.0</td>\n",
       "      <td>RCBP CAMPINAS-UNICAMP</td>\n",
       "      <td>MASCULINO</td>\n",
       "      <td>1934-07-03</td>\n",
       "      <td>71.0</td>\n",
       "      <td>BRANCO</td>\n",
       "      <td>BRASIL</td>\n",
       "      <td>S�O PAULO</td>\n",
       "      <td>NaN</td>\n",
       "      <td>NaN</td>\n",
       "      <td>...</td>\n",
       "      <td>NaN</td>\n",
       "      <td>NaN</td>\n",
       "      <td>NaN</td>\n",
       "      <td>MORTO</td>\n",
       "      <td>C�NCER</td>\n",
       "      <td>2005-10-21</td>\n",
       "      <td>2005-10-21</td>\n",
       "      <td>2005-10-21</td>\n",
       "      <td>NaN</td>\n",
       "      <td>2005.0</td>\n",
       "    </tr>\n",
       "    <tr>\n",
       "      <th>5</th>\n",
       "      <td>676350.0</td>\n",
       "      <td>RCBP CAMPINAS-UNICAMP</td>\n",
       "      <td>MASCULINO</td>\n",
       "      <td>1933-11-18</td>\n",
       "      <td>71.0</td>\n",
       "      <td>BRANCO</td>\n",
       "      <td>BRASIL</td>\n",
       "      <td>S�O PAULO</td>\n",
       "      <td>NaN</td>\n",
       "      <td>SUPERIOR COMPLETO</td>\n",
       "      <td>...</td>\n",
       "      <td>NaN</td>\n",
       "      <td>NaN</td>\n",
       "      <td>NaN</td>\n",
       "      <td>MORTO</td>\n",
       "      <td>C�NCER</td>\n",
       "      <td>2005-11-06</td>\n",
       "      <td>2005-11-06</td>\n",
       "      <td>2005-11-06</td>\n",
       "      <td>NaN</td>\n",
       "      <td>2005.0</td>\n",
       "    </tr>\n",
       "    <tr>\n",
       "      <th>6</th>\n",
       "      <td>679877.0</td>\n",
       "      <td>RCBP CAMPINAS-UNICAMP</td>\n",
       "      <td>FEMININO</td>\n",
       "      <td>1947-11-30</td>\n",
       "      <td>57.0</td>\n",
       "      <td>PARDA</td>\n",
       "      <td>BRASIL</td>\n",
       "      <td>ALAGOAS</td>\n",
       "      <td>NaN</td>\n",
       "      <td>NaN</td>\n",
       "      <td>...</td>\n",
       "      <td>NaN</td>\n",
       "      <td>NaN</td>\n",
       "      <td>NaN</td>\n",
       "      <td>MORTO</td>\n",
       "      <td>C�NCER</td>\n",
       "      <td>2005-05-15</td>\n",
       "      <td>2005-05-15</td>\n",
       "      <td>2005-05-15</td>\n",
       "      <td>NaN</td>\n",
       "      <td>2005.0</td>\n",
       "    </tr>\n",
       "  </tbody>\n",
       "</table>\n",
       "<p>5 rows × 38 columns</p>\n",
       "</div>"
      ],
      "text/plain": [
       "   Patient.Code              RCBP.Name     Gender Date.of.Birth   Age  \\\n",
       "0      672054.0  RCBP CAMPINAS-UNICAMP  MASCULINO    1975-03-16  30.0   \n",
       "2      673396.0  RCBP CAMPINAS-UNICAMP   FEMININO    1951-09-02  51.0   \n",
       "4      673745.0  RCBP CAMPINAS-UNICAMP  MASCULINO    1934-07-03  71.0   \n",
       "5      676350.0  RCBP CAMPINAS-UNICAMP  MASCULINO    1933-11-18  71.0   \n",
       "6      679877.0  RCBP CAMPINAS-UNICAMP   FEMININO    1947-11-30  57.0   \n",
       "\n",
       "  Raca.Color Nationality Naturality.State Naturality Degree.of.Education  ...  \\\n",
       "0     BRANCO      BRASIL        S�O PAULO        NaN                 NaN  ...   \n",
       "2      PARDA      BRASIL        S�O PAULO        NaN                 NaN  ...   \n",
       "4     BRANCO      BRASIL        S�O PAULO        NaN                 NaN  ...   \n",
       "5     BRANCO      BRASIL        S�O PAULO        NaN   SUPERIOR COMPLETO  ...   \n",
       "6      PARDA      BRASIL          ALAGOAS        NaN                 NaN  ...   \n",
       "\n",
       "  Laterality  Statement  TNM Status.Vital Type.of.Death Date.of.Death  \\\n",
       "0        NaN        NaN  NaN        MORTO        C�NCER    2005-10-07   \n",
       "2        NaN        NaN  NaN        MORTO        C�NCER    2005-07-03   \n",
       "4        NaN        NaN  NaN        MORTO        C�NCER    2005-10-21   \n",
       "5        NaN        NaN  NaN        MORTO        C�NCER    2005-11-06   \n",
       "6        NaN        NaN  NaN        MORTO        C�NCER    2005-05-15   \n",
       "\n",
       "  Date.of.Last.Contact Date.of.Diagnostic  Distant.metastasis    year  \n",
       "0           2005-10-07         2005-10-07                 NaN  2005.0  \n",
       "2           2005-07-03         2003-05-16                 NaN  2003.0  \n",
       "4           2005-10-21         2005-10-21                 NaN  2005.0  \n",
       "5           2005-11-06         2005-11-06                 NaN  2005.0  \n",
       "6           2005-05-15         2005-05-15                 NaN  2005.0  \n",
       "\n",
       "[5 rows x 38 columns]"
      ]
     },
     "execution_count": 81,
     "metadata": {},
     "output_type": "execute_result"
    }
   ],
   "source": [
    "df_cancer.head()"
   ]
  },
  {
   "cell_type": "code",
   "execution_count": 82,
   "id": "c01395aa",
   "metadata": {},
   "outputs": [
    {
     "data": {
      "text/plain": [
       "C�NCER        375903\n",
       "N�O C�NCER     23376\n",
       "Name: Type.of.Death, dtype: int64"
      ]
     },
     "execution_count": 82,
     "metadata": {},
     "output_type": "execute_result"
    }
   ],
   "source": [
    "df_cancer['Type.of.Death'].value_counts()"
   ]
  },
  {
   "cell_type": "code",
   "execution_count": 83,
   "id": "d1108748",
   "metadata": {},
   "outputs": [],
   "source": [
    "df_cancer = df_cancer.drop(columns=['Child.Illness.Description', 'Child.Illness.Code', 'Description.of.Disease',\n",
    "                'Illness.Code', 'Youth.Adult.Illness.Description', 'Code.of.Disease.Adult.Young.',\n",
    "                'Patient.Code' , 'RCBP.Name', 'Date.of.Birth',\n",
    "                'TNM', 'Extension', 'Statement', 'Topography.Code', 'Morphology.Description',\n",
    "                'Code.of.Morphology', 'Description.of.Disease', 'Illness.Code', 'Description.of.Topography',\n",
    "                'Date.of.Last.Contact', 'Date.of.Diagnostic', 'Distant.metastasis', 'Code.Profession',\n",
    "                'Name.Occupation','Laterality', 'Date.of.Death','Naturality','Naturality.State', 'Status.Vital'])"
   ]
  },
  {
   "cell_type": "code",
   "execution_count": 84,
   "id": "b4fb5c2e",
   "metadata": {},
   "outputs": [],
   "source": [
    "df_cancer = df_cancer[df_cancer['Age'] <= 120]"
   ]
  },
  {
   "cell_type": "code",
   "execution_count": 85,
   "id": "f5d20330",
   "metadata": {},
   "outputs": [
    {
     "data": {
      "text/plain": [
       "FUNDAMENTAL I (1� A 4� S�RIE)     66856\n",
       "FUNDAMENTAL II (5� A 8� S�RIE)    49791\n",
       "M�DIO (ANTIGO SEGUNDO GRAU)       43592\n",
       "SUPERIOR COMPLETO                 29774\n",
       "SEM ESCOLARIDADE                  26144\n",
       "SUPERIOR INCOMPLETO                1800\n",
       "Name: Degree.of.Education, dtype: int64"
      ]
     },
     "execution_count": 85,
     "metadata": {},
     "output_type": "execute_result"
    }
   ],
   "source": [
    "df_cancer['Degree.of.Education'].value_counts()"
   ]
  },
  {
   "cell_type": "code",
   "execution_count": 86,
   "id": "b39476d1",
   "metadata": {},
   "outputs": [
    {
     "data": {
      "text/plain": [
       "CASADO                    151033\n",
       "SOLTEIRO                   68053\n",
       "VI�VO                      63383\n",
       "SEPARADO JUDICIALMENTE     21271\n",
       "UNI�O CONSENSUAL            6444\n",
       "Name: State.Civil, dtype: int64"
      ]
     },
     "execution_count": 86,
     "metadata": {},
     "output_type": "execute_result"
    }
   ],
   "source": [
    "df_cancer['State.Civil'].value_counts()"
   ]
  },
  {
   "cell_type": "code",
   "execution_count": 87,
   "id": "841eb5b6",
   "metadata": {},
   "outputs": [],
   "source": [
    "df_cancer = df_cancer[df_cancer['Diagnostic.means'].notna()]\n",
    "df_cancer = df_cancer[df_cancer['Indicator.of.Rare.Case'].notna()]\n",
    "df_cancer = df_cancer[df_cancer['Degree.of.Education'].notna()]\n",
    "\n",
    "\n",
    "df_cancer['Raca.Color'] = df_cancer['Raca.Color'].fillna('BRANCO')\n",
    "df_cancer['Nationality'] = df_cancer['Nationality'].fillna('BRASIL')\n",
    "df_cancer['State.Civil'] = df_cancer['State.Civil'].fillna('CASADO')"
   ]
  },
  {
   "cell_type": "code",
   "execution_count": 88,
   "id": "3ce96a3c",
   "metadata": {},
   "outputs": [],
   "source": [
    "df_cancer['Degree.of.Education'] = df_cancer['Degree.of.Education'].replace(regex={r'^FUNDAMENTAL I .1. A 4. S.RIE.$': 'Fundamental I',\n",
    "                  r'^FUNDAMENTAL II .5. A 8. S.RIE.$': 'Fundamental II',\n",
    "                 r'^M.DIO .ANTIGO SEGUNDO GRAU.$': 'Former Second Degree',\n",
    "                 'SEM ESCOLARIDADE': 'Without Education', 'SUPERIOR COMPLETO' : 'Graduated',\n",
    "                 'SUPERIOR INCOMPLETO' : 'Incomplete High'})\n",
    "\n"
   ]
  },
  {
   "cell_type": "code",
   "execution_count": 89,
   "id": "ab599406",
   "metadata": {},
   "outputs": [],
   "source": [
    "df_cancer['Type.of.Death'] = df_cancer['Type.of.Death'].replace(regex={r'^C.NCER$': 'Cancer', r'^N.O C.NCER$': 'No Cancer'})\n",
    "\n",
    "df_cancer['Gender'] = df_cancer['Gender'].replace(regex={r'^MASCULINO$': 'Male', r'^FEMININO$': 'Female', r'^IGNORADO$' : 'Ignored'})\n",
    "\n"
   ]
  },
  {
   "cell_type": "code",
   "execution_count": 90,
   "id": "94897e2e",
   "metadata": {},
   "outputs": [],
   "source": [
    "df_cancer.rename(columns={'State.Civil' : 'Legal_Status',\n",
    "                  'Degree.of.Education' : 'Education',\n",
    "                   'Type.of.Death' : 'Type_of_Death', 'Status.Address' : 'Status_Address',\n",
    "                   'City.Address' : 'City_Address', 'Diagnostic.means' : 'Diagnostic_means',\n",
    "                  'Raca.Color' : 'Race_Color', 'Indicator.of.Rare.Case' : 'Rare_Case'}, inplace=True)"
   ]
  },
  {
   "cell_type": "code",
   "execution_count": 91,
   "id": "83280659",
   "metadata": {},
   "outputs": [],
   "source": [
    "dummy_df = pd.get_dummies(df_cancer[['Gender', 'Type_of_Death', 'Education', 'Race_Color', 'Legal_Status']],\n",
    "                             dummy_na = False, drop_first = [True])\n",
    "\n",
    "df_cancer = pd.concat([df_cancer, dummy_df], axis = 1)"
   ]
  },
  {
   "cell_type": "code",
   "execution_count": 92,
   "id": "e4f84900",
   "metadata": {},
   "outputs": [
    {
     "data": {
      "text/plain": [
       "Gender                                 0\n",
       "Age                                    0\n",
       "Race_Color                             0\n",
       "Nationality                            0\n",
       "Education                              0\n",
       "Legal_Status                           0\n",
       "Status_Address                         0\n",
       "City_Address                           0\n",
       "Rare_Case                              0\n",
       "Diagnostic_means                       0\n",
       "Type_of_Death                          0\n",
       "year                                   0\n",
       "Gender_Ignored                         0\n",
       "Gender_Male                            0\n",
       "Type_of_Death_No Cancer                0\n",
       "Education_Fundamental I                0\n",
       "Education_Fundamental II               0\n",
       "Education_Graduated                    0\n",
       "Education_Incomplete High              0\n",
       "Education_Without Education            0\n",
       "Race_Color_BRANCO                      0\n",
       "Race_Color_IND�GENA                    0\n",
       "Race_Color_PARDA                       0\n",
       "Race_Color_PRETA                       0\n",
       "Legal_Status_SEPARADO JUDICIALMENTE    0\n",
       "Legal_Status_SOLTEIRO                  0\n",
       "Legal_Status_UNI�O CONSENSUAL          0\n",
       "Legal_Status_VI�VO                     0\n",
       "dtype: int64"
      ]
     },
     "execution_count": 92,
     "metadata": {},
     "output_type": "execute_result"
    }
   ],
   "source": [
    "df_cancer.isna().sum()"
   ]
  },
  {
   "cell_type": "code",
   "execution_count": 93,
   "id": "c109bcd7",
   "metadata": {},
   "outputs": [],
   "source": [
    "df_cancer.rename(columns={'Type_of_Death_No Cancer': 'has_No_Cancer'}, inplace=True)"
   ]
  },
  {
   "cell_type": "code",
   "execution_count": 94,
   "id": "fc22cf21",
   "metadata": {},
   "outputs": [],
   "source": [
    "train, validate, test = train_validate_test_split(df_cancer, 'Type_of_Death')"
   ]
  },
  {
   "cell_type": "code",
   "execution_count": 95,
   "id": "f1855c12",
   "metadata": {},
   "outputs": [
    {
     "data": {
      "text/html": [
       "<div>\n",
       "<style scoped>\n",
       "    .dataframe tbody tr th:only-of-type {\n",
       "        vertical-align: middle;\n",
       "    }\n",
       "\n",
       "    .dataframe tbody tr th {\n",
       "        vertical-align: top;\n",
       "    }\n",
       "\n",
       "    .dataframe thead th {\n",
       "        text-align: right;\n",
       "    }\n",
       "</style>\n",
       "<table border=\"1\" class=\"dataframe\">\n",
       "  <thead>\n",
       "    <tr style=\"text-align: right;\">\n",
       "      <th></th>\n",
       "      <th>Gender</th>\n",
       "      <th>Age</th>\n",
       "      <th>Race_Color</th>\n",
       "      <th>Nationality</th>\n",
       "      <th>Education</th>\n",
       "      <th>Legal_Status</th>\n",
       "      <th>Status_Address</th>\n",
       "      <th>City_Address</th>\n",
       "      <th>Rare_Case</th>\n",
       "      <th>Diagnostic_means</th>\n",
       "      <th>...</th>\n",
       "      <th>Education_Incomplete High</th>\n",
       "      <th>Education_Without Education</th>\n",
       "      <th>Race_Color_BRANCO</th>\n",
       "      <th>Race_Color_IND�GENA</th>\n",
       "      <th>Race_Color_PARDA</th>\n",
       "      <th>Race_Color_PRETA</th>\n",
       "      <th>Legal_Status_SEPARADO JUDICIALMENTE</th>\n",
       "      <th>Legal_Status_SOLTEIRO</th>\n",
       "      <th>Legal_Status_UNI�O CONSENSUAL</th>\n",
       "      <th>Legal_Status_VI�VO</th>\n",
       "    </tr>\n",
       "  </thead>\n",
       "  <tbody>\n",
       "    <tr>\n",
       "      <th>1566782</th>\n",
       "      <td>Male</td>\n",
       "      <td>67.0</td>\n",
       "      <td>BRANCO</td>\n",
       "      <td>BRASIL</td>\n",
       "      <td>Fundamental II</td>\n",
       "      <td>CASADO</td>\n",
       "      <td>S�O PAULO</td>\n",
       "      <td>VIRADOURO</td>\n",
       "      <td>False</td>\n",
       "      <td>HISTOLOGIA DO TUMOR PRIM�RIO</td>\n",
       "      <td>...</td>\n",
       "      <td>0</td>\n",
       "      <td>0</td>\n",
       "      <td>1</td>\n",
       "      <td>0</td>\n",
       "      <td>0</td>\n",
       "      <td>0</td>\n",
       "      <td>0</td>\n",
       "      <td>0</td>\n",
       "      <td>0</td>\n",
       "      <td>0</td>\n",
       "    </tr>\n",
       "    <tr>\n",
       "      <th>1755729</th>\n",
       "      <td>Male</td>\n",
       "      <td>62.0</td>\n",
       "      <td>PARDA</td>\n",
       "      <td>BRASIL</td>\n",
       "      <td>Former Second Degree</td>\n",
       "      <td>CASADO</td>\n",
       "      <td>RONDONIA</td>\n",
       "      <td>S�O FRANCISCO DO GUAPOR�</td>\n",
       "      <td>False</td>\n",
       "      <td>HISTOLOGIA DO TUMOR PRIM�RIO</td>\n",
       "      <td>...</td>\n",
       "      <td>0</td>\n",
       "      <td>0</td>\n",
       "      <td>0</td>\n",
       "      <td>0</td>\n",
       "      <td>1</td>\n",
       "      <td>0</td>\n",
       "      <td>0</td>\n",
       "      <td>0</td>\n",
       "      <td>0</td>\n",
       "      <td>0</td>\n",
       "    </tr>\n",
       "    <tr>\n",
       "      <th>495077</th>\n",
       "      <td>Male</td>\n",
       "      <td>87.0</td>\n",
       "      <td>BRANCO</td>\n",
       "      <td>BRASIL</td>\n",
       "      <td>Fundamental II</td>\n",
       "      <td>CASADO</td>\n",
       "      <td>MATO GROSSO</td>\n",
       "      <td>CUIAB�</td>\n",
       "      <td>False</td>\n",
       "      <td>HISTOLOGIA DO TUMOR PRIM�RIO</td>\n",
       "      <td>...</td>\n",
       "      <td>0</td>\n",
       "      <td>0</td>\n",
       "      <td>1</td>\n",
       "      <td>0</td>\n",
       "      <td>0</td>\n",
       "      <td>0</td>\n",
       "      <td>0</td>\n",
       "      <td>0</td>\n",
       "      <td>0</td>\n",
       "      <td>0</td>\n",
       "    </tr>\n",
       "    <tr>\n",
       "      <th>1621704</th>\n",
       "      <td>Male</td>\n",
       "      <td>87.0</td>\n",
       "      <td>PARDA</td>\n",
       "      <td>BRASIL</td>\n",
       "      <td>Fundamental I</td>\n",
       "      <td>CASADO</td>\n",
       "      <td>CEAR�</td>\n",
       "      <td>FORTALEZA</td>\n",
       "      <td>False</td>\n",
       "      <td>HISTOLOGIA DO TUMOR PRIM�RIO</td>\n",
       "      <td>...</td>\n",
       "      <td>0</td>\n",
       "      <td>0</td>\n",
       "      <td>0</td>\n",
       "      <td>0</td>\n",
       "      <td>1</td>\n",
       "      <td>0</td>\n",
       "      <td>0</td>\n",
       "      <td>0</td>\n",
       "      <td>0</td>\n",
       "      <td>0</td>\n",
       "    </tr>\n",
       "    <tr>\n",
       "      <th>1507590</th>\n",
       "      <td>Female</td>\n",
       "      <td>87.0</td>\n",
       "      <td>BRANCO</td>\n",
       "      <td>BRASIL</td>\n",
       "      <td>Without Education</td>\n",
       "      <td>VI�VO</td>\n",
       "      <td>MATO GROSSO</td>\n",
       "      <td>JUSCIMEIRA</td>\n",
       "      <td>False</td>\n",
       "      <td>HISTOLOGIA DO TUMOR PRIM�RIO</td>\n",
       "      <td>...</td>\n",
       "      <td>0</td>\n",
       "      <td>1</td>\n",
       "      <td>1</td>\n",
       "      <td>0</td>\n",
       "      <td>0</td>\n",
       "      <td>0</td>\n",
       "      <td>0</td>\n",
       "      <td>0</td>\n",
       "      <td>0</td>\n",
       "      <td>1</td>\n",
       "    </tr>\n",
       "  </tbody>\n",
       "</table>\n",
       "<p>5 rows × 28 columns</p>\n",
       "</div>"
      ],
      "text/plain": [
       "         Gender   Age Race_Color Nationality             Education  \\\n",
       "1566782    Male  67.0     BRANCO      BRASIL        Fundamental II   \n",
       "1755729    Male  62.0      PARDA      BRASIL  Former Second Degree   \n",
       "495077     Male  87.0     BRANCO      BRASIL        Fundamental II   \n",
       "1621704    Male  87.0      PARDA      BRASIL         Fundamental I   \n",
       "1507590  Female  87.0     BRANCO      BRASIL     Without Education   \n",
       "\n",
       "        Legal_Status Status_Address              City_Address Rare_Case  \\\n",
       "1566782       CASADO      S�O PAULO                 VIRADOURO     False   \n",
       "1755729       CASADO       RONDONIA  S�O FRANCISCO DO GUAPOR�     False   \n",
       "495077        CASADO   MATO GROSSO                     CUIAB�     False   \n",
       "1621704       CASADO          CEAR�                 FORTALEZA     False   \n",
       "1507590        VI�VO   MATO GROSSO                 JUSCIMEIRA     False   \n",
       "\n",
       "                     Diagnostic_means  ... Education_Incomplete High  \\\n",
       "1566782  HISTOLOGIA DO TUMOR PRIM�RIO  ...                         0   \n",
       "1755729  HISTOLOGIA DO TUMOR PRIM�RIO  ...                         0   \n",
       "495077   HISTOLOGIA DO TUMOR PRIM�RIO  ...                         0   \n",
       "1621704  HISTOLOGIA DO TUMOR PRIM�RIO  ...                         0   \n",
       "1507590  HISTOLOGIA DO TUMOR PRIM�RIO  ...                         0   \n",
       "\n",
       "         Education_Without Education  Race_Color_BRANCO  Race_Color_IND�GENA  \\\n",
       "1566782                            0                  1                    0   \n",
       "1755729                            0                  0                    0   \n",
       "495077                             0                  1                    0   \n",
       "1621704                            0                  0                    0   \n",
       "1507590                            1                  1                    0   \n",
       "\n",
       "         Race_Color_PARDA  Race_Color_PRETA  \\\n",
       "1566782                 0                 0   \n",
       "1755729                 1                 0   \n",
       "495077                  0                 0   \n",
       "1621704                 1                 0   \n",
       "1507590                 0                 0   \n",
       "\n",
       "         Legal_Status_SEPARADO JUDICIALMENTE  Legal_Status_SOLTEIRO  \\\n",
       "1566782                                    0                      0   \n",
       "1755729                                    0                      0   \n",
       "495077                                     0                      0   \n",
       "1621704                                    0                      0   \n",
       "1507590                                    0                      0   \n",
       "\n",
       "         Legal_Status_UNI�O CONSENSUAL  Legal_Status_VI�VO  \n",
       "1566782                              0                   0  \n",
       "1755729                              0                   0  \n",
       "495077                               0                   0  \n",
       "1621704                              0                   0  \n",
       "1507590                              0                   1  \n",
       "\n",
       "[5 rows x 28 columns]"
      ]
     },
     "execution_count": 95,
     "metadata": {},
     "output_type": "execute_result"
    }
   ],
   "source": [
    "train.head()"
   ]
  },
  {
   "cell_type": "code",
   "execution_count": 45,
   "id": "f3f70ba8",
   "metadata": {},
   "outputs": [
    {
     "data": {
      "text/plain": [
       "Counter({'Cancer': 114385, 'No Cancer': 6328})"
      ]
     },
     "execution_count": 45,
     "metadata": {},
     "output_type": "execute_result"
    }
   ],
   "source": [
    "Counter(train.Type_of_Death)"
   ]
  },
  {
   "cell_type": "code",
   "execution_count": 27,
   "id": "ff1cf468",
   "metadata": {},
   "outputs": [],
   "source": [
    "# define pipeline\n",
    "#over = SMOTE(sampling_strategy=0.1)\n",
    "#under = RandomUnderSampler(sampling_strategy=0.5)\n",
    "#steps = [('o', over), ('u', under)]\n",
    "#pipeline = Pipeline(steps=steps)\n",
    "# transform the dataset\n",
    "#train = pipeline.fit_resample(train)\n"
   ]
  },
  {
   "cell_type": "code",
   "execution_count": 47,
   "id": "68276647",
   "metadata": {},
   "outputs": [
    {
     "data": {
      "text/html": [
       "<div>\n",
       "<style scoped>\n",
       "    .dataframe tbody tr th:only-of-type {\n",
       "        vertical-align: middle;\n",
       "    }\n",
       "\n",
       "    .dataframe tbody tr th {\n",
       "        vertical-align: top;\n",
       "    }\n",
       "\n",
       "    .dataframe thead th {\n",
       "        text-align: right;\n",
       "    }\n",
       "</style>\n",
       "<table border=\"1\" class=\"dataframe\">\n",
       "  <thead>\n",
       "    <tr style=\"text-align: right;\">\n",
       "      <th>has_No_Cancer</th>\n",
       "      <th>0</th>\n",
       "      <th>1</th>\n",
       "    </tr>\n",
       "    <tr>\n",
       "      <th>Type_of_Death</th>\n",
       "      <th></th>\n",
       "      <th></th>\n",
       "    </tr>\n",
       "  </thead>\n",
       "  <tbody>\n",
       "    <tr>\n",
       "      <th>Cancer</th>\n",
       "      <td>114385</td>\n",
       "      <td>0</td>\n",
       "    </tr>\n",
       "    <tr>\n",
       "      <th>No Cancer</th>\n",
       "      <td>0</td>\n",
       "      <td>6328</td>\n",
       "    </tr>\n",
       "  </tbody>\n",
       "</table>\n",
       "</div>"
      ],
      "text/plain": [
       "has_No_Cancer       0     1\n",
       "Type_of_Death              \n",
       "Cancer         114385     0\n",
       "No Cancer           0  6328"
      ]
     },
     "execution_count": 47,
     "metadata": {},
     "output_type": "execute_result"
    }
   ],
   "source": [
    "pd.crosstab(train['Type_of_Death'], train['has_No_Cancer'])"
   ]
  },
  {
   "cell_type": "markdown",
   "id": "d847345a",
   "metadata": {},
   "source": [
    "# Legal Status their cancer rates"
   ]
  },
  {
   "cell_type": "code",
   "execution_count": 49,
   "id": "59c9a97f",
   "metadata": {},
   "outputs": [
    {
     "data": {
      "text/plain": [
       "<AxesSubplot:title={'center':'Legal Status and their cancer rates'}, xlabel='Legal_Status', ylabel='has_No_Cancer'>"
      ]
     },
     "execution_count": 49,
     "metadata": {},
     "output_type": "execute_result"
    },
    {
     "data": {
      "image/png": "[encoded data removed]",
      "text/plain": [
       "<Figure size 1080x576 with 1 Axes>"
      ]
     },
     "metadata": {
      "needs_background": "light"
     },
     "output_type": "display_data"
    }
   ],
   "source": [
    "plt.figure(figsize=(15,8))\n",
    "plt.title('Legal Status and their cancer rates')\n",
    "sns.barplot(x = 'Legal_Status', y = 'has_No_Cancer', data = train)"
   ]
  },
  {
   "cell_type": "code",
   "execution_count": null,
   "id": "10401490",
   "metadata": {},
   "outputs": [],
   "source": []
  },
  {
   "cell_type": "markdown",
   "id": "9317755a",
   "metadata": {},
   "source": [
    "# Race/Color and those with no cancer"
   ]
  },
  {
   "cell_type": "code",
   "execution_count": 57,
   "id": "f4c70f98",
   "metadata": {},
   "outputs": [
    {
     "data": {
      "text/plain": [
       "<AxesSubplot:title={'center':'Race/Color and their cancer rates'}, xlabel='Race_Color', ylabel='has_No_Cancer'>"
      ]
     },
     "execution_count": 57,
     "metadata": {},
     "output_type": "execute_result"
    },
    {
     "data": {
      "image/png": "[encoded data removed]",
      "text/plain": [
       "<Figure size 1080x576 with 1 Axes>"
      ]
     },
     "metadata": {
      "needs_background": "light"
     },
     "output_type": "display_data"
    }
   ],
   "source": [
    "plt.figure(figsize=(15,8))\n",
    "plt.title('Race/Color and their cancer rates')\n",
    "sns.barplot(x = 'Race_Color', y = 'has_No_Cancer', data = train)"
   ]
  },
  {
   "cell_type": "code",
   "execution_count": 96,
   "id": "812cddf7",
   "metadata": {},
   "outputs": [
    {
     "data": {
      "text/plain": [
       "<AxesSubplot:title={'center':'Branco and their cancer rates'}, xlabel='Race_Color_BRANCO', ylabel='has_No_Cancer'>"
      ]
     },
     "execution_count": 96,
     "metadata": {},
     "output_type": "execute_result"
    },
    {
     "data": {
      "image/png": "[encoded data removed]",
      "text/plain": [
       "<Figure size 1080x576 with 1 Axes>"
      ]
     },
     "metadata": {
      "needs_background": "light"
     },
     "output_type": "display_data"
    }
   ],
   "source": [
    "plt.figure(figsize=(15,8))\n",
    "plt.title('Branco and their cancer rates')\n",
    "sns.barplot(x = 'Race_Color_BRANCO', y = 'has_No_Cancer', data = train)"
   ]
  },
  {
   "cell_type": "code",
   "execution_count": 97,
   "id": "24506fdc",
   "metadata": {},
   "outputs": [
    {
     "name": "stdout",
     "output_type": "stream",
     "text": [
      "Observed\n",
      "has_No_Cancer          0     1\n",
      "Race_Color_BRANCO             \n",
      "0                  53769  1417\n",
      "1                  60616  4911\n",
      "--------------------------------------\n",
      "---\n",
      "Expected\n",
      "[[52293.04722772  2892.95277228]\n",
      " [62091.95277228  3435.04722772]]\n",
      "--------------------------------------\n",
      "---\n",
      "\n",
      "chi^2 = 1462.9450\n",
      "p     = 0.000000000000\n"
     ]
    }
   ],
   "source": [
    "observed = pd.crosstab(train['Race_Color_BRANCO'], train.has_No_Cancer)\n",
    "chi, p, degrf, expected = stats.chi2_contingency(observed)\n",
    "\n",
    "print('Observed')\n",
    "print(observed)\n",
    "print(\"--------------------------------------\")\n",
    "print('---\\nExpected')\n",
    "print(expected)\n",
    "print(\"--------------------------------------\")\n",
    "print('---\\n')\n",
    "print(f'chi^2 = {chi:.4f}')\n",
    "print(f'p     = {p:.12f}')"
   ]
  },
  {
   "cell_type": "markdown",
   "id": "55ac14c2",
   "metadata": {},
   "source": [
    "# Which education bracket has mostly no cancer patients and is signifcant?"
   ]
  },
  {
   "cell_type": "code",
   "execution_count": 53,
   "id": "8bdf26a7",
   "metadata": {},
   "outputs": [
    {
     "data": {
      "text/plain": [
       "<seaborn.axisgrid.FacetGrid at 0x7fd52e7f3400>"
      ]
     },
     "execution_count": 53,
     "metadata": {},
     "output_type": "execute_result"
    },
    {
     "data": {
      "image/png": "[encoded data removed]",
      "text/plain": [
       "<Figure size 948.375x576 with 1 Axes>"
      ]
     },
     "metadata": {
      "needs_background": "light"
     },
     "output_type": "display_data"
    }
   ],
   "source": [
    "sns.displot(x = 'Education', data = train, hue = 'has_No_Cancer', alpha = 0.5, multiple = 'stack',\n",
    "            height=8, aspect=12/8)"
   ]
  },
  {
   "cell_type": "code",
   "execution_count": 98,
   "id": "41bd5f95",
   "metadata": {},
   "outputs": [
    {
     "data": {
      "text/plain": [
       "<AxesSubplot:title={'center':'Education Fundamental I and their cancer rates'}, xlabel='Education_Fundamental I', ylabel='has_No_Cancer'>"
      ]
     },
     "execution_count": 98,
     "metadata": {},
     "output_type": "execute_result"
    },
    {
     "data": {
      "image/png": "[encoded data removed]",
      "text/plain": [
       "<Figure size 1080x576 with 1 Axes>"
      ]
     },
     "metadata": {
      "needs_background": "light"
     },
     "output_type": "display_data"
    }
   ],
   "source": [
    "plt.figure(figsize=(15,8))\n",
    "plt.title('Education Fundamental I and their cancer rates')\n",
    "sns.barplot(x = 'Education_Fundamental I', y = 'has_No_Cancer', data = train)"
   ]
  },
  {
   "cell_type": "code",
   "execution_count": 99,
   "id": "e9c086bc",
   "metadata": {},
   "outputs": [
    {
     "name": "stdout",
     "output_type": "stream",
     "text": [
      "Observed\n",
      "has_No_Cancer                0     1\n",
      "Education_Fundamental I             \n",
      "0                        80196  3452\n",
      "1                        34189  2876\n",
      "--------------------------------------\n",
      "---\n",
      "Expected\n",
      "[[79263.01624514  4384.98375486]\n",
      " [35121.98375486  1943.01624514]]\n",
      "--------------------------------------\n",
      "---\n",
      "\n",
      "chi^2 = 681.5372\n",
      "p     = 0.000000000000\n"
     ]
    }
   ],
   "source": [
    "observed = pd.crosstab(train['Education_Fundamental I'], train.has_No_Cancer)\n",
    "chi, p, degrf, expected = stats.chi2_contingency(observed)\n",
    "\n",
    "print('Observed')\n",
    "print(observed)\n",
    "print(\"--------------------------------------\")\n",
    "print('---\\nExpected')\n",
    "print(expected)\n",
    "print(\"--------------------------------------\")\n",
    "print('---\\n')\n",
    "print(f'chi^2 = {chi:.4f}')\n",
    "print(f'p     = {p:.12f}')"
   ]
  },
  {
   "cell_type": "markdown",
   "id": "f141e957",
   "metadata": {},
   "source": [
    "# Is being male a reason for no cancer?"
   ]
  },
  {
   "cell_type": "code",
   "execution_count": 56,
   "id": "21d29a27",
   "metadata": {},
   "outputs": [
    {
     "data": {
      "text/plain": [
       "<AxesSubplot:title={'center':'Male or not and their cancer rates'}, xlabel='Gender_Male', ylabel='has_No_Cancer'>"
      ]
     },
     "execution_count": 56,
     "metadata": {},
     "output_type": "execute_result"
    },
    {
     "data": {
      "image/png": "[encoded data removed]",
      "text/plain": [
       "<Figure size 1080x576 with 1 Axes>"
      ]
     },
     "metadata": {
      "needs_background": "light"
     },
     "output_type": "display_data"
    }
   ],
   "source": [
    "plt.figure(figsize=(15,8))\n",
    "plt.title('Male or not and their cancer rates')\n",
    "sns.barplot(x = 'Gender_Male', y = 'has_No_Cancer', data = train)"
   ]
  },
  {
   "cell_type": "code",
   "execution_count": 62,
   "id": "3bb8db3e",
   "metadata": {},
   "outputs": [
    {
     "name": "stdout",
     "output_type": "stream",
     "text": [
      "Observed\n",
      "has_No_Cancer      0     1\n",
      "Gender_Male               \n",
      "0              56010  2807\n",
      "1              58375  3521\n",
      "--------------------------------------\n",
      "---\n",
      "Expected\n",
      "[[55733.70345365  3083.29654635]\n",
      " [58651.29654635  3244.70345365]]\n",
      "--------------------------------------\n",
      "---\n",
      "\n",
      "chi^2 = 50.7737\n",
      "p     = 0.000000000001\n"
     ]
    }
   ],
   "source": [
    "observed = pd.crosstab(train['Gender_Male'], train.has_No_Cancer)\n",
    "chi, p, degrf, expected = stats.chi2_contingency(observed)\n",
    "\n",
    "print('Observed')\n",
    "print(observed)\n",
    "print(\"--------------------------------------\")\n",
    "print('---\\nExpected')\n",
    "print(expected)\n",
    "print(\"--------------------------------------\")\n",
    "print('---\\n')\n",
    "print(f'chi^2 = {chi:.4f}')\n",
    "print(f'p     = {p:.12f}')"
   ]
  },
  {
   "cell_type": "markdown",
   "id": "4798c2fe",
   "metadata": {},
   "source": [
    "# Create a baseline"
   ]
  },
  {
   "cell_type": "code",
   "execution_count": 100,
   "id": "52110b0d",
   "metadata": {},
   "outputs": [],
   "source": [
    "train['baseline'] = 0\n",
    "\n",
    "validate['baseline'] = 0\n",
    "\n",
    "test['baseline'] = 0"
   ]
  },
  {
   "cell_type": "code",
   "execution_count": 101,
   "id": "6a851b47",
   "metadata": {},
   "outputs": [
    {
     "name": "stdout",
     "output_type": "stream",
     "text": [
      "baseline train accuracy: 94.76%\n",
      "baseline validate accuracy: 94.76%\n",
      "baseline test accuracy: 94.76%\n"
     ]
    }
   ],
   "source": [
    "baseline_accuracy = (train.has_No_Cancer == train.baseline).mean()\n",
    "print(f'baseline train accuracy: {baseline_accuracy:.2%}')\n",
    "\n",
    "baseline_accuracy = (validate.has_No_Cancer == validate.baseline).mean()\n",
    "print(f'baseline validate accuracy: {baseline_accuracy:.2%}')\n",
    "\n",
    "baseline_accuracy = (test.has_No_Cancer == test.baseline).mean()\n",
    "print(f'baseline test accuracy: {baseline_accuracy:.2%}')"
   ]
  },
  {
   "cell_type": "code",
   "execution_count": 180,
   "id": "4fd55a32",
   "metadata": {},
   "outputs": [],
   "source": [
    "X_train = train.drop(columns = ['has_No_Cancer', 'baseline', 'Gender', 'Age', 'Nationality',\n",
    "                               'Education', 'Legal_Status', 'Status_Address', 'City_Address',\n",
    "                               'Rare_Case', 'Diagnostic_means', 'Type_of_Death', 'year', 'Race_Color'])\n",
    "y_train = train[['has_No_Cancer']]\n",
    "\n",
    "\n",
    "X_validate = validate.drop(columns = ['has_No_Cancer', 'baseline', 'Gender', 'Age', 'Nationality',\n",
    "                               'Education', 'Legal_Status', 'Status_Address', 'City_Address',\n",
    "                               'Rare_Case', 'Diagnostic_means', 'Type_of_Death', 'year', 'Race_Color'])\n",
    "y_validate = validate[['has_No_Cancer']]\n",
    "\n",
    "X_test = test.drop(columns = ['has_No_Cancer', 'baseline', 'Gender', 'Age', 'Nationality',\n",
    "                               'Education', 'Legal_Status', 'Status_Address', 'City_Address',\n",
    "                               'Rare_Case', 'Diagnostic_means', 'Type_of_Death', 'year', 'Race_Color'])\n",
    "y_test = test[['has_No_Cancer']]"
   ]
  },
  {
   "cell_type": "markdown",
   "id": "4172ad93",
   "metadata": {},
   "source": [
    "# RANdom forest w/o SMOTE"
   ]
  },
  {
   "cell_type": "code",
   "execution_count": 163,
   "id": "2bb38105",
   "metadata": {},
   "outputs": [],
   "source": [
    "ranf = RandomForestClassifier(max_depth=10, min_samples_leaf=1, random_state= 123)\n",
    "ranf = ranf.fit(X_train, y_train)"
   ]
  },
  {
   "cell_type": "code",
   "execution_count": 164,
   "id": "bf7f18e0",
   "metadata": {},
   "outputs": [],
   "source": [
    "y_pred = ranf.predict(X_train)"
   ]
  },
  {
   "cell_type": "code",
   "execution_count": 165,
   "id": "9c4ec90a",
   "metadata": {},
   "outputs": [],
   "source": [
    "y_pred_proba = ranf.predict_proba(X_train)"
   ]
  },
  {
   "cell_type": "code",
   "execution_count": 166,
   "id": "153496e4",
   "metadata": {},
   "outputs": [
    {
     "name": "stdout",
     "output_type": "stream",
     "text": [
      "Accuracy of random forest #1 classifier on training set: 0.9476\n"
     ]
    }
   ],
   "source": [
    "print('Accuracy of random forest #1 classifier on training set: {:.4f}'\n",
    "     .format(ranf.score(X_train, y_train)))"
   ]
  },
  {
   "cell_type": "code",
   "execution_count": 167,
   "id": "994f152c",
   "metadata": {},
   "outputs": [
    {
     "name": "stdout",
     "output_type": "stream",
     "text": [
      "              precision    recall  f1-score   support\n",
      "\n",
      "           0       0.95      1.00      0.97    114385\n",
      "           1       1.00      0.00      0.00      6328\n",
      "\n",
      "    accuracy                           0.95    120713\n",
      "   macro avg       0.97      0.50      0.49    120713\n",
      "weighted avg       0.95      0.95      0.92    120713\n",
      "\n"
     ]
    }
   ],
   "source": [
    "# Compare actual y values (from validate) to predicted y_values from the model run on X_validate\n",
    "print(classification_report(y_train, y_pred))"
   ]
  },
  {
   "cell_type": "markdown",
   "id": "daab5325",
   "metadata": {},
   "source": [
    "# KNN W/O SMOTE"
   ]
  },
  {
   "cell_type": "code",
   "execution_count": 168,
   "id": "45924e75",
   "metadata": {},
   "outputs": [],
   "source": [
    "knn1 = KNeighborsClassifier()\n",
    "\n",
    "knn1 = knn1.fit(X_train, y_train)"
   ]
  },
  {
   "cell_type": "code",
   "execution_count": 169,
   "id": "ca9510e6",
   "metadata": {},
   "outputs": [
    {
     "name": "stdout",
     "output_type": "stream",
     "text": [
      "The #1 KNN model has an accuracy:  0.91\n"
     ]
    }
   ],
   "source": [
    "accuracy1 = knn1.score(X_train, y_train)\n",
    "print(\"The #1 KNN model has an accuracy: \", round(accuracy1, 3))"
   ]
  },
  {
   "cell_type": "code",
   "execution_count": 170,
   "id": "909133ef",
   "metadata": {},
   "outputs": [
    {
     "name": "stdout",
     "output_type": "stream",
     "text": [
      "              precision    recall  f1-score   support\n",
      "\n",
      "           0       0.95      0.95      0.95    114385\n",
      "           1       0.16      0.16      0.16      6328\n",
      "\n",
      "    accuracy                           0.91    120713\n",
      "   macro avg       0.55      0.56      0.56    120713\n",
      "weighted avg       0.91      0.91      0.91    120713\n",
      "\n"
     ]
    }
   ],
   "source": [
    "# Produce y_predictions that come from the X_validate\n",
    "y_pred_knn = knn1.predict(X_train)\n",
    "\n",
    "# Compare actual y values (from validate) to predicted y_values from the model run on X_validate\n",
    "print(classification_report(y_train, y_pred_knn))"
   ]
  },
  {
   "cell_type": "markdown",
   "id": "61b7a183",
   "metadata": {},
   "source": [
    "# SMOTE"
   ]
  },
  {
   "cell_type": "code",
   "execution_count": null,
   "id": "99bc37a9",
   "metadata": {},
   "outputs": [],
   "source": [
    "### Data is skewed to favor for cancer so lets change the size and see if we get a different result\n",
    "## Explain briefly "
   ]
  },
  {
   "cell_type": "code",
   "execution_count": 181,
   "id": "0071264a",
   "metadata": {},
   "outputs": [],
   "source": [
    "sm = SMOTE(random_state=123)\n",
    "X_train_res, y_train_res = sm.fit_resample(X_train, y_train)\n",
    "\n",
    "X_validate_res, y_validate_res = sm.fit_resample(X_validate, y_validate)\n",
    "\n",
    "X_test_res, y_test_res = sm.fit_resample(X_test, y_test)"
   ]
  },
  {
   "cell_type": "markdown",
   "id": "c9211eb6",
   "metadata": {},
   "source": [
    "# KNN w/ SMOTE"
   ]
  },
  {
   "cell_type": "code",
   "execution_count": 172,
   "id": "f8a7ab14",
   "metadata": {},
   "outputs": [],
   "source": [
    "knn1_res = knn1.fit(X_train_res, y_train_res)"
   ]
  },
  {
   "cell_type": "code",
   "execution_count": 173,
   "id": "4b668120",
   "metadata": {},
   "outputs": [
    {
     "name": "stdout",
     "output_type": "stream",
     "text": [
      "The #1 KNN model has an accuracy:  0.588\n"
     ]
    }
   ],
   "source": [
    "accuracy2 = knn1.score(X_train_res, y_train_res)\n",
    "print(\"The #1 KNN model has an accuracy: \", round(accuracy2, 3))"
   ]
  },
  {
   "cell_type": "code",
   "execution_count": 175,
   "id": "785afcf6",
   "metadata": {},
   "outputs": [
    {
     "name": "stdout",
     "output_type": "stream",
     "text": [
      "              precision    recall  f1-score   support\n",
      "\n",
      "           0       0.55      0.94      0.70    114385\n",
      "           1       0.80      0.23      0.36    114385\n",
      "\n",
      "    accuracy                           0.59    228770\n",
      "   macro avg       0.68      0.59      0.53    228770\n",
      "weighted avg       0.68      0.59      0.53    228770\n",
      "\n"
     ]
    }
   ],
   "source": [
    "# Produce y_predictions that come from the X_validate\n",
    "y_pred_knn_res = knn1_res.predict(X_train_res)\n",
    "\n",
    "# Compare actual y values (from validate) to predicted y_values from the model run on X_validate\n",
    "print(classification_report(y_train_res, y_pred_knn_res))"
   ]
  },
  {
   "cell_type": "code",
   "execution_count": null,
   "id": "dc3c3a47",
   "metadata": {},
   "outputs": [],
   "source": [
    "# identify types of anomolies\n",
    "# evaluation metric f1-score/ for finding (1)\n"
   ]
  },
  {
   "cell_type": "markdown",
   "id": "6f0eb519",
   "metadata": {},
   "source": [
    "# RANdom forest w/ smote"
   ]
  },
  {
   "cell_type": "code",
   "execution_count": 176,
   "id": "5cf4ea04",
   "metadata": {},
   "outputs": [],
   "source": [
    "ranf_res = ranf.fit(X_train_res, y_train_res)\n",
    "y_pred_ranf_res = ranf.predict(X_train_res)"
   ]
  },
  {
   "cell_type": "code",
   "execution_count": 177,
   "id": "c6032565",
   "metadata": {},
   "outputs": [
    {
     "name": "stdout",
     "output_type": "stream",
     "text": [
      "              precision    recall  f1-score   support\n",
      "\n",
      "           0       0.66      0.73      0.69    114385\n",
      "           1       0.70      0.62      0.66    114385\n",
      "\n",
      "    accuracy                           0.67    228770\n",
      "   macro avg       0.68      0.67      0.67    228770\n",
      "weighted avg       0.68      0.67      0.67    228770\n",
      "\n"
     ]
    }
   ],
   "source": [
    "# Compare actual y values (from validate) to predicted y_values from the model run on X_validate\n",
    "print(classification_report(y_train_res, y_pred_ranf_res))"
   ]
  },
  {
   "cell_type": "markdown",
   "id": "ba3d79a3",
   "metadata": {},
   "source": [
    "# Decision Tree w/ SMOTE"
   ]
  },
  {
   "cell_type": "code",
   "execution_count": 178,
   "id": "9e8f52c0",
   "metadata": {},
   "outputs": [],
   "source": [
    "clf = DecisionTreeClassifier(max_depth=3, random_state= 123)\n",
    "\n",
    "clf = clf.fit(X_train_res, y_train_res)\n",
    "\n",
    "y_pred_dec_res = clf.predict(X_train_res)"
   ]
  },
  {
   "cell_type": "code",
   "execution_count": 179,
   "id": "91ff27e3",
   "metadata": {},
   "outputs": [
    {
     "name": "stdout",
     "output_type": "stream",
     "text": [
      "              precision    recall  f1-score   support\n",
      "\n",
      "           0       0.62      0.81      0.71    114385\n",
      "           1       0.73      0.51      0.60    114385\n",
      "\n",
      "    accuracy                           0.66    228770\n",
      "   macro avg       0.68      0.66      0.65    228770\n",
      "weighted avg       0.68      0.66      0.65    228770\n",
      "\n"
     ]
    }
   ],
   "source": [
    "# Compare actual y values (from validate) to predicted y_values from the model run on X_validate\n",
    "print(classification_report(y_train_res, y_pred_dec_res))"
   ]
  },
  {
   "cell_type": "markdown",
   "id": "62e55525",
   "metadata": {},
   "source": [
    "# Validation W/ Smote"
   ]
  },
  {
   "cell_type": "markdown",
   "id": "9dff3592",
   "metadata": {},
   "source": [
    "## Knn validate w/ smote"
   ]
  },
  {
   "cell_type": "code",
   "execution_count": 187,
   "id": "898c036f",
   "metadata": {},
   "outputs": [
    {
     "name": "stdout",
     "output_type": "stream",
     "text": [
      "              precision    recall  f1-score   support\n",
      "\n",
      "           0       0.51      1.00      0.67     49023\n",
      "           1       1.00      0.03      0.05     49023\n",
      "\n",
      "    accuracy                           0.51     98046\n",
      "   macro avg       0.75      0.51      0.36     98046\n",
      "weighted avg       0.75      0.51      0.36     98046\n",
      "\n"
     ]
    }
   ],
   "source": [
    "knn1 = KNeighborsClassifier()\n",
    "knn1_res_validate = knn1.fit(X_validate_res, y_validate_res)\n",
    "\n",
    "\n",
    "# Produce y_predictions that come from the X_validate\n",
    "y_pred_knn_validate = knn1_res_validate.predict(X_validate_res)\n",
    "\n",
    "# Compare actual y values (from validate) to predicted y_values from the model run on X_validate\n",
    "print(classification_report(y_validate_res, y_pred_knn_validate))"
   ]
  },
  {
   "cell_type": "markdown",
   "id": "fc7a8a6c",
   "metadata": {},
   "source": [
    "## Random forest validate w/ smote"
   ]
  },
  {
   "cell_type": "code",
   "execution_count": 188,
   "id": "1f29c816",
   "metadata": {},
   "outputs": [
    {
     "name": "stdout",
     "output_type": "stream",
     "text": [
      "              precision    recall  f1-score   support\n",
      "\n",
      "           0       0.68      0.68      0.68     49023\n",
      "           1       0.68      0.68      0.68     49023\n",
      "\n",
      "    accuracy                           0.68     98046\n",
      "   macro avg       0.68      0.68      0.68     98046\n",
      "weighted avg       0.68      0.68      0.68     98046\n",
      "\n"
     ]
    }
   ],
   "source": [
    "ranf = RandomForestClassifier(max_depth=10, min_samples_leaf=1, random_state= 123)\n",
    "ranf_validate = ranf.fit(X_validate_res, y_validate_res)\n",
    "y_pred_ranf_validate = ranf_validate.predict(X_validate_res)\n",
    "\n",
    "# Compare actual y values (from validate) to predicted y_values from the model run on X_validate\n",
    "print(classification_report(y_validate_res, y_pred_ranf_validate))"
   ]
  },
  {
   "cell_type": "markdown",
   "id": "a7a68123",
   "metadata": {},
   "source": [
    "## Decision tree validation w/ smote"
   ]
  },
  {
   "cell_type": "code",
   "execution_count": 189,
   "id": "b40b179d",
   "metadata": {},
   "outputs": [
    {
     "name": "stdout",
     "output_type": "stream",
     "text": [
      "              precision    recall  f1-score   support\n",
      "\n",
      "           0       0.62      0.83      0.71     49023\n",
      "           1       0.74      0.48      0.58     49023\n",
      "\n",
      "    accuracy                           0.66     98046\n",
      "   macro avg       0.68      0.66      0.65     98046\n",
      "weighted avg       0.68      0.66      0.65     98046\n",
      "\n"
     ]
    }
   ],
   "source": [
    "clf = DecisionTreeClassifier(max_depth=3, random_state= 123)\n",
    "clf_validate = clf.fit(X_validate_res, y_validate_res)\n",
    "\n",
    "y_pred_dec_validate = clf_validate.predict(X_validate_res)\n",
    "\n",
    "# Compare actual y values (from validate) to predicted y_values from the model run on X_validate\n",
    "print(classification_report(y_validate_res, y_pred_dec_validate))"
   ]
  },
  {
   "cell_type": "markdown",
   "id": "25fb8626",
   "metadata": {},
   "source": [
    "# Test Decision tree Test w/ smote"
   ]
  },
  {
   "cell_type": "code",
   "execution_count": 191,
   "id": "608696e4",
   "metadata": {},
   "outputs": [
    {
     "name": "stdout",
     "output_type": "stream",
     "text": [
      "              precision    recall  f1-score   support\n",
      "\n",
      "           0       0.62      0.83      0.71     40852\n",
      "           1       0.75      0.50      0.60     40852\n",
      "\n",
      "    accuracy                           0.67     81704\n",
      "   macro avg       0.69      0.67      0.66     81704\n",
      "weighted avg       0.69      0.67      0.66     81704\n",
      "\n"
     ]
    }
   ],
   "source": [
    "clf = DecisionTreeClassifier(max_depth=3, random_state= 123)\n",
    "clf_test = clf.fit(X_test_res, y_test_res)\n",
    "\n",
    "y_pred_dec_test = clf_test.predict(X_test_res)\n",
    "\n",
    "# Compare actual y values (from validate) to predicted y_values from the model run on X_validate\n",
    "print(classification_report(y_test_res, y_pred_dec_test))"
   ]
  },
  {
   "cell_type": "markdown",
   "id": "d7e45710",
   "metadata": {},
   "source": [
    "## Key Takeaways"
   ]
  },
  {
   "cell_type": "code",
   "execution_count": null,
   "id": "4ceb03e2",
   "metadata": {},
   "outputs": [],
   "source": []
  },
  {
   "cell_type": "markdown",
   "id": "30dbaebe",
   "metadata": {},
   "source": [
    "## Recommendation"
   ]
  },
  {
   "cell_type": "code",
   "execution_count": null,
   "id": "6b2bc4b8",
   "metadata": {},
   "outputs": [],
   "source": []
  },
  {
   "cell_type": "markdown",
   "id": "4c965b45",
   "metadata": {},
   "source": [
    "## Next Steps"
   ]
  },
  {
   "cell_type": "code",
   "execution_count": null,
   "id": "362e34db",
   "metadata": {},
   "outputs": [],
   "source": []
  }
 ],
 "metadata": {
  "kernelspec": {
   "display_name": "Python 3",
   "language": "python",
   "name": "python3"
  },
  "language_info": {
   "codemirror_mode": {
    "name": "ipython",
    "version": 3
   },
   "file_extension": ".py",
   "mimetype": "text/x-python",
   "name": "python",
   "nbconvert_exporter": "python",
   "pygments_lexer": "ipython3",
   "version": "3.8.8"
  }
 },
 "nbformat": 4,
 "nbformat_minor": 5
}
