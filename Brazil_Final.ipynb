{
 "cells": [
  {
   "cell_type": "markdown",
   "id": "5a88e4c8",
   "metadata": {},
   "source": [
    "# Cancer Data from Brazil\n",
    "# Paige Guajardo"
   ]
  },
  {
   "cell_type": "markdown",
   "id": "0fc2249e",
   "metadata": {},
   "source": [
    "# Goal of my project\n",
    "* This data contains information of patients in brazil from 2000 - 2019, the goal of this project:\n",
    "    - Is to use a classification ML to help predict people without cancer\n",
    "    - Finding those drivers of no cancer"
   ]
  },
  {
   "cell_type": "code",
   "execution_count": 1,
   "id": "7954de16",
   "metadata": {},
   "outputs": [],
   "source": [
    "import acquire\n",
    "\n",
    "import pandas as pd\n",
    "\n",
    "import numpy as np\n",
    "import matplotlib.pyplot as plt\n",
    "\n",
    "# import splitting and imputing functions\n",
    "from sklearn.model_selection import train_test_split\n",
    "from sklearn.impute import SimpleImputer\n",
    "\n",
    "# turn off pink boxes for demo\n",
    "import warnings\n",
    "warnings.filterwarnings(\"ignore\")\n",
    "\n",
    "import scipy.stats as stats\n",
    "import seaborn as sns\n",
    "\n",
    "\n",
    "# decision tree evaluated on imbalanced dataset with SMOTE oversampling\n",
    "#from numpy import mean\n",
    "#from sklearn.datasets import make_classification\n",
    "from sklearn.model_selection import cross_val_score\n",
    "from sklearn.model_selection import RepeatedStratifiedKFold\n",
    "from imblearn.under_sampling import RandomUnderSampler\n",
    "from sklearn.tree import DecisionTreeClassifier\n",
    "from imblearn.pipeline import Pipeline\n",
    "from imblearn.over_sampling import SMOTE\n",
    "\n",
    "from collections import Counter\n",
    "\n",
    "from sklearn.metrics import accuracy_score\n",
    "from sklearn.metrics import classification_report\n",
    "\n",
    "from sklearn.tree import DecisionTreeClassifier\n",
    "from sklearn.ensemble import RandomForestClassifier\n",
    "from sklearn.neighbors import KNeighborsClassifier\n",
    "\n",
    "import prepare"
   ]
  },
  {
   "cell_type": "markdown",
   "id": "46825b6d",
   "metadata": {},
   "source": [
    "# Acquire: Pull an csv file from kraggle datasets from brazil"
   ]
  },
  {
   "cell_type": "code",
   "execution_count": 2,
   "id": "185d1641",
   "metadata": {},
   "outputs": [
    {
     "data": {
      "text/html": [
       "<div>\n",
       "<style scoped>\n",
       "    .dataframe tbody tr th:only-of-type {\n",
       "        vertical-align: middle;\n",
       "    }\n",
       "\n",
       "    .dataframe tbody tr th {\n",
       "        vertical-align: top;\n",
       "    }\n",
       "\n",
       "    .dataframe thead th {\n",
       "        text-align: right;\n",
       "    }\n",
       "</style>\n",
       "<table border=\"1\" class=\"dataframe\">\n",
       "  <thead>\n",
       "    <tr style=\"text-align: right;\">\n",
       "      <th></th>\n",
       "      <th>Patient.Code</th>\n",
       "      <th>RCBP.Name</th>\n",
       "      <th>Gender</th>\n",
       "      <th>Date.of.Birth</th>\n",
       "      <th>Age</th>\n",
       "      <th>Raca.Color</th>\n",
       "      <th>Nationality</th>\n",
       "      <th>Naturality.State</th>\n",
       "      <th>Naturality</th>\n",
       "      <th>Degree.of.Education</th>\n",
       "      <th>...</th>\n",
       "      <th>Laterality</th>\n",
       "      <th>Statement</th>\n",
       "      <th>TNM</th>\n",
       "      <th>Status.Vital</th>\n",
       "      <th>Type.of.Death</th>\n",
       "      <th>Date.of.Death</th>\n",
       "      <th>Date.of.Last.Contact</th>\n",
       "      <th>Date.of.Diagnostic</th>\n",
       "      <th>Distant.metastasis</th>\n",
       "      <th>year</th>\n",
       "    </tr>\n",
       "  </thead>\n",
       "  <tbody>\n",
       "    <tr>\n",
       "      <th>0</th>\n",
       "      <td>672054.0</td>\n",
       "      <td>RCBP CAMPINAS-UNICAMP</td>\n",
       "      <td>MASCULINO</td>\n",
       "      <td>1975-03-16</td>\n",
       "      <td>30.0</td>\n",
       "      <td>BRANCO</td>\n",
       "      <td>BRASIL</td>\n",
       "      <td>S�O PAULO</td>\n",
       "      <td>NaN</td>\n",
       "      <td>NaN</td>\n",
       "      <td>...</td>\n",
       "      <td>NaN</td>\n",
       "      <td>NaN</td>\n",
       "      <td>NaN</td>\n",
       "      <td>MORTO</td>\n",
       "      <td>C�NCER</td>\n",
       "      <td>2005-10-07</td>\n",
       "      <td>2005-10-07</td>\n",
       "      <td>2005-10-07</td>\n",
       "      <td>NaN</td>\n",
       "      <td>2005.0</td>\n",
       "    </tr>\n",
       "    <tr>\n",
       "      <th>1</th>\n",
       "      <td>673213.0</td>\n",
       "      <td>RCBP CAMPINAS-UNICAMP</td>\n",
       "      <td>FEMININO</td>\n",
       "      <td>1950-05-24</td>\n",
       "      <td>53.0</td>\n",
       "      <td>NaN</td>\n",
       "      <td>NaN</td>\n",
       "      <td>NaN</td>\n",
       "      <td>NaN</td>\n",
       "      <td>NaN</td>\n",
       "      <td>...</td>\n",
       "      <td>NaN</td>\n",
       "      <td>NaN</td>\n",
       "      <td>NaN</td>\n",
       "      <td>MORTO</td>\n",
       "      <td>NaN</td>\n",
       "      <td>2007-01-30</td>\n",
       "      <td>2007-01-30</td>\n",
       "      <td>2003-07-18</td>\n",
       "      <td>NaN</td>\n",
       "      <td>2003.0</td>\n",
       "    </tr>\n",
       "    <tr>\n",
       "      <th>2</th>\n",
       "      <td>673396.0</td>\n",
       "      <td>RCBP CAMPINAS-UNICAMP</td>\n",
       "      <td>FEMININO</td>\n",
       "      <td>1951-09-02</td>\n",
       "      <td>51.0</td>\n",
       "      <td>PARDA</td>\n",
       "      <td>BRASIL</td>\n",
       "      <td>S�O PAULO</td>\n",
       "      <td>NaN</td>\n",
       "      <td>NaN</td>\n",
       "      <td>...</td>\n",
       "      <td>NaN</td>\n",
       "      <td>NaN</td>\n",
       "      <td>NaN</td>\n",
       "      <td>MORTO</td>\n",
       "      <td>C�NCER</td>\n",
       "      <td>2005-07-03</td>\n",
       "      <td>2005-07-03</td>\n",
       "      <td>2003-05-16</td>\n",
       "      <td>NaN</td>\n",
       "      <td>2003.0</td>\n",
       "    </tr>\n",
       "    <tr>\n",
       "      <th>3</th>\n",
       "      <td>673425.0</td>\n",
       "      <td>RCBP CAMPINAS-UNICAMP</td>\n",
       "      <td>FEMININO</td>\n",
       "      <td>1929-11-21</td>\n",
       "      <td>73.0</td>\n",
       "      <td>NaN</td>\n",
       "      <td>NaN</td>\n",
       "      <td>NaN</td>\n",
       "      <td>NaN</td>\n",
       "      <td>NaN</td>\n",
       "      <td>...</td>\n",
       "      <td>NaN</td>\n",
       "      <td>NaN</td>\n",
       "      <td>NaN</td>\n",
       "      <td>VIVO</td>\n",
       "      <td>NaN</td>\n",
       "      <td>NaN</td>\n",
       "      <td>2010-07-28</td>\n",
       "      <td>2003-04-01</td>\n",
       "      <td>NaN</td>\n",
       "      <td>2003.0</td>\n",
       "    </tr>\n",
       "    <tr>\n",
       "      <th>4</th>\n",
       "      <td>673745.0</td>\n",
       "      <td>RCBP CAMPINAS-UNICAMP</td>\n",
       "      <td>MASCULINO</td>\n",
       "      <td>1934-07-03</td>\n",
       "      <td>71.0</td>\n",
       "      <td>BRANCO</td>\n",
       "      <td>BRASIL</td>\n",
       "      <td>S�O PAULO</td>\n",
       "      <td>NaN</td>\n",
       "      <td>NaN</td>\n",
       "      <td>...</td>\n",
       "      <td>NaN</td>\n",
       "      <td>NaN</td>\n",
       "      <td>NaN</td>\n",
       "      <td>MORTO</td>\n",
       "      <td>C�NCER</td>\n",
       "      <td>2005-10-21</td>\n",
       "      <td>2005-10-21</td>\n",
       "      <td>2005-10-21</td>\n",
       "      <td>NaN</td>\n",
       "      <td>2005.0</td>\n",
       "    </tr>\n",
       "  </tbody>\n",
       "</table>\n",
       "<p>5 rows × 38 columns</p>\n",
       "</div>"
      ],
      "text/plain": [
       "   Patient.Code              RCBP.Name     Gender Date.of.Birth   Age  \\\n",
       "0      672054.0  RCBP CAMPINAS-UNICAMP  MASCULINO    1975-03-16  30.0   \n",
       "1      673213.0  RCBP CAMPINAS-UNICAMP   FEMININO    1950-05-24  53.0   \n",
       "2      673396.0  RCBP CAMPINAS-UNICAMP   FEMININO    1951-09-02  51.0   \n",
       "3      673425.0  RCBP CAMPINAS-UNICAMP   FEMININO    1929-11-21  73.0   \n",
       "4      673745.0  RCBP CAMPINAS-UNICAMP  MASCULINO    1934-07-03  71.0   \n",
       "\n",
       "  Raca.Color Nationality Naturality.State Naturality Degree.of.Education  ...  \\\n",
       "0     BRANCO      BRASIL        S�O PAULO        NaN                 NaN  ...   \n",
       "1        NaN         NaN              NaN        NaN                 NaN  ...   \n",
       "2      PARDA      BRASIL        S�O PAULO        NaN                 NaN  ...   \n",
       "3        NaN         NaN              NaN        NaN                 NaN  ...   \n",
       "4     BRANCO      BRASIL        S�O PAULO        NaN                 NaN  ...   \n",
       "\n",
       "  Laterality  Statement  TNM Status.Vital Type.of.Death Date.of.Death  \\\n",
       "0        NaN        NaN  NaN        MORTO        C�NCER    2005-10-07   \n",
       "1        NaN        NaN  NaN        MORTO           NaN    2007-01-30   \n",
       "2        NaN        NaN  NaN        MORTO        C�NCER    2005-07-03   \n",
       "3        NaN        NaN  NaN         VIVO           NaN           NaN   \n",
       "4        NaN        NaN  NaN        MORTO        C�NCER    2005-10-21   \n",
       "\n",
       "  Date.of.Last.Contact Date.of.Diagnostic  Distant.metastasis    year  \n",
       "0           2005-10-07         2005-10-07                 NaN  2005.0  \n",
       "1           2007-01-30         2003-07-18                 NaN  2003.0  \n",
       "2           2005-07-03         2003-05-16                 NaN  2003.0  \n",
       "3           2010-07-28         2003-04-01                 NaN  2003.0  \n",
       "4           2005-10-21         2005-10-21                 NaN  2005.0  \n",
       "\n",
       "[5 rows x 38 columns]"
      ]
     },
     "execution_count": 2,
     "metadata": {},
     "output_type": "execute_result"
    }
   ],
   "source": [
    "df = acquire.get_brazil_data()\n",
    "df.head()"
   ]
  },
  {
   "cell_type": "markdown",
   "id": "120aee18",
   "metadata": {},
   "source": [
    "# Prepare data"
   ]
  },
  {
   "cell_type": "code",
   "execution_count": 3,
   "id": "9d056c25",
   "metadata": {},
   "outputs": [],
   "source": [
    "# Explain a lot of the data is missing, for cancer and no cancer (thats why I have to drop about 80% of the data)\n",
    "# Select Type.of.Death in original dataset\n",
    "# Dropped many columns not needed based on the amount of missing values and for target\n",
    "# Kept ages below 120 since data had a 199 year old?\n",
    "# Removed columns and filled in race_color, nationality, and legal status with most common value\n",
    "# Regex'd values for readability and columns\n",
    "# Created dummy variables, for age, type_of_death, education, race color, and legal status"
   ]
  },
  {
   "cell_type": "code",
   "execution_count": 3,
   "id": "83a15a24",
   "metadata": {},
   "outputs": [
    {
     "data": {
      "text/html": [
       "<div>\n",
       "<style scoped>\n",
       "    .dataframe tbody tr th:only-of-type {\n",
       "        vertical-align: middle;\n",
       "    }\n",
       "\n",
       "    .dataframe tbody tr th {\n",
       "        vertical-align: top;\n",
       "    }\n",
       "\n",
       "    .dataframe thead th {\n",
       "        text-align: right;\n",
       "    }\n",
       "</style>\n",
       "<table border=\"1\" class=\"dataframe\">\n",
       "  <thead>\n",
       "    <tr style=\"text-align: right;\">\n",
       "      <th></th>\n",
       "      <th>Gender</th>\n",
       "      <th>Age</th>\n",
       "      <th>Race_Color</th>\n",
       "      <th>Nationality</th>\n",
       "      <th>Education</th>\n",
       "      <th>Legal_Status</th>\n",
       "      <th>Status_Address</th>\n",
       "      <th>City_Address</th>\n",
       "      <th>Rare_Case</th>\n",
       "      <th>Diagnostic_means</th>\n",
       "      <th>...</th>\n",
       "      <th>Education_Without Education</th>\n",
       "      <th>Race_Color_BRANCO</th>\n",
       "      <th>Race_Color_IND�GENA</th>\n",
       "      <th>Race_Color_PARDA</th>\n",
       "      <th>Race_Color_PRETA</th>\n",
       "      <th>Legal_Status_SEPARADO JUDICIALMENTE</th>\n",
       "      <th>Legal_Status_SOLTEIRO</th>\n",
       "      <th>Legal_Status_UNI�O CONSENSUAL</th>\n",
       "      <th>Legal_Status_VI�VO</th>\n",
       "      <th>Legal_Status_Casado</th>\n",
       "    </tr>\n",
       "  </thead>\n",
       "  <tbody>\n",
       "    <tr>\n",
       "      <th>5</th>\n",
       "      <td>Male</td>\n",
       "      <td>71.0</td>\n",
       "      <td>BRANCO</td>\n",
       "      <td>BRASIL</td>\n",
       "      <td>Graduated</td>\n",
       "      <td>VI�VO</td>\n",
       "      <td>S�O PAULO</td>\n",
       "      <td>CAMPINAS</td>\n",
       "      <td>False</td>\n",
       "      <td>SDO</td>\n",
       "      <td>...</td>\n",
       "      <td>0</td>\n",
       "      <td>1</td>\n",
       "      <td>0</td>\n",
       "      <td>0</td>\n",
       "      <td>0</td>\n",
       "      <td>0</td>\n",
       "      <td>0</td>\n",
       "      <td>0</td>\n",
       "      <td>1</td>\n",
       "      <td>0</td>\n",
       "    </tr>\n",
       "    <tr>\n",
       "      <th>37</th>\n",
       "      <td>Female</td>\n",
       "      <td>42.0</td>\n",
       "      <td>BRANCO</td>\n",
       "      <td>BRASIL</td>\n",
       "      <td>Graduated</td>\n",
       "      <td>SOLTEIRO</td>\n",
       "      <td>S�O PAULO</td>\n",
       "      <td>CAMPINAS</td>\n",
       "      <td>False</td>\n",
       "      <td>HISTOLOGIA DO TUMOR PRIM�RIO</td>\n",
       "      <td>...</td>\n",
       "      <td>0</td>\n",
       "      <td>1</td>\n",
       "      <td>0</td>\n",
       "      <td>0</td>\n",
       "      <td>0</td>\n",
       "      <td>0</td>\n",
       "      <td>1</td>\n",
       "      <td>0</td>\n",
       "      <td>0</td>\n",
       "      <td>0</td>\n",
       "    </tr>\n",
       "    <tr>\n",
       "      <th>42</th>\n",
       "      <td>Female</td>\n",
       "      <td>69.0</td>\n",
       "      <td>BRANCO</td>\n",
       "      <td>BRASIL</td>\n",
       "      <td>Graduated</td>\n",
       "      <td>CASADO</td>\n",
       "      <td>S�O PAULO</td>\n",
       "      <td>CAMPINAS</td>\n",
       "      <td>False</td>\n",
       "      <td>SDO</td>\n",
       "      <td>...</td>\n",
       "      <td>0</td>\n",
       "      <td>1</td>\n",
       "      <td>0</td>\n",
       "      <td>0</td>\n",
       "      <td>0</td>\n",
       "      <td>0</td>\n",
       "      <td>0</td>\n",
       "      <td>0</td>\n",
       "      <td>0</td>\n",
       "      <td>1</td>\n",
       "    </tr>\n",
       "    <tr>\n",
       "      <th>49</th>\n",
       "      <td>Male</td>\n",
       "      <td>48.0</td>\n",
       "      <td>BRANCO</td>\n",
       "      <td>BRASIL</td>\n",
       "      <td>Former Second Degree</td>\n",
       "      <td>CASADO</td>\n",
       "      <td>S�O PAULO</td>\n",
       "      <td>CAMPINAS</td>\n",
       "      <td>False</td>\n",
       "      <td>SDO</td>\n",
       "      <td>...</td>\n",
       "      <td>0</td>\n",
       "      <td>1</td>\n",
       "      <td>0</td>\n",
       "      <td>0</td>\n",
       "      <td>0</td>\n",
       "      <td>0</td>\n",
       "      <td>0</td>\n",
       "      <td>0</td>\n",
       "      <td>0</td>\n",
       "      <td>1</td>\n",
       "    </tr>\n",
       "    <tr>\n",
       "      <th>87</th>\n",
       "      <td>Male</td>\n",
       "      <td>81.0</td>\n",
       "      <td>BRANCO</td>\n",
       "      <td>BRASIL</td>\n",
       "      <td>Graduated</td>\n",
       "      <td>SEPARADO JUDICIALMENTE</td>\n",
       "      <td>S�O PAULO</td>\n",
       "      <td>CAMPINAS</td>\n",
       "      <td>False</td>\n",
       "      <td>SDO</td>\n",
       "      <td>...</td>\n",
       "      <td>0</td>\n",
       "      <td>1</td>\n",
       "      <td>0</td>\n",
       "      <td>0</td>\n",
       "      <td>0</td>\n",
       "      <td>1</td>\n",
       "      <td>0</td>\n",
       "      <td>0</td>\n",
       "      <td>0</td>\n",
       "      <td>0</td>\n",
       "    </tr>\n",
       "  </tbody>\n",
       "</table>\n",
       "<p>5 rows × 29 columns</p>\n",
       "</div>"
      ],
      "text/plain": [
       "    Gender   Age Race_Color Nationality             Education  \\\n",
       "5     Male  71.0     BRANCO      BRASIL             Graduated   \n",
       "37  Female  42.0     BRANCO      BRASIL             Graduated   \n",
       "42  Female  69.0     BRANCO      BRASIL             Graduated   \n",
       "49    Male  48.0     BRANCO      BRASIL  Former Second Degree   \n",
       "87    Male  81.0     BRANCO      BRASIL             Graduated   \n",
       "\n",
       "              Legal_Status Status_Address City_Address Rare_Case  \\\n",
       "5                    VI�VO      S�O PAULO     CAMPINAS     False   \n",
       "37                SOLTEIRO      S�O PAULO     CAMPINAS     False   \n",
       "42                  CASADO      S�O PAULO     CAMPINAS     False   \n",
       "49                  CASADO      S�O PAULO     CAMPINAS     False   \n",
       "87  SEPARADO JUDICIALMENTE      S�O PAULO     CAMPINAS     False   \n",
       "\n",
       "                Diagnostic_means  ... Education_Without Education  \\\n",
       "5                            SDO  ...                           0   \n",
       "37  HISTOLOGIA DO TUMOR PRIM�RIO  ...                           0   \n",
       "42                           SDO  ...                           0   \n",
       "49                           SDO  ...                           0   \n",
       "87                           SDO  ...                           0   \n",
       "\n",
       "    Race_Color_BRANCO  Race_Color_IND�GENA  Race_Color_PARDA  \\\n",
       "5                   1                    0                 0   \n",
       "37                  1                    0                 0   \n",
       "42                  1                    0                 0   \n",
       "49                  1                    0                 0   \n",
       "87                  1                    0                 0   \n",
       "\n",
       "    Race_Color_PRETA  Legal_Status_SEPARADO JUDICIALMENTE  \\\n",
       "5                  0                                    0   \n",
       "37                 0                                    0   \n",
       "42                 0                                    0   \n",
       "49                 0                                    0   \n",
       "87                 0                                    1   \n",
       "\n",
       "    Legal_Status_SOLTEIRO  Legal_Status_UNI�O CONSENSUAL  Legal_Status_VI�VO  \\\n",
       "5                       0                              0                   1   \n",
       "37                      1                              0                   0   \n",
       "42                      0                              0                   0   \n",
       "49                      0                              0                   0   \n",
       "87                      0                              0                   0   \n",
       "\n",
       "    Legal_Status_Casado  \n",
       "5                     0  \n",
       "37                    0  \n",
       "42                    1  \n",
       "49                    1  \n",
       "87                    0  \n",
       "\n",
       "[5 rows x 29 columns]"
      ]
     },
     "execution_count": 3,
     "metadata": {},
     "output_type": "execute_result"
    }
   ],
   "source": [
    "df = prepare.cancer_df(df)\n",
    "df.head()"
   ]
  },
  {
   "cell_type": "markdown",
   "id": "be8f4d30",
   "metadata": {},
   "source": [
    "# Split the data into train validate test"
   ]
  },
  {
   "cell_type": "code",
   "execution_count": 4,
   "id": "eef302ef",
   "metadata": {},
   "outputs": [
    {
     "data": {
      "text/html": [
       "<div>\n",
       "<style scoped>\n",
       "    .dataframe tbody tr th:only-of-type {\n",
       "        vertical-align: middle;\n",
       "    }\n",
       "\n",
       "    .dataframe tbody tr th {\n",
       "        vertical-align: top;\n",
       "    }\n",
       "\n",
       "    .dataframe thead th {\n",
       "        text-align: right;\n",
       "    }\n",
       "</style>\n",
       "<table border=\"1\" class=\"dataframe\">\n",
       "  <thead>\n",
       "    <tr style=\"text-align: right;\">\n",
       "      <th></th>\n",
       "      <th>Gender</th>\n",
       "      <th>Age</th>\n",
       "      <th>Race_Color</th>\n",
       "      <th>Nationality</th>\n",
       "      <th>Education</th>\n",
       "      <th>Legal_Status</th>\n",
       "      <th>Status_Address</th>\n",
       "      <th>City_Address</th>\n",
       "      <th>Rare_Case</th>\n",
       "      <th>Diagnostic_means</th>\n",
       "      <th>...</th>\n",
       "      <th>Education_Without Education</th>\n",
       "      <th>Race_Color_BRANCO</th>\n",
       "      <th>Race_Color_IND�GENA</th>\n",
       "      <th>Race_Color_PARDA</th>\n",
       "      <th>Race_Color_PRETA</th>\n",
       "      <th>Legal_Status_SEPARADO JUDICIALMENTE</th>\n",
       "      <th>Legal_Status_SOLTEIRO</th>\n",
       "      <th>Legal_Status_UNI�O CONSENSUAL</th>\n",
       "      <th>Legal_Status_VI�VO</th>\n",
       "      <th>Legal_Status_Casado</th>\n",
       "    </tr>\n",
       "  </thead>\n",
       "  <tbody>\n",
       "    <tr>\n",
       "      <th>1566782</th>\n",
       "      <td>Male</td>\n",
       "      <td>67.0</td>\n",
       "      <td>BRANCO</td>\n",
       "      <td>BRASIL</td>\n",
       "      <td>Fundamental II</td>\n",
       "      <td>CASADO</td>\n",
       "      <td>S�O PAULO</td>\n",
       "      <td>VIRADOURO</td>\n",
       "      <td>False</td>\n",
       "      <td>HISTOLOGIA DO TUMOR PRIM�RIO</td>\n",
       "      <td>...</td>\n",
       "      <td>0</td>\n",
       "      <td>1</td>\n",
       "      <td>0</td>\n",
       "      <td>0</td>\n",
       "      <td>0</td>\n",
       "      <td>0</td>\n",
       "      <td>0</td>\n",
       "      <td>0</td>\n",
       "      <td>0</td>\n",
       "      <td>1</td>\n",
       "    </tr>\n",
       "    <tr>\n",
       "      <th>1755729</th>\n",
       "      <td>Male</td>\n",
       "      <td>62.0</td>\n",
       "      <td>PARDA</td>\n",
       "      <td>BRASIL</td>\n",
       "      <td>Former Second Degree</td>\n",
       "      <td>CASADO</td>\n",
       "      <td>RONDONIA</td>\n",
       "      <td>S�O FRANCISCO DO GUAPOR�</td>\n",
       "      <td>False</td>\n",
       "      <td>HISTOLOGIA DO TUMOR PRIM�RIO</td>\n",
       "      <td>...</td>\n",
       "      <td>0</td>\n",
       "      <td>0</td>\n",
       "      <td>0</td>\n",
       "      <td>1</td>\n",
       "      <td>0</td>\n",
       "      <td>0</td>\n",
       "      <td>0</td>\n",
       "      <td>0</td>\n",
       "      <td>0</td>\n",
       "      <td>1</td>\n",
       "    </tr>\n",
       "    <tr>\n",
       "      <th>495077</th>\n",
       "      <td>Male</td>\n",
       "      <td>87.0</td>\n",
       "      <td>BRANCO</td>\n",
       "      <td>BRASIL</td>\n",
       "      <td>Fundamental II</td>\n",
       "      <td>CASADO</td>\n",
       "      <td>MATO GROSSO</td>\n",
       "      <td>CUIAB�</td>\n",
       "      <td>False</td>\n",
       "      <td>HISTOLOGIA DO TUMOR PRIM�RIO</td>\n",
       "      <td>...</td>\n",
       "      <td>0</td>\n",
       "      <td>1</td>\n",
       "      <td>0</td>\n",
       "      <td>0</td>\n",
       "      <td>0</td>\n",
       "      <td>0</td>\n",
       "      <td>0</td>\n",
       "      <td>0</td>\n",
       "      <td>0</td>\n",
       "      <td>1</td>\n",
       "    </tr>\n",
       "    <tr>\n",
       "      <th>1621704</th>\n",
       "      <td>Male</td>\n",
       "      <td>87.0</td>\n",
       "      <td>PARDA</td>\n",
       "      <td>BRASIL</td>\n",
       "      <td>Fundamental I</td>\n",
       "      <td>CASADO</td>\n",
       "      <td>CEAR�</td>\n",
       "      <td>FORTALEZA</td>\n",
       "      <td>False</td>\n",
       "      <td>HISTOLOGIA DO TUMOR PRIM�RIO</td>\n",
       "      <td>...</td>\n",
       "      <td>0</td>\n",
       "      <td>0</td>\n",
       "      <td>0</td>\n",
       "      <td>1</td>\n",
       "      <td>0</td>\n",
       "      <td>0</td>\n",
       "      <td>0</td>\n",
       "      <td>0</td>\n",
       "      <td>0</td>\n",
       "      <td>1</td>\n",
       "    </tr>\n",
       "    <tr>\n",
       "      <th>1507590</th>\n",
       "      <td>Female</td>\n",
       "      <td>87.0</td>\n",
       "      <td>BRANCO</td>\n",
       "      <td>BRASIL</td>\n",
       "      <td>Without Education</td>\n",
       "      <td>VI�VO</td>\n",
       "      <td>MATO GROSSO</td>\n",
       "      <td>JUSCIMEIRA</td>\n",
       "      <td>False</td>\n",
       "      <td>HISTOLOGIA DO TUMOR PRIM�RIO</td>\n",
       "      <td>...</td>\n",
       "      <td>1</td>\n",
       "      <td>1</td>\n",
       "      <td>0</td>\n",
       "      <td>0</td>\n",
       "      <td>0</td>\n",
       "      <td>0</td>\n",
       "      <td>0</td>\n",
       "      <td>0</td>\n",
       "      <td>1</td>\n",
       "      <td>0</td>\n",
       "    </tr>\n",
       "  </tbody>\n",
       "</table>\n",
       "<p>5 rows × 29 columns</p>\n",
       "</div>"
      ],
      "text/plain": [
       "         Gender   Age Race_Color Nationality             Education  \\\n",
       "1566782    Male  67.0     BRANCO      BRASIL        Fundamental II   \n",
       "1755729    Male  62.0      PARDA      BRASIL  Former Second Degree   \n",
       "495077     Male  87.0     BRANCO      BRASIL        Fundamental II   \n",
       "1621704    Male  87.0      PARDA      BRASIL         Fundamental I   \n",
       "1507590  Female  87.0     BRANCO      BRASIL     Without Education   \n",
       "\n",
       "        Legal_Status Status_Address              City_Address Rare_Case  \\\n",
       "1566782       CASADO      S�O PAULO                 VIRADOURO     False   \n",
       "1755729       CASADO       RONDONIA  S�O FRANCISCO DO GUAPOR�     False   \n",
       "495077        CASADO   MATO GROSSO                     CUIAB�     False   \n",
       "1621704       CASADO          CEAR�                 FORTALEZA     False   \n",
       "1507590        VI�VO   MATO GROSSO                 JUSCIMEIRA     False   \n",
       "\n",
       "                     Diagnostic_means  ... Education_Without Education  \\\n",
       "1566782  HISTOLOGIA DO TUMOR PRIM�RIO  ...                           0   \n",
       "1755729  HISTOLOGIA DO TUMOR PRIM�RIO  ...                           0   \n",
       "495077   HISTOLOGIA DO TUMOR PRIM�RIO  ...                           0   \n",
       "1621704  HISTOLOGIA DO TUMOR PRIM�RIO  ...                           0   \n",
       "1507590  HISTOLOGIA DO TUMOR PRIM�RIO  ...                           1   \n",
       "\n",
       "         Race_Color_BRANCO  Race_Color_IND�GENA  Race_Color_PARDA  \\\n",
       "1566782                  1                    0                 0   \n",
       "1755729                  0                    0                 1   \n",
       "495077                   1                    0                 0   \n",
       "1621704                  0                    0                 1   \n",
       "1507590                  1                    0                 0   \n",
       "\n",
       "         Race_Color_PRETA  Legal_Status_SEPARADO JUDICIALMENTE  \\\n",
       "1566782                 0                                    0   \n",
       "1755729                 0                                    0   \n",
       "495077                  0                                    0   \n",
       "1621704                 0                                    0   \n",
       "1507590                 0                                    0   \n",
       "\n",
       "         Legal_Status_SOLTEIRO  Legal_Status_UNI�O CONSENSUAL  \\\n",
       "1566782                      0                              0   \n",
       "1755729                      0                              0   \n",
       "495077                       0                              0   \n",
       "1621704                      0                              0   \n",
       "1507590                      0                              0   \n",
       "\n",
       "         Legal_Status_VI�VO  Legal_Status_Casado  \n",
       "1566782                   0                    1  \n",
       "1755729                   0                    1  \n",
       "495077                    0                    1  \n",
       "1621704                   0                    1  \n",
       "1507590                   1                    0  \n",
       "\n",
       "[5 rows x 29 columns]"
      ]
     },
     "execution_count": 4,
     "metadata": {},
     "output_type": "execute_result"
    }
   ],
   "source": [
    "train, validate, test = prepare.train_validate_test_split(df, 'Type_of_Death')\n",
    "train.head()"
   ]
  },
  {
   "cell_type": "markdown",
   "id": "6779911f",
   "metadata": {},
   "source": [
    "### Here we see our datasets and their respective rows / columns"
   ]
  },
  {
   "cell_type": "code",
   "execution_count": 6,
   "id": "5d768b39",
   "metadata": {},
   "outputs": [
    {
     "name": "stdout",
     "output_type": "stream",
     "text": [
      "Data Frame total rows/columns:  (215560, 29)\n",
      "\n",
      "Train total rows/columns:  (120713, 29)\n",
      "\n",
      "Validate total rows/columns:  (51735, 29)\n",
      "\n",
      "Test total rows/columns:  (43112, 29)\n"
     ]
    }
   ],
   "source": [
    "print('Data Frame total rows/columns: ',df.shape)\n",
    "print('\\nTrain total rows/columns: ',train.shape)\n",
    "print('\\nValidate total rows/columns: ',validate.shape)\n",
    "print('\\nTest total rows/columns: ',test.shape)"
   ]
  },
  {
   "cell_type": "markdown",
   "id": "9d8761d9",
   "metadata": {},
   "source": [
    "### Here we see that people of without cancer are just 5% of the total dataset which will be an issue once we get the modeling stage where I find a work around"
   ]
  },
  {
   "cell_type": "code",
   "execution_count": 7,
   "id": "5b730c77",
   "metadata": {},
   "outputs": [
    {
     "data": {
      "text/html": [
       "<div>\n",
       "<style scoped>\n",
       "    .dataframe tbody tr th:only-of-type {\n",
       "        vertical-align: middle;\n",
       "    }\n",
       "\n",
       "    .dataframe tbody tr th {\n",
       "        vertical-align: top;\n",
       "    }\n",
       "\n",
       "    .dataframe thead th {\n",
       "        text-align: right;\n",
       "    }\n",
       "</style>\n",
       "<table border=\"1\" class=\"dataframe\">\n",
       "  <thead>\n",
       "    <tr style=\"text-align: right;\">\n",
       "      <th>has_No_Cancer</th>\n",
       "      <th>0</th>\n",
       "      <th>1</th>\n",
       "    </tr>\n",
       "    <tr>\n",
       "      <th>Type_of_Death</th>\n",
       "      <th></th>\n",
       "      <th></th>\n",
       "    </tr>\n",
       "  </thead>\n",
       "  <tbody>\n",
       "    <tr>\n",
       "      <th>Cancer</th>\n",
       "      <td>204260</td>\n",
       "      <td>0</td>\n",
       "    </tr>\n",
       "    <tr>\n",
       "      <th>No Cancer</th>\n",
       "      <td>0</td>\n",
       "      <td>11300</td>\n",
       "    </tr>\n",
       "  </tbody>\n",
       "</table>\n",
       "</div>"
      ],
      "text/plain": [
       "has_No_Cancer       0      1\n",
       "Type_of_Death               \n",
       "Cancer         204260      0\n",
       "No Cancer           0  11300"
      ]
     },
     "execution_count": 7,
     "metadata": {},
     "output_type": "execute_result"
    }
   ],
   "source": [
    "pd.crosstab(df['Type_of_Death'], df['has_No_Cancer'])"
   ]
  },
  {
   "cell_type": "code",
   "execution_count": 8,
   "id": "9dfe0f69",
   "metadata": {},
   "outputs": [
    {
     "name": "stdout",
     "output_type": "stream",
     "text": [
      "Just to see overall we are working with this amount of no cancer patients:  0.06\n"
     ]
    }
   ],
   "source": [
    "print('Just to see overall we are working with this amount of no cancer patients: ', round(11300/204260, 2))"
   ]
  },
  {
   "cell_type": "markdown",
   "id": "879c5160",
   "metadata": {},
   "source": [
    "# -----------------------------\n",
    "# Exploration\n",
    "# -----------------------------"
   ]
  },
  {
   "cell_type": "markdown",
   "id": "d847345a",
   "metadata": {},
   "source": [
    "## 1)Is there a certain legal status that has an effect on their cancer rates?"
   ]
  },
  {
   "cell_type": "code",
   "execution_count": 9,
   "id": "59c9a97f",
   "metadata": {},
   "outputs": [
    {
     "data": {
      "text/plain": [
       "<AxesSubplot:title={'center':'Legal Status and their cancer rates'}, xlabel='Legal_Status', ylabel='has_No_Cancer'>"
      ]
     },
     "execution_count": 9,
     "metadata": {},
     "output_type": "execute_result"
    },
    {
     "data": {
      "image/png": "[encoded data removed]",
      "text/plain": [
       "<Figure size 1080x576 with 1 Axes>"
      ]
     },
     "metadata": {
      "needs_background": "light"
     },
     "output_type": "display_data"
    }
   ],
   "source": [
    "plt.figure(figsize=(15,8))\n",
    "plt.title('Legal Status and their cancer rates')\n",
    "sns.barplot(x = 'Legal_Status', y = 'has_No_Cancer', data = train)"
   ]
  },
  {
   "cell_type": "markdown",
   "id": "0116ecec",
   "metadata": {},
   "source": [
    "### Lets take a closer look at the majority and see if it holds a significance using a chi squared test"
   ]
  },
  {
   "cell_type": "code",
   "execution_count": 10,
   "id": "10401490",
   "metadata": {},
   "outputs": [
    {
     "data": {
      "text/plain": [
       "<AxesSubplot:title={'center':'Casado and their cancer rates'}, xlabel='Legal_Status_Casado', ylabel='has_No_Cancer'>"
      ]
     },
     "execution_count": 10,
     "metadata": {},
     "output_type": "execute_result"
    },
    {
     "data": {
      "image/png": "[encoded data removed]",
      "text/plain": [
       "<Figure size 1080x576 with 1 Axes>"
      ]
     },
     "metadata": {
      "needs_background": "light"
     },
     "output_type": "display_data"
    }
   ],
   "source": [
    "plt.figure(figsize=(15,8))\n",
    "plt.title('Casado and their cancer rates')\n",
    "sns.barplot(x = 'Legal_Status_Casado', y = 'has_No_Cancer', data = train)"
   ]
  },
  {
   "cell_type": "code",
   "execution_count": 11,
   "id": "b8db418f",
   "metadata": {},
   "outputs": [
    {
     "name": "stdout",
     "output_type": "stream",
     "text": [
      "Observed\n",
      "has_No_Cancer            0     1\n",
      "Legal_Status_Casado             \n",
      "0                    56738  2418\n",
      "1                    57647  3910\n",
      "--------------------------------------\n",
      "---\n",
      "Expected\n",
      "[[56054.93244307  3101.06755693]\n",
      " [58330.06755693  3226.93244307]]\n",
      "--------------------------------------\n",
      "---\n",
      "\n",
      "chi^2 = 310.9150\n",
      "p     = 0.000000000000\n"
     ]
    }
   ],
   "source": [
    "observed = pd.crosstab(train['Legal_Status_Casado'], train.has_No_Cancer)\n",
    "chi, p, degrf, expected = stats.chi2_contingency(observed)\n",
    "\n",
    "print('Observed')\n",
    "print(observed)\n",
    "print(\"--------------------------------------\")\n",
    "print('---\\nExpected')\n",
    "print(expected)\n",
    "print(\"--------------------------------------\")\n",
    "print('---\\n')\n",
    "print(f'chi^2 = {chi:.4f}')\n",
    "print(f'p     = {p:.12f}')"
   ]
  },
  {
   "cell_type": "code",
   "execution_count": null,
   "id": "eb395bb8",
   "metadata": {},
   "outputs": [],
   "source": []
  },
  {
   "cell_type": "markdown",
   "id": "9317755a",
   "metadata": {},
   "source": [
    "## 2) The options inserted for race/color, do any of these options have more of a cause of no cancer?"
   ]
  },
  {
   "cell_type": "code",
   "execution_count": 12,
   "id": "f4c70f98",
   "metadata": {},
   "outputs": [
    {
     "data": {
      "text/plain": [
       "<AxesSubplot:title={'center':'Race/Color and their cancer rates'}, xlabel='Race_Color', ylabel='has_No_Cancer'>"
      ]
     },
     "execution_count": 12,
     "metadata": {},
     "output_type": "execute_result"
    },
    {
     "data": {
      "image/png": "[encoded data removed]",
      "text/plain": [
       "<Figure size 1080x576 with 1 Axes>"
      ]
     },
     "metadata": {
      "needs_background": "light"
     },
     "output_type": "display_data"
    }
   ],
   "source": [
    "plt.figure(figsize=(15,8))\n",
    "plt.title('Race/Color and their cancer rates')\n",
    "sns.barplot(x = 'Race_Color', y = 'has_No_Cancer', data = train)"
   ]
  },
  {
   "cell_type": "markdown",
   "id": "6c1bf9ef",
   "metadata": {},
   "source": [
    "### Lets take a closer look at the majority and see if it holds a significance using a chi squared test"
   ]
  },
  {
   "cell_type": "code",
   "execution_count": 13,
   "id": "812cddf7",
   "metadata": {},
   "outputs": [
    {
     "data": {
      "text/plain": [
       "<AxesSubplot:title={'center':'Branco and their cancer rates'}, xlabel='Race_Color_BRANCO', ylabel='has_No_Cancer'>"
      ]
     },
     "execution_count": 13,
     "metadata": {},
     "output_type": "execute_result"
    },
    {
     "data": {
      "image/png": "[encoded data removed]",
      "text/plain": [
       "<Figure size 1080x576 with 1 Axes>"
      ]
     },
     "metadata": {
      "needs_background": "light"
     },
     "output_type": "display_data"
    }
   ],
   "source": [
    "plt.figure(figsize=(15,8))\n",
    "plt.title('Branco and their cancer rates')\n",
    "sns.barplot(x = 'Race_Color_BRANCO', y = 'has_No_Cancer', data = train)"
   ]
  },
  {
   "cell_type": "code",
   "execution_count": 14,
   "id": "24506fdc",
   "metadata": {},
   "outputs": [
    {
     "name": "stdout",
     "output_type": "stream",
     "text": [
      "Observed\n",
      "has_No_Cancer          0     1\n",
      "Race_Color_BRANCO             \n",
      "0                  53769  1417\n",
      "1                  60616  4911\n",
      "--------------------------------------\n",
      "---\n",
      "Expected\n",
      "[[52293.04722772  2892.95277228]\n",
      " [62091.95277228  3435.04722772]]\n",
      "--------------------------------------\n",
      "---\n",
      "\n",
      "chi^2 = 1462.9450\n",
      "p     = 0.000000000000\n"
     ]
    }
   ],
   "source": [
    "observed = pd.crosstab(train['Race_Color_BRANCO'], train.has_No_Cancer)\n",
    "chi, p, degrf, expected = stats.chi2_contingency(observed)\n",
    "\n",
    "print('Observed')\n",
    "print(observed)\n",
    "print(\"--------------------------------------\")\n",
    "print('---\\nExpected')\n",
    "print(expected)\n",
    "print(\"--------------------------------------\")\n",
    "print('---\\n')\n",
    "print(f'chi^2 = {chi:.4f}')\n",
    "print(f'p     = {p:.12f}')"
   ]
  },
  {
   "cell_type": "markdown",
   "id": "9113d2e0",
   "metadata": {},
   "source": [
    "##### Really low p-value so this does hold a signficance "
   ]
  },
  {
   "cell_type": "markdown",
   "id": "55ac14c2",
   "metadata": {},
   "source": [
    "# 3)Does education background have an effect on no cancer patients and is there a signifcance in the majority?"
   ]
  },
  {
   "cell_type": "code",
   "execution_count": 15,
   "id": "8bdf26a7",
   "metadata": {},
   "outputs": [
    {
     "data": {
      "text/plain": [
       "<seaborn.axisgrid.FacetGrid at 0x7f7ea60bc4f0>"
      ]
     },
     "execution_count": 15,
     "metadata": {},
     "output_type": "execute_result"
    },
    {
     "data": {
      "image/png": "[encoded data removed]",
      "text/plain": [
       "<Figure size 948.375x576 with 1 Axes>"
      ]
     },
     "metadata": {
      "needs_background": "light"
     },
     "output_type": "display_data"
    }
   ],
   "source": [
    "sns.displot(x = 'Education', data = train, hue = 'has_No_Cancer', alpha = 0.5, multiple = 'stack',\n",
    "            height=8, aspect=12/8)"
   ]
  },
  {
   "cell_type": "markdown",
   "id": "37b75526",
   "metadata": {},
   "source": [
    "#### Lets take a closer look at Fundamental I using a chi squared test to see if it has a significance"
   ]
  },
  {
   "cell_type": "code",
   "execution_count": 16,
   "id": "41bd5f95",
   "metadata": {},
   "outputs": [
    {
     "data": {
      "text/plain": [
       "<AxesSubplot:title={'center':'Education Fundamental I and their cancer rates'}, xlabel='Education_Fundamental I', ylabel='has_No_Cancer'>"
      ]
     },
     "execution_count": 16,
     "metadata": {},
     "output_type": "execute_result"
    },
    {
     "data": {
      "image/png": "[encoded data removed]",
      "text/plain": [
       "<Figure size 1080x576 with 1 Axes>"
      ]
     },
     "metadata": {
      "needs_background": "light"
     },
     "output_type": "display_data"
    }
   ],
   "source": [
    "plt.figure(figsize=(15,8))\n",
    "plt.title('Education Fundamental I and their cancer rates')\n",
    "sns.barplot(x = 'Education_Fundamental I', y = 'has_No_Cancer', data = train)"
   ]
  },
  {
   "cell_type": "code",
   "execution_count": 17,
   "id": "e9c086bc",
   "metadata": {},
   "outputs": [
    {
     "name": "stdout",
     "output_type": "stream",
     "text": [
      "Observed\n",
      "has_No_Cancer                0     1\n",
      "Education_Fundamental I             \n",
      "0                        80196  3452\n",
      "1                        34189  2876\n",
      "--------------------------------------\n",
      "---\n",
      "Expected\n",
      "[[79263.01624514  4384.98375486]\n",
      " [35121.98375486  1943.01624514]]\n",
      "--------------------------------------\n",
      "---\n",
      "\n",
      "chi^2 = 681.5372\n",
      "p     = 0.000000000000\n"
     ]
    }
   ],
   "source": [
    "observed = pd.crosstab(train['Education_Fundamental I'], train.has_No_Cancer)\n",
    "chi, p, degrf, expected = stats.chi2_contingency(observed)\n",
    "\n",
    "print('Observed')\n",
    "print(observed)\n",
    "print(\"--------------------------------------\")\n",
    "print('---\\nExpected')\n",
    "print(expected)\n",
    "print(\"--------------------------------------\")\n",
    "print('---\\n')\n",
    "print(f'chi^2 = {chi:.4f}')\n",
    "print(f'p     = {p:.12f}')"
   ]
  },
  {
   "cell_type": "markdown",
   "id": "91399d6c",
   "metadata": {},
   "source": [
    "##### Fundamental I does hold a low p-value indicating it has significance with no cancer patients"
   ]
  },
  {
   "cell_type": "markdown",
   "id": "f141e957",
   "metadata": {},
   "source": [
    "# 4) Is gender a factor of no cancer patients?"
   ]
  },
  {
   "cell_type": "code",
   "execution_count": 18,
   "id": "21d29a27",
   "metadata": {},
   "outputs": [
    {
     "data": {
      "text/plain": [
       "<AxesSubplot:title={'center':'Male or not and their cancer rates'}, xlabel='Gender_Male', ylabel='has_No_Cancer'>"
      ]
     },
     "execution_count": 18,
     "metadata": {},
     "output_type": "execute_result"
    },
    {
     "data": {
      "image/png": "[encoded data removed]",
      "text/plain": [
       "<Figure size 1080x576 with 1 Axes>"
      ]
     },
     "metadata": {
      "needs_background": "light"
     },
     "output_type": "display_data"
    }
   ],
   "source": [
    "plt.figure(figsize=(15,8))\n",
    "plt.title('Male or not and their cancer rates')\n",
    "sns.barplot(x = 'Gender_Male', y = 'has_No_Cancer', data = train)"
   ]
  },
  {
   "cell_type": "code",
   "execution_count": 19,
   "id": "3bb8db3e",
   "metadata": {},
   "outputs": [
    {
     "name": "stdout",
     "output_type": "stream",
     "text": [
      "Observed\n",
      "has_No_Cancer      0     1\n",
      "Gender_Male               \n",
      "0              56010  2807\n",
      "1              58375  3521\n",
      "--------------------------------------\n",
      "---\n",
      "Expected\n",
      "[[55733.70345365  3083.29654635]\n",
      " [58651.29654635  3244.70345365]]\n",
      "--------------------------------------\n",
      "---\n",
      "\n",
      "chi^2 = 50.7737\n",
      "p     = 0.000000000001\n"
     ]
    }
   ],
   "source": [
    "observed = pd.crosstab(train['Gender_Male'], train.has_No_Cancer)\n",
    "chi, p, degrf, expected = stats.chi2_contingency(observed)\n",
    "\n",
    "print('Observed')\n",
    "print(observed)\n",
    "print(\"--------------------------------------\")\n",
    "print('---\\nExpected')\n",
    "print(expected)\n",
    "print(\"--------------------------------------\")\n",
    "print('---\\n')\n",
    "print(f'chi^2 = {chi:.4f}')\n",
    "print(f'p     = {p:.12f}')"
   ]
  },
  {
   "cell_type": "markdown",
   "id": "addfb4bb",
   "metadata": {},
   "source": [
    "##### Using a chi squared test we see that male holds a significance with no cancer pateients!"
   ]
  },
  {
   "cell_type": "markdown",
   "id": "4798c2fe",
   "metadata": {},
   "source": [
    "# Create a baseline"
   ]
  },
  {
   "cell_type": "code",
   "execution_count": 5,
   "id": "52110b0d",
   "metadata": {},
   "outputs": [],
   "source": [
    "train['baseline'] = 0\n",
    "\n",
    "validate['baseline'] = 0\n",
    "\n",
    "test['baseline'] = 0"
   ]
  },
  {
   "cell_type": "markdown",
   "id": "3dacfe88",
   "metadata": {},
   "source": [
    "#### I set '0' for those with cancner since most of the patients at these hopsitals do in fact have cancer being the majority"
   ]
  },
  {
   "cell_type": "code",
   "execution_count": 6,
   "id": "6a851b47",
   "metadata": {},
   "outputs": [
    {
     "name": "stdout",
     "output_type": "stream",
     "text": [
      "baseline train accuracy: 94.76%\n",
      "baseline validate accuracy: 94.76%\n",
      "baseline test accuracy: 94.76%\n"
     ]
    }
   ],
   "source": [
    "baseline_accuracy = (train.has_No_Cancer == train.baseline).mean()\n",
    "print(f'baseline train accuracy: {baseline_accuracy:.2%}')\n",
    "\n",
    "baseline_accuracy = (validate.has_No_Cancer == validate.baseline).mean()\n",
    "print(f'baseline validate accuracy: {baseline_accuracy:.2%}')\n",
    "\n",
    "baseline_accuracy = (test.has_No_Cancer == test.baseline).mean()\n",
    "print(f'baseline test accuracy: {baseline_accuracy:.2%}')"
   ]
  },
  {
   "cell_type": "code",
   "execution_count": 7,
   "id": "4fd55a32",
   "metadata": {},
   "outputs": [],
   "source": [
    "X_train = train.drop(columns = ['has_No_Cancer', 'baseline', 'Gender', 'Age', 'Nationality',\n",
    "                               'Education', 'Legal_Status', 'Status_Address', 'City_Address',\n",
    "                               'Rare_Case', 'Diagnostic_means', 'Type_of_Death', 'year', 'Race_Color'])\n",
    "y_train = train[['has_No_Cancer']]\n",
    "\n",
    "\n",
    "X_validate = validate.drop(columns = ['has_No_Cancer', 'baseline', 'Gender', 'Age', 'Nationality',\n",
    "                               'Education', 'Legal_Status', 'Status_Address', 'City_Address',\n",
    "                               'Rare_Case', 'Diagnostic_means', 'Type_of_Death', 'year', 'Race_Color'])\n",
    "y_validate = validate[['has_No_Cancer']]\n",
    "\n",
    "X_test = test.drop(columns = ['has_No_Cancer', 'baseline', 'Gender', 'Age', 'Nationality',\n",
    "                               'Education', 'Legal_Status', 'Status_Address', 'City_Address',\n",
    "                               'Rare_Case', 'Diagnostic_means', 'Type_of_Death', 'year', 'Race_Color'])\n",
    "y_test = test[['has_No_Cancer']]"
   ]
  },
  {
   "cell_type": "markdown",
   "id": "ab0ae1ee",
   "metadata": {},
   "source": [
    "# ---------------------------\n",
    "# Modeling\n",
    "# ---------------------------"
   ]
  },
  {
   "cell_type": "markdown",
   "id": "214c77b9",
   "metadata": {},
   "source": [
    "#### Moving forward we will using our classification report to indicate our better model, so high f-scores is what I'll be looking for!\n",
    "#### We're looking for positive predictions, so rather than having a precise or fewer recalls hence the smote method we want to have a balance between the two hence f1-score and just aim fo the highest score overall between the models!"
   ]
  },
  {
   "cell_type": "markdown",
   "id": "4172ad93",
   "metadata": {},
   "source": [
    "## --------------------------------\n",
    "## Random forest w/o SMOTE"
   ]
  },
  {
   "cell_type": "code",
   "execution_count": 13,
   "id": "2bb38105",
   "metadata": {},
   "outputs": [],
   "source": [
    "ranf = RandomForestClassifier(max_depth=10, min_samples_leaf=1, random_state= 123)\n",
    "ranf = ranf.fit(X_train, y_train)"
   ]
  },
  {
   "cell_type": "code",
   "execution_count": 14,
   "id": "bf7f18e0",
   "metadata": {},
   "outputs": [],
   "source": [
    "y_pred = ranf.predict(X_train)"
   ]
  },
  {
   "cell_type": "code",
   "execution_count": 15,
   "id": "994f152c",
   "metadata": {},
   "outputs": [
    {
     "name": "stdout",
     "output_type": "stream",
     "text": [
      "              precision    recall  f1-score   support\n",
      "\n",
      "           0       0.95      1.00      0.97    114385\n",
      "           1       1.00      0.00      0.00      6328\n",
      "\n",
      "    accuracy                           0.95    120713\n",
      "   macro avg       0.97      0.50      0.49    120713\n",
      "weighted avg       0.95      0.95      0.92    120713\n",
      "\n"
     ]
    }
   ],
   "source": [
    "# Compare actual y values (from validate) to predicted y_values from the model run on X_validate\n",
    "print(classification_report(y_train, y_pred))"
   ]
  },
  {
   "cell_type": "markdown",
   "id": "5e1778d2",
   "metadata": {},
   "source": [
    "##### I noticed this has no f-score at all for our no cancer patients, so lets see if this will working on a a different algorithm"
   ]
  },
  {
   "cell_type": "markdown",
   "id": "daab5325",
   "metadata": {},
   "source": [
    "## --------------------------------\n",
    "## KNN W/O SMOTE"
   ]
  },
  {
   "cell_type": "code",
   "execution_count": 16,
   "id": "45924e75",
   "metadata": {},
   "outputs": [],
   "source": [
    "knn1 = KNeighborsClassifier()\n",
    "\n",
    "knn1 = knn1.fit(X_train, y_train)"
   ]
  },
  {
   "cell_type": "code",
   "execution_count": 17,
   "id": "909133ef",
   "metadata": {},
   "outputs": [
    {
     "name": "stdout",
     "output_type": "stream",
     "text": [
      "              precision    recall  f1-score   support\n",
      "\n",
      "           0       0.95      1.00      0.97    114385\n",
      "           1       0.00      0.00      0.00      6328\n",
      "\n",
      "    accuracy                           0.95    120713\n",
      "   macro avg       0.47      0.50      0.49    120713\n",
      "weighted avg       0.90      0.95      0.92    120713\n",
      "\n"
     ]
    }
   ],
   "source": [
    "# Produce y_predictions that come from the X_validate\n",
    "y_pred_knn = knn1.predict(X_train)\n",
    "\n",
    "# Compare actual y values (from validate) to predicted y_values from the model run on X_validate\n",
    "print(classification_report(y_train, y_pred_knn))"
   ]
  },
  {
   "cell_type": "markdown",
   "id": "3e10c081",
   "metadata": {},
   "source": [
    "### We see a score f1-score but its really low? The issue being we're trying to classify Cancer and no cancer patients but our data set has a small number of no cancer patients, so moving forward we'll use SMOTE, since the data is skewed heavily for cancer patients lets raise the amount of no cancer patients and see if our model will have an overall better f1-score in detecting no cancer patients!"
   ]
  },
  {
   "cell_type": "markdown",
   "id": "61b7a183",
   "metadata": {},
   "source": [
    "# SMOTE"
   ]
  },
  {
   "cell_type": "code",
   "execution_count": 28,
   "id": "99bc37a9",
   "metadata": {},
   "outputs": [],
   "source": [
    "### Data is skewed to favor for cancer so lets change the size and see if we get a different result\n",
    "## Explain briefly "
   ]
  },
  {
   "cell_type": "code",
   "execution_count": 18,
   "id": "0071264a",
   "metadata": {},
   "outputs": [],
   "source": [
    "sm = SMOTE(random_state=123)\n",
    "X_train_res, y_train_res = sm.fit_resample(X_train, y_train)\n",
    "\n",
    "X_validate_res, y_validate_res = sm.fit_resample(X_validate, y_validate)\n",
    "\n",
    "X_test_res, y_test_res = sm.fit_resample(X_test, y_test)"
   ]
  },
  {
   "cell_type": "markdown",
   "id": "c9211eb6",
   "metadata": {},
   "source": [
    "## -----------------------\n",
    "## KNN w/ SMOTE"
   ]
  },
  {
   "cell_type": "code",
   "execution_count": 19,
   "id": "f8a7ab14",
   "metadata": {},
   "outputs": [],
   "source": [
    "knn1 = KNeighborsClassifier()\n",
    "knn1_res = knn1.fit(X_train_res, y_train_res)"
   ]
  },
  {
   "cell_type": "code",
   "execution_count": 20,
   "id": "785afcf6",
   "metadata": {},
   "outputs": [
    {
     "name": "stdout",
     "output_type": "stream",
     "text": [
      "              precision    recall  f1-score   support\n",
      "\n",
      "           0       0.65      0.59      0.62    114385\n",
      "           1       0.62      0.68      0.65    114385\n",
      "\n",
      "    accuracy                           0.63    228770\n",
      "   macro avg       0.64      0.63      0.63    228770\n",
      "weighted avg       0.64      0.63      0.63    228770\n",
      "\n"
     ]
    }
   ],
   "source": [
    "# Produce y_predictions that come from the X_validate\n",
    "y_pred_knn_res = knn1_res.predict(X_train_res)\n",
    "\n",
    "# Compare actual y values (from validate) to predicted y_values from the model run on X_validate\n",
    "print(classification_report(y_train_res, y_pred_knn_res))"
   ]
  },
  {
   "cell_type": "markdown",
   "id": "fb35780b",
   "metadata": {},
   "source": [
    "#### Here we see big imporvment with SMOTE with a higher f1-score so lets test this on other algorithms"
   ]
  },
  {
   "cell_type": "markdown",
   "id": "6f0eb519",
   "metadata": {},
   "source": [
    "## ----------------------------\n",
    "## Random forest w/ smote"
   ]
  },
  {
   "cell_type": "code",
   "execution_count": 21,
   "id": "5cf4ea04",
   "metadata": {},
   "outputs": [],
   "source": [
    "ranf = RandomForestClassifier(max_depth=10, min_samples_leaf=1, random_state= 123)\n",
    "ranf_res = ranf.fit(X_train_res, y_train_res)\n",
    "y_pred_ranf_res = ranf.predict(X_train_res)"
   ]
  },
  {
   "cell_type": "code",
   "execution_count": 22,
   "id": "c6032565",
   "metadata": {},
   "outputs": [
    {
     "name": "stdout",
     "output_type": "stream",
     "text": [
      "              precision    recall  f1-score   support\n",
      "\n",
      "           0       0.65      0.77      0.70    114385\n",
      "           1       0.71      0.58      0.64    114385\n",
      "\n",
      "    accuracy                           0.67    228770\n",
      "   macro avg       0.68      0.67      0.67    228770\n",
      "weighted avg       0.68      0.67      0.67    228770\n",
      "\n"
     ]
    }
   ],
   "source": [
    "# Compare actual y values (from validate) to predicted y_values from the model run on X_validate\n",
    "print(classification_report(y_train_res, y_pred_ranf_res))"
   ]
  },
  {
   "cell_type": "markdown",
   "id": "ba3d79a3",
   "metadata": {},
   "source": [
    "## -----------------------------\n",
    "## Decision Tree w/ SMOTE"
   ]
  },
  {
   "cell_type": "code",
   "execution_count": 23,
   "id": "9e8f52c0",
   "metadata": {},
   "outputs": [],
   "source": [
    "clf = DecisionTreeClassifier(max_depth=3, random_state= 123)\n",
    "\n",
    "clf = clf.fit(X_train_res, y_train_res)\n",
    "\n",
    "y_pred_dec_res = clf.predict(X_train_res)"
   ]
  },
  {
   "cell_type": "code",
   "execution_count": 24,
   "id": "91ff27e3",
   "metadata": {},
   "outputs": [
    {
     "name": "stdout",
     "output_type": "stream",
     "text": [
      "              precision    recall  f1-score   support\n",
      "\n",
      "           0       0.62      0.81      0.70    114385\n",
      "           1       0.73      0.51      0.60    114385\n",
      "\n",
      "    accuracy                           0.66    228770\n",
      "   macro avg       0.68      0.66      0.65    228770\n",
      "weighted avg       0.68      0.66      0.65    228770\n",
      "\n"
     ]
    }
   ],
   "source": [
    "# Compare actual y values (from validate) to predicted y_values from the model run on X_validate\n",
    "print(classification_report(y_train_res, y_pred_dec_res))"
   ]
  },
  {
   "cell_type": "markdown",
   "id": "62e55525",
   "metadata": {},
   "source": [
    "## ---------------------------\n",
    "# Validation W/ Smote\n",
    "## ---------------------------"
   ]
  },
  {
   "cell_type": "markdown",
   "id": "9dff3592",
   "metadata": {},
   "source": [
    "## Knn validate w/ smote"
   ]
  },
  {
   "cell_type": "code",
   "execution_count": 27,
   "id": "898c036f",
   "metadata": {},
   "outputs": [
    {
     "name": "stdout",
     "output_type": "stream",
     "text": [
      "              precision    recall  f1-score   support\n",
      "\n",
      "           0       0.65      0.58      0.61     49023\n",
      "           1       0.62      0.69      0.65     49023\n",
      "\n",
      "    accuracy                           0.63     98046\n",
      "   macro avg       0.64      0.63      0.63     98046\n",
      "weighted avg       0.64      0.63      0.63     98046\n",
      "\n"
     ]
    }
   ],
   "source": [
    "\n",
    "knn1_res_validate = knn1.fit(X_validate_res, y_validate_res)\n",
    "\n",
    "\n",
    "# Produce y_predictions that come from the X_validate\n",
    "y_pred_knn_validate = knn1_res_validate.predict(X_validate_res)\n",
    "\n",
    "# Compare actual y values (from validate) to predicted y_values from the model run on X_validate\n",
    "print(classification_report(y_validate_res, y_pred_knn_validate))"
   ]
  },
  {
   "cell_type": "markdown",
   "id": "fc7a8a6c",
   "metadata": {},
   "source": [
    "## Random forest validate w/ smote"
   ]
  },
  {
   "cell_type": "code",
   "execution_count": 25,
   "id": "1f29c816",
   "metadata": {},
   "outputs": [
    {
     "name": "stdout",
     "output_type": "stream",
     "text": [
      "              precision    recall  f1-score   support\n",
      "\n",
      "           0       0.69      0.66      0.67     49023\n",
      "           1       0.67      0.70      0.69     49023\n",
      "\n",
      "    accuracy                           0.68     98046\n",
      "   macro avg       0.68      0.68      0.68     98046\n",
      "weighted avg       0.68      0.68      0.68     98046\n",
      "\n"
     ]
    }
   ],
   "source": [
    "\n",
    "ranf_validate = ranf.fit(X_validate_res, y_validate_res)\n",
    "y_pred_ranf_validate = ranf_validate.predict(X_validate_res)\n",
    "\n",
    "# Compare actual y values (from validate) to predicted y_values from the model run on X_validate\n",
    "print(classification_report(y_validate_res, y_pred_ranf_validate))"
   ]
  },
  {
   "cell_type": "markdown",
   "id": "a7a68123",
   "metadata": {},
   "source": [
    "## Decision tree validation w/ smote"
   ]
  },
  {
   "cell_type": "code",
   "execution_count": 26,
   "id": "b40b179d",
   "metadata": {},
   "outputs": [
    {
     "name": "stdout",
     "output_type": "stream",
     "text": [
      "              precision    recall  f1-score   support\n",
      "\n",
      "           0       0.62      0.81      0.70     49023\n",
      "           1       0.73      0.50      0.59     49023\n",
      "\n",
      "    accuracy                           0.66     98046\n",
      "   macro avg       0.67      0.66      0.65     98046\n",
      "weighted avg       0.67      0.66      0.65     98046\n",
      "\n"
     ]
    }
   ],
   "source": [
    "\n",
    "clf_validate = clf.fit(X_validate_res, y_validate_res)\n",
    "\n",
    "y_pred_dec_validate = clf_validate.predict(X_validate_res)\n",
    "\n",
    "# Compare actual y values (from validate) to predicted y_values from the model run on X_validate\n",
    "print(classification_report(y_validate_res, y_pred_dec_validate))"
   ]
  },
  {
   "cell_type": "markdown",
   "id": "dcc244ac",
   "metadata": {},
   "source": [
    "### Randomf forest had a better f1-score for our target,so we'll use my Random forest for our final test!"
   ]
  },
  {
   "cell_type": "markdown",
   "id": "25fb8626",
   "metadata": {},
   "source": [
    "## --------------------------------------------\n",
    "# Test Random forest Test w/ smote\n",
    "## --------------------------------------------"
   ]
  },
  {
   "cell_type": "code",
   "execution_count": 28,
   "id": "608696e4",
   "metadata": {},
   "outputs": [
    {
     "name": "stdout",
     "output_type": "stream",
     "text": [
      "              precision    recall  f1-score   support\n",
      "\n",
      "           0       0.67      0.73      0.70     40852\n",
      "           1       0.71      0.65      0.68     40852\n",
      "\n",
      "    accuracy                           0.69     81704\n",
      "   macro avg       0.69      0.69      0.69     81704\n",
      "weighted avg       0.69      0.69      0.69     81704\n",
      "\n"
     ]
    }
   ],
   "source": [
    "ranf_test = ranf.fit(X_test_res, y_test_res)\n",
    "y_pred_ranf_test = ranf_test.predict(X_test_res)\n",
    "\n",
    "\n",
    "# Compare actual y values (from validate) to predicted y_values from the model run on X_validate\n",
    "print(classification_report(y_test_res, y_pred_ranf_test))"
   ]
  },
  {
   "cell_type": "markdown",
   "id": "d7e45710",
   "metadata": {},
   "source": [
    "## Key Takeaways"
   ]
  },
  {
   "cell_type": "markdown",
   "id": "0327caa5",
   "metadata": {},
   "source": [
    "* Looking at gender, education, legal status, and race/color we see that they hold a high significance with no cancer patients based of chi squared tests and graphs. My random forest model despite the small sample size of no cancer patients, using SMOTE with a f1-score of 69% my model is able to detect positive predicitons of no cancer patients! Considering the same variables this could work the same for future unseen data!"
   ]
  },
  {
   "cell_type": "markdown",
   "id": "9c5538a3",
   "metadata": {},
   "source": [
    "## Recommendation"
   ]
  },
  {
   "cell_type": "markdown",
   "id": "ed759864",
   "metadata": {},
   "source": [
    "* First recommendation if possible is to recieve more data, since I had to remove many rows of informations, 1,700,000 down to 220,000 thousand since so much data is missing. We now know that the values I looked at hold a significance into patients wiht no cancer, further study is needed to see why these factors in Brazil is a possiblity and why being Male, Married (Casado), White (Blanco), and those in Fundamentals I have tendencies of no cancer than others!"
   ]
  },
  {
   "cell_type": "markdown",
   "id": "b091d40a",
   "metadata": {},
   "source": [
    "## Next Steps"
   ]
  },
  {
   "cell_type": "markdown",
   "id": "05109269",
   "metadata": {},
   "source": [
    "* Using near miss algorithm to do the oppisite of SMOTE and see if results would change for the better!\n",
    "* Use more anomaly detection skills rather than classification and see the results\n",
    "* Look at other factors of cancer and no cancer once more information such as looking at people at specific locations: cities, states, counties!\n",
    "* Look at those who survived rather than cancer / no cacner and traget those who lived / died and see finding common attributes in those patients in Brazil!"
   ]
  },
  {
   "cell_type": "code",
   "execution_count": null,
   "id": "e6bbdc14",
   "metadata": {},
   "outputs": [],
   "source": []
  }
 ],
 "metadata": {
  "kernelspec": {
   "display_name": "Python 3",
   "language": "python",
   "name": "python3"
  },
  "language_info": {
   "codemirror_mode": {
    "name": "ipython",
    "version": 3
   },
   "file_extension": ".py",
   "mimetype": "text/x-python",
   "name": "python",
   "nbconvert_exporter": "python",
   "pygments_lexer": "ipython3",
   "version": "3.8.8"
  }
 },
 "nbformat": 4,
 "nbformat_minor": 5
}
