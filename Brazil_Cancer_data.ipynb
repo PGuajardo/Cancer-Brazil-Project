{
 "cells": [
  {
   "cell_type": "code",
   "execution_count": 58,
   "id": "5787d97a",
   "metadata": {},
   "outputs": [],
   "source": [
    "import acquire\n",
    "\n",
    "import pandas as pd\n",
    "\n",
    "import numpy as np\n",
    "import matplotlib.pyplot as plt\n",
    "\n",
    "# import splitting and imputing functions\n",
    "from sklearn.model_selection import train_test_split\n",
    "from sklearn.impute import SimpleImputer\n",
    "\n",
    "# turn off pink boxes for demo\n",
    "import warnings\n",
    "warnings.filterwarnings(\"ignore\")\n",
    "\n",
    "import scipy.stats as stats\n",
    "import seaborn as sns\n",
    "\n",
    "\n",
    "# decision tree evaluated on imbalanced dataset with SMOTE oversampling\n",
    "#from numpy import mean\n",
    "#from sklearn.datasets import make_classification\n",
    "from sklearn.model_selection import cross_val_score\n",
    "from sklearn.model_selection import RepeatedStratifiedKFold\n",
    "from imblearn.under_sampling import RandomUnderSampler\n",
    "from sklearn.tree import DecisionTreeClassifier\n",
    "from imblearn.pipeline import Pipeline\n",
    "from imblearn.over_sampling import SMOTE\n",
    "\n",
    "from collections import Counter\n",
    "\n",
    "from sklearn.metrics import accuracy_score\n",
    "from sklearn.metrics import classification_report\n",
    "\n",
    "from sklearn.tree import DecisionTreeClassifier\n",
    "from sklearn.ensemble import RandomForestClassifier\n",
    "from sklearn.neighbors import KNeighborsClassifier"
   ]
  },
  {
   "cell_type": "code",
   "execution_count": 2,
   "id": "0a57a0a5",
   "metadata": {},
   "outputs": [
    {
     "data": {
      "text/html": [
       "<div>\n",
       "<style scoped>\n",
       "    .dataframe tbody tr th:only-of-type {\n",
       "        vertical-align: middle;\n",
       "    }\n",
       "\n",
       "    .dataframe tbody tr th {\n",
       "        vertical-align: top;\n",
       "    }\n",
       "\n",
       "    .dataframe thead th {\n",
       "        text-align: right;\n",
       "    }\n",
       "</style>\n",
       "<table border=\"1\" class=\"dataframe\">\n",
       "  <thead>\n",
       "    <tr style=\"text-align: right;\">\n",
       "      <th></th>\n",
       "      <th>Patient.Code</th>\n",
       "      <th>RCBP.Name</th>\n",
       "      <th>Gender</th>\n",
       "      <th>Date.of.Birth</th>\n",
       "      <th>Age</th>\n",
       "      <th>Raca.Color</th>\n",
       "      <th>Nationality</th>\n",
       "      <th>Naturality.State</th>\n",
       "      <th>Naturality</th>\n",
       "      <th>Degree.of.Education</th>\n",
       "      <th>...</th>\n",
       "      <th>Laterality</th>\n",
       "      <th>Statement</th>\n",
       "      <th>TNM</th>\n",
       "      <th>Status.Vital</th>\n",
       "      <th>Type.of.Death</th>\n",
       "      <th>Date.of.Death</th>\n",
       "      <th>Date.of.Last.Contact</th>\n",
       "      <th>Date.of.Diagnostic</th>\n",
       "      <th>Distant.metastasis</th>\n",
       "      <th>year</th>\n",
       "    </tr>\n",
       "  </thead>\n",
       "  <tbody>\n",
       "    <tr>\n",
       "      <th>0</th>\n",
       "      <td>672054.0</td>\n",
       "      <td>RCBP CAMPINAS-UNICAMP</td>\n",
       "      <td>MASCULINO</td>\n",
       "      <td>1975-03-16</td>\n",
       "      <td>30.0</td>\n",
       "      <td>BRANCO</td>\n",
       "      <td>BRASIL</td>\n",
       "      <td>S�O PAULO</td>\n",
       "      <td>NaN</td>\n",
       "      <td>NaN</td>\n",
       "      <td>...</td>\n",
       "      <td>NaN</td>\n",
       "      <td>NaN</td>\n",
       "      <td>NaN</td>\n",
       "      <td>MORTO</td>\n",
       "      <td>C�NCER</td>\n",
       "      <td>2005-10-07</td>\n",
       "      <td>2005-10-07</td>\n",
       "      <td>2005-10-07</td>\n",
       "      <td>NaN</td>\n",
       "      <td>2005.0</td>\n",
       "    </tr>\n",
       "    <tr>\n",
       "      <th>1</th>\n",
       "      <td>673213.0</td>\n",
       "      <td>RCBP CAMPINAS-UNICAMP</td>\n",
       "      <td>FEMININO</td>\n",
       "      <td>1950-05-24</td>\n",
       "      <td>53.0</td>\n",
       "      <td>NaN</td>\n",
       "      <td>NaN</td>\n",
       "      <td>NaN</td>\n",
       "      <td>NaN</td>\n",
       "      <td>NaN</td>\n",
       "      <td>...</td>\n",
       "      <td>NaN</td>\n",
       "      <td>NaN</td>\n",
       "      <td>NaN</td>\n",
       "      <td>MORTO</td>\n",
       "      <td>NaN</td>\n",
       "      <td>2007-01-30</td>\n",
       "      <td>2007-01-30</td>\n",
       "      <td>2003-07-18</td>\n",
       "      <td>NaN</td>\n",
       "      <td>2003.0</td>\n",
       "    </tr>\n",
       "    <tr>\n",
       "      <th>2</th>\n",
       "      <td>673396.0</td>\n",
       "      <td>RCBP CAMPINAS-UNICAMP</td>\n",
       "      <td>FEMININO</td>\n",
       "      <td>1951-09-02</td>\n",
       "      <td>51.0</td>\n",
       "      <td>PARDA</td>\n",
       "      <td>BRASIL</td>\n",
       "      <td>S�O PAULO</td>\n",
       "      <td>NaN</td>\n",
       "      <td>NaN</td>\n",
       "      <td>...</td>\n",
       "      <td>NaN</td>\n",
       "      <td>NaN</td>\n",
       "      <td>NaN</td>\n",
       "      <td>MORTO</td>\n",
       "      <td>C�NCER</td>\n",
       "      <td>2005-07-03</td>\n",
       "      <td>2005-07-03</td>\n",
       "      <td>2003-05-16</td>\n",
       "      <td>NaN</td>\n",
       "      <td>2003.0</td>\n",
       "    </tr>\n",
       "    <tr>\n",
       "      <th>3</th>\n",
       "      <td>673425.0</td>\n",
       "      <td>RCBP CAMPINAS-UNICAMP</td>\n",
       "      <td>FEMININO</td>\n",
       "      <td>1929-11-21</td>\n",
       "      <td>73.0</td>\n",
       "      <td>NaN</td>\n",
       "      <td>NaN</td>\n",
       "      <td>NaN</td>\n",
       "      <td>NaN</td>\n",
       "      <td>NaN</td>\n",
       "      <td>...</td>\n",
       "      <td>NaN</td>\n",
       "      <td>NaN</td>\n",
       "      <td>NaN</td>\n",
       "      <td>VIVO</td>\n",
       "      <td>NaN</td>\n",
       "      <td>NaN</td>\n",
       "      <td>2010-07-28</td>\n",
       "      <td>2003-04-01</td>\n",
       "      <td>NaN</td>\n",
       "      <td>2003.0</td>\n",
       "    </tr>\n",
       "    <tr>\n",
       "      <th>4</th>\n",
       "      <td>673745.0</td>\n",
       "      <td>RCBP CAMPINAS-UNICAMP</td>\n",
       "      <td>MASCULINO</td>\n",
       "      <td>1934-07-03</td>\n",
       "      <td>71.0</td>\n",
       "      <td>BRANCO</td>\n",
       "      <td>BRASIL</td>\n",
       "      <td>S�O PAULO</td>\n",
       "      <td>NaN</td>\n",
       "      <td>NaN</td>\n",
       "      <td>...</td>\n",
       "      <td>NaN</td>\n",
       "      <td>NaN</td>\n",
       "      <td>NaN</td>\n",
       "      <td>MORTO</td>\n",
       "      <td>C�NCER</td>\n",
       "      <td>2005-10-21</td>\n",
       "      <td>2005-10-21</td>\n",
       "      <td>2005-10-21</td>\n",
       "      <td>NaN</td>\n",
       "      <td>2005.0</td>\n",
       "    </tr>\n",
       "  </tbody>\n",
       "</table>\n",
       "<p>5 rows × 38 columns</p>\n",
       "</div>"
      ],
      "text/plain": [
       "   Patient.Code              RCBP.Name     Gender Date.of.Birth   Age  \\\n",
       "0      672054.0  RCBP CAMPINAS-UNICAMP  MASCULINO    1975-03-16  30.0   \n",
       "1      673213.0  RCBP CAMPINAS-UNICAMP   FEMININO    1950-05-24  53.0   \n",
       "2      673396.0  RCBP CAMPINAS-UNICAMP   FEMININO    1951-09-02  51.0   \n",
       "3      673425.0  RCBP CAMPINAS-UNICAMP   FEMININO    1929-11-21  73.0   \n",
       "4      673745.0  RCBP CAMPINAS-UNICAMP  MASCULINO    1934-07-03  71.0   \n",
       "\n",
       "  Raca.Color Nationality Naturality.State Naturality Degree.of.Education  ...  \\\n",
       "0     BRANCO      BRASIL        S�O PAULO        NaN                 NaN  ...   \n",
       "1        NaN         NaN              NaN        NaN                 NaN  ...   \n",
       "2      PARDA      BRASIL        S�O PAULO        NaN                 NaN  ...   \n",
       "3        NaN         NaN              NaN        NaN                 NaN  ...   \n",
       "4     BRANCO      BRASIL        S�O PAULO        NaN                 NaN  ...   \n",
       "\n",
       "  Laterality  Statement  TNM Status.Vital Type.of.Death Date.of.Death  \\\n",
       "0        NaN        NaN  NaN        MORTO        C�NCER    2005-10-07   \n",
       "1        NaN        NaN  NaN        MORTO           NaN    2007-01-30   \n",
       "2        NaN        NaN  NaN        MORTO        C�NCER    2005-07-03   \n",
       "3        NaN        NaN  NaN         VIVO           NaN           NaN   \n",
       "4        NaN        NaN  NaN        MORTO        C�NCER    2005-10-21   \n",
       "\n",
       "  Date.of.Last.Contact Date.of.Diagnostic  Distant.metastasis    year  \n",
       "0           2005-10-07         2005-10-07                 NaN  2005.0  \n",
       "1           2007-01-30         2003-07-18                 NaN  2003.0  \n",
       "2           2005-07-03         2003-05-16                 NaN  2003.0  \n",
       "3           2010-07-28         2003-04-01                 NaN  2003.0  \n",
       "4           2005-10-21         2005-10-21                 NaN  2005.0  \n",
       "\n",
       "[5 rows x 38 columns]"
      ]
     },
     "execution_count": 2,
     "metadata": {},
     "output_type": "execute_result"
    }
   ],
   "source": [
    "df = acquire.get_brazil_data()\n",
    "df.head()"
   ]
  },
  {
   "cell_type": "code",
   "execution_count": 3,
   "id": "c452f9cf",
   "metadata": {},
   "outputs": [
    {
     "data": {
      "text/plain": [
       "(1778176, 38)"
      ]
     },
     "execution_count": 3,
     "metadata": {},
     "output_type": "execute_result"
    }
   ],
   "source": [
    "df.shape"
   ]
  },
  {
   "cell_type": "code",
   "execution_count": 4,
   "id": "7a5fa34a",
   "metadata": {},
   "outputs": [
    {
     "name": "stdout",
     "output_type": "stream",
     "text": [
      "<class 'pandas.core.frame.DataFrame'>\n",
      "RangeIndex: 1778176 entries, 0 to 1778175\n",
      "Data columns (total 38 columns):\n",
      " #   Column                           Dtype  \n",
      "---  ------                           -----  \n",
      " 0   Patient.Code                     float64\n",
      " 1   RCBP.Name                        object \n",
      " 2   Gender                           object \n",
      " 3   Date.of.Birth                    object \n",
      " 4   Age                              float64\n",
      " 5   Raca.Color                       object \n",
      " 6   Nationality                      object \n",
      " 7   Naturality.State                 object \n",
      " 8   Naturality                       object \n",
      " 9   Degree.of.Education              object \n",
      " 10  State.Civil                      object \n",
      " 11  Code.Profession                  float64\n",
      " 12  Name.Occupation                  object \n",
      " 13  Status.Address                   object \n",
      " 14  City.Address                     object \n",
      " 15  Description.of.Topography        object \n",
      " 16  Topography.Code                  object \n",
      " 17  Morphology.Description           object \n",
      " 18  Code.of.Morphology               int64  \n",
      " 19  Description.of.Disease           object \n",
      " 20  Illness.Code                     object \n",
      " 21  Child.Illness.Description        object \n",
      " 22  Child.Illness.Code               object \n",
      " 23  Youth.Adult.Illness.Description  object \n",
      " 24  Code.of.Disease.Adult.Young.     object \n",
      " 25  Indicator.of.Rare.Case           object \n",
      " 26  Diagnostic.means                 object \n",
      " 27  Extension                        object \n",
      " 28  Laterality                       object \n",
      " 29  Statement                        object \n",
      " 30  TNM                              object \n",
      " 31  Status.Vital                     object \n",
      " 32  Type.of.Death                    object \n",
      " 33  Date.of.Death                    object \n",
      " 34  Date.of.Last.Contact             object \n",
      " 35  Date.of.Diagnostic               object \n",
      " 36  Distant.metastasis               object \n",
      " 37  year                             float64\n",
      "dtypes: float64(4), int64(1), object(33)\n",
      "memory usage: 515.5+ MB\n"
     ]
    }
   ],
   "source": [
    "df.info()"
   ]
  },
  {
   "cell_type": "code",
   "execution_count": 7,
   "id": "086c4f98",
   "metadata": {},
   "outputs": [
    {
     "data": {
      "text/plain": [
       "MORTO    123862\n",
       "VIVO      85896\n",
       "Name: Status.Vital, dtype: int64"
      ]
     },
     "execution_count": 7,
     "metadata": {},
     "output_type": "execute_result"
    }
   ],
   "source": [
    "df['Status.Vital'].value_counts()"
   ]
  },
  {
   "cell_type": "code",
   "execution_count": 8,
   "id": "6b9e94ef",
   "metadata": {},
   "outputs": [
    {
     "data": {
      "text/plain": [
       "C�NCER        375903\n",
       "N�O C�NCER     23376\n",
       "Name: Type.of.Death, dtype: int64"
      ]
     },
     "execution_count": 8,
     "metadata": {},
     "output_type": "execute_result"
    }
   ],
   "source": [
    "df['Type.of.Death'].value_counts()"
   ]
  },
  {
   "cell_type": "code",
   "execution_count": 11,
   "id": "4ac73c37",
   "metadata": {},
   "outputs": [
    {
     "data": {
      "text/plain": [
       "BRASIL           811183\n",
       "PORTUGAL            749\n",
       "ITALIA              451\n",
       "JAPAO               448\n",
       "ESPANHA             266\n",
       "                  ...  \n",
       "BAREIN                1\n",
       "AFEGANISTAO           1\n",
       "SUDAO                 1\n",
       "ILHAS NORFOLK         1\n",
       "ANTIGUA               1\n",
       "Name: Nationality, Length: 113, dtype: int64"
      ]
     },
     "execution_count": 11,
     "metadata": {},
     "output_type": "execute_result"
    }
   ],
   "source": [
    "df.Nationality.value_counts()"
   ]
  },
  {
   "cell_type": "code",
   "execution_count": 14,
   "id": "a598cfcc",
   "metadata": {},
   "outputs": [
    {
     "data": {
      "text/plain": [
       "Patient.Code                         74429\n",
       "RCBP.Name                                0\n",
       "Gender                                   0\n",
       "Date.of.Birth                       768445\n",
       "Age                                  79972\n",
       "Raca.Color                          785048\n",
       "Nationality                         962996\n",
       "Naturality.State                   1326620\n",
       "Naturality                         1591764\n",
       "Degree.of.Education                1372348\n",
       "State.Civil                        1179041\n",
       "Code.Profession                     140150\n",
       "Name.Occupation                     140150\n",
       "Status.Address                       64197\n",
       "City.Address                         63842\n",
       "Description.of.Topography                0\n",
       "Topography.Code                          0\n",
       "Morphology.Description                   0\n",
       "Code.of.Morphology                       0\n",
       "Description.of.Disease                   0\n",
       "Illness.Code                             0\n",
       "Child.Illness.Description          1079470\n",
       "Child.Illness.Code                 1079470\n",
       "Youth.Adult.Illness.Description    1098116\n",
       "Code.of.Disease.Adult.Young.       1098116\n",
       "Indicator.of.Rare.Case              731311\n",
       "Diagnostic.means                     30326\n",
       "Extension                          1227546\n",
       "Laterality                         1580348\n",
       "Statement                          1713701\n",
       "TNM                                1715988\n",
       "Status.Vital                       1568418\n",
       "Type.of.Death                      1378897\n",
       "Date.of.Death                      1151656\n",
       "Date.of.Last.Contact               1335704\n",
       "Date.of.Diagnostic                   63842\n",
       "Distant.metastasis                 1760809\n",
       "year                                 63842\n",
       "dtype: int64"
      ]
     },
     "execution_count": 14,
     "metadata": {},
     "output_type": "execute_result"
    }
   ],
   "source": [
    "df.isna().sum()"
   ]
  },
  {
   "cell_type": "code",
   "execution_count": 15,
   "id": "8f71adb6",
   "metadata": {},
   "outputs": [
    {
     "data": {
      "text/plain": [
       "0          C�NCER\n",
       "1             NaN\n",
       "2          C�NCER\n",
       "3             NaN\n",
       "4          C�NCER\n",
       "            ...  \n",
       "1778171       NaN\n",
       "1778172       NaN\n",
       "1778173       NaN\n",
       "1778174       NaN\n",
       "1778175       NaN\n",
       "Name: Type.of.Death, Length: 1778176, dtype: object"
      ]
     },
     "execution_count": 15,
     "metadata": {},
     "output_type": "execute_result"
    }
   ],
   "source": [
    "df['Type.of.Death']"
   ]
  },
  {
   "cell_type": "code",
   "execution_count": 19,
   "id": "7fe22085",
   "metadata": {},
   "outputs": [
    {
     "data": {
      "text/plain": [
       "1568418"
      ]
     },
     "execution_count": 19,
     "metadata": {},
     "output_type": "execute_result"
    }
   ],
   "source": [
    "df['Status.Vital'].isna().sum()"
   ]
  },
  {
   "cell_type": "code",
   "execution_count": 17,
   "id": "4338b4b2",
   "metadata": {},
   "outputs": [],
   "source": [
    "# Explain a lot of the data is missing, for cancer and death (thats why I have to drop about 80% of the data)"
   ]
  },
  {
   "cell_type": "markdown",
   "id": "a0439d06",
   "metadata": {},
   "source": [
    "## I'll use this for just looking for cancer or no cancer "
   ]
  },
  {
   "cell_type": "code",
   "execution_count": 78,
   "id": "171be009",
   "metadata": {},
   "outputs": [],
   "source": [
    "df_cancer = df.copy()"
   ]
  },
  {
   "cell_type": "code",
   "execution_count": 79,
   "id": "44b9a05f",
   "metadata": {},
   "outputs": [],
   "source": [
    "df_cancer = df_cancer[df_cancer['Type.of.Death'].notna()]"
   ]
  },
  {
   "cell_type": "code",
   "execution_count": 80,
   "id": "dd96a0d8",
   "metadata": {},
   "outputs": [
    {
     "data": {
      "text/plain": [
       "(399279, 38)"
      ]
     },
     "execution_count": 80,
     "metadata": {},
     "output_type": "execute_result"
    }
   ],
   "source": [
    "df_cancer.shape"
   ]
  },
  {
   "cell_type": "code",
   "execution_count": 81,
   "id": "c6d19542",
   "metadata": {},
   "outputs": [
    {
     "data": {
      "text/html": [
       "<div>\n",
       "<style scoped>\n",
       "    .dataframe tbody tr th:only-of-type {\n",
       "        vertical-align: middle;\n",
       "    }\n",
       "\n",
       "    .dataframe tbody tr th {\n",
       "        vertical-align: top;\n",
       "    }\n",
       "\n",
       "    .dataframe thead th {\n",
       "        text-align: right;\n",
       "    }\n",
       "</style>\n",
       "<table border=\"1\" class=\"dataframe\">\n",
       "  <thead>\n",
       "    <tr style=\"text-align: right;\">\n",
       "      <th></th>\n",
       "      <th>Patient.Code</th>\n",
       "      <th>RCBP.Name</th>\n",
       "      <th>Gender</th>\n",
       "      <th>Date.of.Birth</th>\n",
       "      <th>Age</th>\n",
       "      <th>Raca.Color</th>\n",
       "      <th>Nationality</th>\n",
       "      <th>Naturality.State</th>\n",
       "      <th>Naturality</th>\n",
       "      <th>Degree.of.Education</th>\n",
       "      <th>...</th>\n",
       "      <th>Laterality</th>\n",
       "      <th>Statement</th>\n",
       "      <th>TNM</th>\n",
       "      <th>Status.Vital</th>\n",
       "      <th>Type.of.Death</th>\n",
       "      <th>Date.of.Death</th>\n",
       "      <th>Date.of.Last.Contact</th>\n",
       "      <th>Date.of.Diagnostic</th>\n",
       "      <th>Distant.metastasis</th>\n",
       "      <th>year</th>\n",
       "    </tr>\n",
       "  </thead>\n",
       "  <tbody>\n",
       "    <tr>\n",
       "      <th>0</th>\n",
       "      <td>672054.0</td>\n",
       "      <td>RCBP CAMPINAS-UNICAMP</td>\n",
       "      <td>MASCULINO</td>\n",
       "      <td>1975-03-16</td>\n",
       "      <td>30.0</td>\n",
       "      <td>BRANCO</td>\n",
       "      <td>BRASIL</td>\n",
       "      <td>S�O PAULO</td>\n",
       "      <td>NaN</td>\n",
       "      <td>NaN</td>\n",
       "      <td>...</td>\n",
       "      <td>NaN</td>\n",
       "      <td>NaN</td>\n",
       "      <td>NaN</td>\n",
       "      <td>MORTO</td>\n",
       "      <td>C�NCER</td>\n",
       "      <td>2005-10-07</td>\n",
       "      <td>2005-10-07</td>\n",
       "      <td>2005-10-07</td>\n",
       "      <td>NaN</td>\n",
       "      <td>2005.0</td>\n",
       "    </tr>\n",
       "    <tr>\n",
       "      <th>2</th>\n",
       "      <td>673396.0</td>\n",
       "      <td>RCBP CAMPINAS-UNICAMP</td>\n",
       "      <td>FEMININO</td>\n",
       "      <td>1951-09-02</td>\n",
       "      <td>51.0</td>\n",
       "      <td>PARDA</td>\n",
       "      <td>BRASIL</td>\n",
       "      <td>S�O PAULO</td>\n",
       "      <td>NaN</td>\n",
       "      <td>NaN</td>\n",
       "      <td>...</td>\n",
       "      <td>NaN</td>\n",
       "      <td>NaN</td>\n",
       "      <td>NaN</td>\n",
       "      <td>MORTO</td>\n",
       "      <td>C�NCER</td>\n",
       "      <td>2005-07-03</td>\n",
       "      <td>2005-07-03</td>\n",
       "      <td>2003-05-16</td>\n",
       "      <td>NaN</td>\n",
       "      <td>2003.0</td>\n",
       "    </tr>\n",
       "    <tr>\n",
       "      <th>4</th>\n",
       "      <td>673745.0</td>\n",
       "      <td>RCBP CAMPINAS-UNICAMP</td>\n",
       "      <td>MASCULINO</td>\n",
       "      <td>1934-07-03</td>\n",
       "      <td>71.0</td>\n",
       "      <td>BRANCO</td>\n",
       "      <td>BRASIL</td>\n",
       "      <td>S�O PAULO</td>\n",
       "      <td>NaN</td>\n",
       "      <td>NaN</td>\n",
       "      <td>...</td>\n",
       "      <td>NaN</td>\n",
       "      <td>NaN</td>\n",
       "      <td>NaN</td>\n",
       "      <td>MORTO</td>\n",
       "      <td>C�NCER</td>\n",
       "      <td>2005-10-21</td>\n",
       "      <td>2005-10-21</td>\n",
       "      <td>2005-10-21</td>\n",
       "      <td>NaN</td>\n",
       "      <td>2005.0</td>\n",
       "    </tr>\n",
       "    <tr>\n",
       "      <th>5</th>\n",
       "      <td>676350.0</td>\n",
       "      <td>RCBP CAMPINAS-UNICAMP</td>\n",
       "      <td>MASCULINO</td>\n",
       "      <td>1933-11-18</td>\n",
       "      <td>71.0</td>\n",
       "      <td>BRANCO</td>\n",
       "      <td>BRASIL</td>\n",
       "      <td>S�O PAULO</td>\n",
       "      <td>NaN</td>\n",
       "      <td>SUPERIOR COMPLETO</td>\n",
       "      <td>...</td>\n",
       "      <td>NaN</td>\n",
       "      <td>NaN</td>\n",
       "      <td>NaN</td>\n",
       "      <td>MORTO</td>\n",
       "      <td>C�NCER</td>\n",
       "      <td>2005-11-06</td>\n",
       "      <td>2005-11-06</td>\n",
       "      <td>2005-11-06</td>\n",
       "      <td>NaN</td>\n",
       "      <td>2005.0</td>\n",
       "    </tr>\n",
       "    <tr>\n",
       "      <th>6</th>\n",
       "      <td>679877.0</td>\n",
       "      <td>RCBP CAMPINAS-UNICAMP</td>\n",
       "      <td>FEMININO</td>\n",
       "      <td>1947-11-30</td>\n",
       "      <td>57.0</td>\n",
       "      <td>PARDA</td>\n",
       "      <td>BRASIL</td>\n",
       "      <td>ALAGOAS</td>\n",
       "      <td>NaN</td>\n",
       "      <td>NaN</td>\n",
       "      <td>...</td>\n",
       "      <td>NaN</td>\n",
       "      <td>NaN</td>\n",
       "      <td>NaN</td>\n",
       "      <td>MORTO</td>\n",
       "      <td>C�NCER</td>\n",
       "      <td>2005-05-15</td>\n",
       "      <td>2005-05-15</td>\n",
       "      <td>2005-05-15</td>\n",
       "      <td>NaN</td>\n",
       "      <td>2005.0</td>\n",
       "    </tr>\n",
       "  </tbody>\n",
       "</table>\n",
       "<p>5 rows × 38 columns</p>\n",
       "</div>"
      ],
      "text/plain": [
       "   Patient.Code              RCBP.Name     Gender Date.of.Birth   Age  \\\n",
       "0      672054.0  RCBP CAMPINAS-UNICAMP  MASCULINO    1975-03-16  30.0   \n",
       "2      673396.0  RCBP CAMPINAS-UNICAMP   FEMININO    1951-09-02  51.0   \n",
       "4      673745.0  RCBP CAMPINAS-UNICAMP  MASCULINO    1934-07-03  71.0   \n",
       "5      676350.0  RCBP CAMPINAS-UNICAMP  MASCULINO    1933-11-18  71.0   \n",
       "6      679877.0  RCBP CAMPINAS-UNICAMP   FEMININO    1947-11-30  57.0   \n",
       "\n",
       "  Raca.Color Nationality Naturality.State Naturality Degree.of.Education  ...  \\\n",
       "0     BRANCO      BRASIL        S�O PAULO        NaN                 NaN  ...   \n",
       "2      PARDA      BRASIL        S�O PAULO        NaN                 NaN  ...   \n",
       "4     BRANCO      BRASIL        S�O PAULO        NaN                 NaN  ...   \n",
       "5     BRANCO      BRASIL        S�O PAULO        NaN   SUPERIOR COMPLETO  ...   \n",
       "6      PARDA      BRASIL          ALAGOAS        NaN                 NaN  ...   \n",
       "\n",
       "  Laterality  Statement  TNM Status.Vital Type.of.Death Date.of.Death  \\\n",
       "0        NaN        NaN  NaN        MORTO        C�NCER    2005-10-07   \n",
       "2        NaN        NaN  NaN        MORTO        C�NCER    2005-07-03   \n",
       "4        NaN        NaN  NaN        MORTO        C�NCER    2005-10-21   \n",
       "5        NaN        NaN  NaN        MORTO        C�NCER    2005-11-06   \n",
       "6        NaN        NaN  NaN        MORTO        C�NCER    2005-05-15   \n",
       "\n",
       "  Date.of.Last.Contact Date.of.Diagnostic  Distant.metastasis    year  \n",
       "0           2005-10-07         2005-10-07                 NaN  2005.0  \n",
       "2           2005-07-03         2003-05-16                 NaN  2003.0  \n",
       "4           2005-10-21         2005-10-21                 NaN  2005.0  \n",
       "5           2005-11-06         2005-11-06                 NaN  2005.0  \n",
       "6           2005-05-15         2005-05-15                 NaN  2005.0  \n",
       "\n",
       "[5 rows x 38 columns]"
      ]
     },
     "execution_count": 81,
     "metadata": {},
     "output_type": "execute_result"
    }
   ],
   "source": [
    "df_cancer.head()"
   ]
  },
  {
   "cell_type": "code",
   "execution_count": 82,
   "id": "1f6d1003",
   "metadata": {},
   "outputs": [
    {
     "data": {
      "text/plain": [
       "C�NCER        375903\n",
       "N�O C�NCER     23376\n",
       "Name: Type.of.Death, dtype: int64"
      ]
     },
     "execution_count": 82,
     "metadata": {},
     "output_type": "execute_result"
    }
   ],
   "source": [
    "df_cancer['Type.of.Death'].value_counts()"
   ]
  },
  {
   "cell_type": "code",
   "execution_count": 83,
   "id": "0608fd77",
   "metadata": {},
   "outputs": [],
   "source": [
    "df_cancer = df_cancer.drop(columns=['Child.Illness.Description', 'Child.Illness.Code', 'Description.of.Disease',\n",
    "                'Illness.Code', 'Youth.Adult.Illness.Description', 'Code.of.Disease.Adult.Young.',\n",
    "                'Patient.Code' , 'RCBP.Name', 'Date.of.Birth',\n",
    "                'TNM', 'Extension', 'Statement', 'Topography.Code', 'Morphology.Description',\n",
    "                'Code.of.Morphology', 'Description.of.Disease', 'Illness.Code', 'Description.of.Topography',\n",
    "                'Date.of.Last.Contact', 'Date.of.Diagnostic', 'Distant.metastasis', 'Code.Profession',\n",
    "                'Name.Occupation','Laterality', 'Date.of.Death','Naturality','Naturality.State', 'Status.Vital'])"
   ]
  },
  {
   "cell_type": "code",
   "execution_count": 84,
   "id": "a8ca54ff",
   "metadata": {},
   "outputs": [],
   "source": [
    "df_cancer = df_cancer[df_cancer['Age'] <= 120]"
   ]
  },
  {
   "cell_type": "code",
   "execution_count": 85,
   "id": "f3cf56a6",
   "metadata": {},
   "outputs": [
    {
     "data": {
      "text/plain": [
       "FUNDAMENTAL I (1� A 4� S�RIE)     66856\n",
       "FUNDAMENTAL II (5� A 8� S�RIE)    49791\n",
       "M�DIO (ANTIGO SEGUNDO GRAU)       43592\n",
       "SUPERIOR COMPLETO                 29774\n",
       "SEM ESCOLARIDADE                  26144\n",
       "SUPERIOR INCOMPLETO                1800\n",
       "Name: Degree.of.Education, dtype: int64"
      ]
     },
     "execution_count": 85,
     "metadata": {},
     "output_type": "execute_result"
    }
   ],
   "source": [
    "df_cancer['Degree.of.Education'].value_counts()"
   ]
  },
  {
   "cell_type": "code",
   "execution_count": 86,
   "id": "831590df",
   "metadata": {},
   "outputs": [
    {
     "data": {
      "text/plain": [
       "CASADO                    151033\n",
       "SOLTEIRO                   68053\n",
       "VI�VO                      63383\n",
       "SEPARADO JUDICIALMENTE     21271\n",
       "UNI�O CONSENSUAL            6444\n",
       "Name: State.Civil, dtype: int64"
      ]
     },
     "execution_count": 86,
     "metadata": {},
     "output_type": "execute_result"
    }
   ],
   "source": [
    "df_cancer['State.Civil'].value_counts()"
   ]
  },
  {
   "cell_type": "code",
   "execution_count": 87,
   "id": "ad11bd4a",
   "metadata": {},
   "outputs": [],
   "source": [
    "df_cancer = df_cancer[df_cancer['Diagnostic.means'].notna()]\n",
    "df_cancer = df_cancer[df_cancer['Indicator.of.Rare.Case'].notna()]\n",
    "df_cancer = df_cancer[df_cancer['Degree.of.Education'].notna()]\n",
    "\n",
    "\n",
    "df_cancer['Raca.Color'] = df_cancer['Raca.Color'].fillna('BRANCO')\n",
    "df_cancer['Nationality'] = df_cancer['Nationality'].fillna('BRASIL')\n",
    "df_cancer['State.Civil'] = df_cancer['State.Civil'].fillna('CASADO')"
   ]
  },
  {
   "cell_type": "code",
   "execution_count": 88,
   "id": "d6701c2d",
   "metadata": {},
   "outputs": [],
   "source": [
    "df_cancer['Degree.of.Education'] = df_cancer['Degree.of.Education'].replace(regex={r'^FUNDAMENTAL I .1. A 4. S.RIE.$': 'Fundamental I',\n",
    "                  r'^FUNDAMENTAL II .5. A 8. S.RIE.$': 'Fundamental II',\n",
    "                 r'^M.DIO .ANTIGO SEGUNDO GRAU.$': 'Former Second Degree',\n",
    "                 'SEM ESCOLARIDADE': 'Without Education', 'SUPERIOR COMPLETO' : 'Graduated',\n",
    "                 'SUPERIOR INCOMPLETO' : 'Incomplete High'})\n",
    "\n"
   ]
  },
  {
   "cell_type": "code",
   "execution_count": 89,
   "id": "14ebf859",
   "metadata": {},
   "outputs": [],
   "source": [
    "df_cancer['Type.of.Death'] = df_cancer['Type.of.Death'].replace(regex={r'^C.NCER$': 'Cancer', r'^N.O C.NCER$': 'No Cancer'})\n",
    "\n",
    "df_cancer['Gender'] = df_cancer['Gender'].replace(regex={r'^MASCULINO$': 'Male', r'^FEMININO$': 'Female', r'^IGNORADO$' : 'Ignored'})\n",
    "\n"
   ]
  },
  {
   "cell_type": "code",
   "execution_count": 90,
   "id": "780a8d3e",
   "metadata": {},
   "outputs": [],
   "source": [
    "df_cancer.rename(columns={'State.Civil' : 'Legal_Status',\n",
    "                  'Degree.of.Education' : 'Education',\n",
    "                   'Type.of.Death' : 'Type_of_Death', 'Status.Address' : 'Status_Address',\n",
    "                   'City.Address' : 'City_Address', 'Diagnostic.means' : 'Diagnostic_means',\n",
    "                  'Raca.Color' : 'Race_Color', 'Indicator.of.Rare.Case' : 'Rare_Case'}, inplace=True)"
   ]
  },
  {
   "cell_type": "code",
   "execution_count": 91,
   "id": "6636a419",
   "metadata": {},
   "outputs": [],
   "source": [
    "dummy_df = pd.get_dummies(df_cancer[['Gender', 'Type_of_Death', 'Education', 'Race_Color', 'Legal_Status']],\n",
    "                             dummy_na = False, drop_first = [True])\n",
    "\n",
    "df_cancer = pd.concat([df_cancer, dummy_df], axis = 1)"
   ]
  },
  {
   "cell_type": "code",
   "execution_count": 92,
   "id": "0b8c648e",
   "metadata": {},
   "outputs": [
    {
     "data": {
      "text/plain": [
       "Gender                                 0\n",
       "Age                                    0\n",
       "Race_Color                             0\n",
       "Nationality                            0\n",
       "Education                              0\n",
       "Legal_Status                           0\n",
       "Status_Address                         0\n",
       "City_Address                           0\n",
       "Rare_Case                              0\n",
       "Diagnostic_means                       0\n",
       "Type_of_Death                          0\n",
       "year                                   0\n",
       "Gender_Ignored                         0\n",
       "Gender_Male                            0\n",
       "Type_of_Death_No Cancer                0\n",
       "Education_Fundamental I                0\n",
       "Education_Fundamental II               0\n",
       "Education_Graduated                    0\n",
       "Education_Incomplete High              0\n",
       "Education_Without Education            0\n",
       "Race_Color_BRANCO                      0\n",
       "Race_Color_IND�GENA                    0\n",
       "Race_Color_PARDA                       0\n",
       "Race_Color_PRETA                       0\n",
       "Legal_Status_SEPARADO JUDICIALMENTE    0\n",
       "Legal_Status_SOLTEIRO                  0\n",
       "Legal_Status_UNI�O CONSENSUAL          0\n",
       "Legal_Status_VI�VO                     0\n",
       "dtype: int64"
      ]
     },
     "execution_count": 92,
     "metadata": {},
     "output_type": "execute_result"
    }
   ],
   "source": [
    "df_cancer.isna().sum()"
   ]
  },
  {
   "cell_type": "code",
   "execution_count": 93,
   "id": "639e383b",
   "metadata": {},
   "outputs": [],
   "source": [
    "df_cancer.rename(columns={'Type_of_Death_No Cancer': 'has_No_Cancer'}, inplace=True)"
   ]
  },
  {
   "cell_type": "code",
   "execution_count": 94,
   "id": "d02f25d9",
   "metadata": {},
   "outputs": [],
   "source": [
    "train, validate, test = train_validate_test_split(df_cancer, 'Type_of_Death')"
   ]
  },
  {
   "cell_type": "code",
   "execution_count": 95,
   "id": "e0db3cfb",
   "metadata": {},
   "outputs": [
    {
     "data": {
      "text/html": [
       "<div>\n",
       "<style scoped>\n",
       "    .dataframe tbody tr th:only-of-type {\n",
       "        vertical-align: middle;\n",
       "    }\n",
       "\n",
       "    .dataframe tbody tr th {\n",
       "        vertical-align: top;\n",
       "    }\n",
       "\n",
       "    .dataframe thead th {\n",
       "        text-align: right;\n",
       "    }\n",
       "</style>\n",
       "<table border=\"1\" class=\"dataframe\">\n",
       "  <thead>\n",
       "    <tr style=\"text-align: right;\">\n",
       "      <th></th>\n",
       "      <th>Gender</th>\n",
       "      <th>Age</th>\n",
       "      <th>Race_Color</th>\n",
       "      <th>Nationality</th>\n",
       "      <th>Education</th>\n",
       "      <th>Legal_Status</th>\n",
       "      <th>Status_Address</th>\n",
       "      <th>City_Address</th>\n",
       "      <th>Rare_Case</th>\n",
       "      <th>Diagnostic_means</th>\n",
       "      <th>...</th>\n",
       "      <th>Education_Incomplete High</th>\n",
       "      <th>Education_Without Education</th>\n",
       "      <th>Race_Color_BRANCO</th>\n",
       "      <th>Race_Color_IND�GENA</th>\n",
       "      <th>Race_Color_PARDA</th>\n",
       "      <th>Race_Color_PRETA</th>\n",
       "      <th>Legal_Status_SEPARADO JUDICIALMENTE</th>\n",
       "      <th>Legal_Status_SOLTEIRO</th>\n",
       "      <th>Legal_Status_UNI�O CONSENSUAL</th>\n",
       "      <th>Legal_Status_VI�VO</th>\n",
       "    </tr>\n",
       "  </thead>\n",
       "  <tbody>\n",
       "    <tr>\n",
       "      <th>1566782</th>\n",
       "      <td>Male</td>\n",
       "      <td>67.0</td>\n",
       "      <td>BRANCO</td>\n",
       "      <td>BRASIL</td>\n",
       "      <td>Fundamental II</td>\n",
       "      <td>CASADO</td>\n",
       "      <td>S�O PAULO</td>\n",
       "      <td>VIRADOURO</td>\n",
       "      <td>False</td>\n",
       "      <td>HISTOLOGIA DO TUMOR PRIM�RIO</td>\n",
       "      <td>...</td>\n",
       "      <td>0</td>\n",
       "      <td>0</td>\n",
       "      <td>1</td>\n",
       "      <td>0</td>\n",
       "      <td>0</td>\n",
       "      <td>0</td>\n",
       "      <td>0</td>\n",
       "      <td>0</td>\n",
       "      <td>0</td>\n",
       "      <td>0</td>\n",
       "    </tr>\n",
       "    <tr>\n",
       "      <th>1755729</th>\n",
       "      <td>Male</td>\n",
       "      <td>62.0</td>\n",
       "      <td>PARDA</td>\n",
       "      <td>BRASIL</td>\n",
       "      <td>Former Second Degree</td>\n",
       "      <td>CASADO</td>\n",
       "      <td>RONDONIA</td>\n",
       "      <td>S�O FRANCISCO DO GUAPOR�</td>\n",
       "      <td>False</td>\n",
       "      <td>HISTOLOGIA DO TUMOR PRIM�RIO</td>\n",
       "      <td>...</td>\n",
       "      <td>0</td>\n",
       "      <td>0</td>\n",
       "      <td>0</td>\n",
       "      <td>0</td>\n",
       "      <td>1</td>\n",
       "      <td>0</td>\n",
       "      <td>0</td>\n",
       "      <td>0</td>\n",
       "      <td>0</td>\n",
       "      <td>0</td>\n",
       "    </tr>\n",
       "    <tr>\n",
       "      <th>495077</th>\n",
       "      <td>Male</td>\n",
       "      <td>87.0</td>\n",
       "      <td>BRANCO</td>\n",
       "      <td>BRASIL</td>\n",
       "      <td>Fundamental II</td>\n",
       "      <td>CASADO</td>\n",
       "      <td>MATO GROSSO</td>\n",
       "      <td>CUIAB�</td>\n",
       "      <td>False</td>\n",
       "      <td>HISTOLOGIA DO TUMOR PRIM�RIO</td>\n",
       "      <td>...</td>\n",
       "      <td>0</td>\n",
       "      <td>0</td>\n",
       "      <td>1</td>\n",
       "      <td>0</td>\n",
       "      <td>0</td>\n",
       "      <td>0</td>\n",
       "      <td>0</td>\n",
       "      <td>0</td>\n",
       "      <td>0</td>\n",
       "      <td>0</td>\n",
       "    </tr>\n",
       "    <tr>\n",
       "      <th>1621704</th>\n",
       "      <td>Male</td>\n",
       "      <td>87.0</td>\n",
       "      <td>PARDA</td>\n",
       "      <td>BRASIL</td>\n",
       "      <td>Fundamental I</td>\n",
       "      <td>CASADO</td>\n",
       "      <td>CEAR�</td>\n",
       "      <td>FORTALEZA</td>\n",
       "      <td>False</td>\n",
       "      <td>HISTOLOGIA DO TUMOR PRIM�RIO</td>\n",
       "      <td>...</td>\n",
       "      <td>0</td>\n",
       "      <td>0</td>\n",
       "      <td>0</td>\n",
       "      <td>0</td>\n",
       "      <td>1</td>\n",
       "      <td>0</td>\n",
       "      <td>0</td>\n",
       "      <td>0</td>\n",
       "      <td>0</td>\n",
       "      <td>0</td>\n",
       "    </tr>\n",
       "    <tr>\n",
       "      <th>1507590</th>\n",
       "      <td>Female</td>\n",
       "      <td>87.0</td>\n",
       "      <td>BRANCO</td>\n",
       "      <td>BRASIL</td>\n",
       "      <td>Without Education</td>\n",
       "      <td>VI�VO</td>\n",
       "      <td>MATO GROSSO</td>\n",
       "      <td>JUSCIMEIRA</td>\n",
       "      <td>False</td>\n",
       "      <td>HISTOLOGIA DO TUMOR PRIM�RIO</td>\n",
       "      <td>...</td>\n",
       "      <td>0</td>\n",
       "      <td>1</td>\n",
       "      <td>1</td>\n",
       "      <td>0</td>\n",
       "      <td>0</td>\n",
       "      <td>0</td>\n",
       "      <td>0</td>\n",
       "      <td>0</td>\n",
       "      <td>0</td>\n",
       "      <td>1</td>\n",
       "    </tr>\n",
       "  </tbody>\n",
       "</table>\n",
       "<p>5 rows × 28 columns</p>\n",
       "</div>"
      ],
      "text/plain": [
       "         Gender   Age Race_Color Nationality             Education  \\\n",
       "1566782    Male  67.0     BRANCO      BRASIL        Fundamental II   \n",
       "1755729    Male  62.0      PARDA      BRASIL  Former Second Degree   \n",
       "495077     Male  87.0     BRANCO      BRASIL        Fundamental II   \n",
       "1621704    Male  87.0      PARDA      BRASIL         Fundamental I   \n",
       "1507590  Female  87.0     BRANCO      BRASIL     Without Education   \n",
       "\n",
       "        Legal_Status Status_Address              City_Address Rare_Case  \\\n",
       "1566782       CASADO      S�O PAULO                 VIRADOURO     False   \n",
       "1755729       CASADO       RONDONIA  S�O FRANCISCO DO GUAPOR�     False   \n",
       "495077        CASADO   MATO GROSSO                     CUIAB�     False   \n",
       "1621704       CASADO          CEAR�                 FORTALEZA     False   \n",
       "1507590        VI�VO   MATO GROSSO                 JUSCIMEIRA     False   \n",
       "\n",
       "                     Diagnostic_means  ... Education_Incomplete High  \\\n",
       "1566782  HISTOLOGIA DO TUMOR PRIM�RIO  ...                         0   \n",
       "1755729  HISTOLOGIA DO TUMOR PRIM�RIO  ...                         0   \n",
       "495077   HISTOLOGIA DO TUMOR PRIM�RIO  ...                         0   \n",
       "1621704  HISTOLOGIA DO TUMOR PRIM�RIO  ...                         0   \n",
       "1507590  HISTOLOGIA DO TUMOR PRIM�RIO  ...                         0   \n",
       "\n",
       "         Education_Without Education  Race_Color_BRANCO  Race_Color_IND�GENA  \\\n",
       "1566782                            0                  1                    0   \n",
       "1755729                            0                  0                    0   \n",
       "495077                             0                  1                    0   \n",
       "1621704                            0                  0                    0   \n",
       "1507590                            1                  1                    0   \n",
       "\n",
       "         Race_Color_PARDA  Race_Color_PRETA  \\\n",
       "1566782                 0                 0   \n",
       "1755729                 1                 0   \n",
       "495077                  0                 0   \n",
       "1621704                 1                 0   \n",
       "1507590                 0                 0   \n",
       "\n",
       "         Legal_Status_SEPARADO JUDICIALMENTE  Legal_Status_SOLTEIRO  \\\n",
       "1566782                                    0                      0   \n",
       "1755729                                    0                      0   \n",
       "495077                                     0                      0   \n",
       "1621704                                    0                      0   \n",
       "1507590                                    0                      0   \n",
       "\n",
       "         Legal_Status_UNI�O CONSENSUAL  Legal_Status_VI�VO  \n",
       "1566782                              0                   0  \n",
       "1755729                              0                   0  \n",
       "495077                               0                   0  \n",
       "1621704                              0                   0  \n",
       "1507590                              0                   1  \n",
       "\n",
       "[5 rows x 28 columns]"
      ]
     },
     "execution_count": 95,
     "metadata": {},
     "output_type": "execute_result"
    }
   ],
   "source": [
    "train.head()"
   ]
  },
  {
   "cell_type": "code",
   "execution_count": 45,
   "id": "92085c43",
   "metadata": {},
   "outputs": [
    {
     "data": {
      "text/plain": [
       "Counter({'Cancer': 114385, 'No Cancer': 6328})"
      ]
     },
     "execution_count": 45,
     "metadata": {},
     "output_type": "execute_result"
    }
   ],
   "source": [
    "Counter(train.Type_of_Death)"
   ]
  },
  {
   "cell_type": "code",
   "execution_count": 27,
   "id": "c032e755",
   "metadata": {},
   "outputs": [],
   "source": [
    "# define pipeline\n",
    "#over = SMOTE(sampling_strategy=0.1)\n",
    "#under = RandomUnderSampler(sampling_strategy=0.5)\n",
    "#steps = [('o', over), ('u', under)]\n",
    "#pipeline = Pipeline(steps=steps)\n",
    "# transform the dataset\n",
    "#train = pipeline.fit_resample(train)\n"
   ]
  },
  {
   "cell_type": "code",
   "execution_count": 47,
   "id": "33fe384f",
   "metadata": {},
   "outputs": [
    {
     "data": {
      "text/html": [
       "<div>\n",
       "<style scoped>\n",
       "    .dataframe tbody tr th:only-of-type {\n",
       "        vertical-align: middle;\n",
       "    }\n",
       "\n",
       "    .dataframe tbody tr th {\n",
       "        vertical-align: top;\n",
       "    }\n",
       "\n",
       "    .dataframe thead th {\n",
       "        text-align: right;\n",
       "    }\n",
       "</style>\n",
       "<table border=\"1\" class=\"dataframe\">\n",
       "  <thead>\n",
       "    <tr style=\"text-align: right;\">\n",
       "      <th>has_No_Cancer</th>\n",
       "      <th>0</th>\n",
       "      <th>1</th>\n",
       "    </tr>\n",
       "    <tr>\n",
       "      <th>Type_of_Death</th>\n",
       "      <th></th>\n",
       "      <th></th>\n",
       "    </tr>\n",
       "  </thead>\n",
       "  <tbody>\n",
       "    <tr>\n",
       "      <th>Cancer</th>\n",
       "      <td>114385</td>\n",
       "      <td>0</td>\n",
       "    </tr>\n",
       "    <tr>\n",
       "      <th>No Cancer</th>\n",
       "      <td>0</td>\n",
       "      <td>6328</td>\n",
       "    </tr>\n",
       "  </tbody>\n",
       "</table>\n",
       "</div>"
      ],
      "text/plain": [
       "has_No_Cancer       0     1\n",
       "Type_of_Death              \n",
       "Cancer         114385     0\n",
       "No Cancer           0  6328"
      ]
     },
     "execution_count": 47,
     "metadata": {},
     "output_type": "execute_result"
    }
   ],
   "source": [
    "pd.crosstab(train['Type_of_Death'], train['has_No_Cancer'])"
   ]
  },
  {
   "cell_type": "markdown",
   "id": "f8fad041",
   "metadata": {},
   "source": [
    "# Legal Status their cancer rates"
   ]
  },
  {
   "cell_type": "code",
   "execution_count": 49,
   "id": "5758e45f",
   "metadata": {},
   "outputs": [
    {
     "data": {
      "text/plain": [
       "<AxesSubplot:title={'center':'Legal Status and their cancer rates'}, xlabel='Legal_Status', ylabel='has_No_Cancer'>"
      ]
     },
     "execution_count": 49,
     "metadata": {},
     "output_type": "execute_result"
    },
    {
     "data": {
      "image/png": "[encoded data removed]",
      "text/plain": [
       "<Figure size 1080x576 with 1 Axes>"
      ]
     },
     "metadata": {
      "needs_background": "light"
     },
     "output_type": "display_data"
    }
   ],
   "source": [
    "plt.figure(figsize=(15,8))\n",
    "plt.title('Legal Status and their cancer rates')\n",
    "sns.barplot(x = 'Legal_Status', y = 'has_No_Cancer', data = train)"
   ]
  },
  {
   "cell_type": "code",
   "execution_count": null,
   "id": "4f34f8b4",
   "metadata": {},
   "outputs": [],
   "source": []
  },
  {
   "cell_type": "markdown",
   "id": "495b2cb2",
   "metadata": {},
   "source": [
    "# Race/Color and those with no cancer"
   ]
  },
  {
   "cell_type": "code",
   "execution_count": 57,
   "id": "b63e7fd3",
   "metadata": {},
   "outputs": [
    {
     "data": {
      "text/plain": [
       "<AxesSubplot:title={'center':'Race/Color and their cancer rates'}, xlabel='Race_Color', ylabel='has_No_Cancer'>"
      ]
     },
     "execution_count": 57,
     "metadata": {},
     "output_type": "execute_result"
    },
    {
     "data": {
      "image/png": "[encoded data removed]",
      "text/plain": [
       "<Figure size 1080x576 with 1 Axes>"
      ]
     },
     "metadata": {
      "needs_background": "light"
     },
     "output_type": "display_data"
    }
   ],
   "source": [
    "plt.figure(figsize=(15,8))\n",
    "plt.title('Race/Color and their cancer rates')\n",
    "sns.barplot(x = 'Race_Color', y = 'has_No_Cancer', data = train)"
   ]
  },
  {
   "cell_type": "code",
   "execution_count": 96,
   "id": "4ecb948c",
   "metadata": {},
   "outputs": [
    {
     "data": {
      "text/plain": [
       "<AxesSubplot:title={'center':'Branco and their cancer rates'}, xlabel='Race_Color_BRANCO', ylabel='has_No_Cancer'>"
      ]
     },
     "execution_count": 96,
     "metadata": {},
     "output_type": "execute_result"
    },
    {
     "data": {
      "image/png": "[encoded data removed]",
      "text/plain": [
       "<Figure size 1080x576 with 1 Axes>"
      ]
     },
     "metadata": {
      "needs_background": "light"
     },
     "output_type": "display_data"
    }
   ],
   "source": [
    "plt.figure(figsize=(15,8))\n",
    "plt.title('Branco and their cancer rates')\n",
    "sns.barplot(x = 'Race_Color_BRANCO', y = 'has_No_Cancer', data = train)"
   ]
  },
  {
   "cell_type": "code",
   "execution_count": 97,
   "id": "69e72fcb",
   "metadata": {},
   "outputs": [
    {
     "name": "stdout",
     "output_type": "stream",
     "text": [
      "Observed\n",
      "has_No_Cancer          0     1\n",
      "Race_Color_BRANCO             \n",
      "0                  53769  1417\n",
      "1                  60616  4911\n",
      "--------------------------------------\n",
      "---\n",
      "Expected\n",
      "[[52293.04722772  2892.95277228]\n",
      " [62091.95277228  3435.04722772]]\n",
      "--------------------------------------\n",
      "---\n",
      "\n",
      "chi^2 = 1462.9450\n",
      "p     = 0.000000000000\n"
     ]
    }
   ],
   "source": [
    "observed = pd.crosstab(train['Race_Color_BRANCO'], train.has_No_Cancer)\n",
    "chi, p, degrf, expected = stats.chi2_contingency(observed)\n",
    "\n",
    "print('Observed')\n",
    "print(observed)\n",
    "print(\"--------------------------------------\")\n",
    "print('---\\nExpected')\n",
    "print(expected)\n",
    "print(\"--------------------------------------\")\n",
    "print('---\\n')\n",
    "print(f'chi^2 = {chi:.4f}')\n",
    "print(f'p     = {p:.12f}')"
   ]
  },
  {
   "cell_type": "markdown",
   "id": "dea8367d",
   "metadata": {},
   "source": [
    "# Which education bracket has mostly no cancer patients and is signifcant?"
   ]
  },
  {
   "cell_type": "code",
   "execution_count": 53,
   "id": "40acde3e",
   "metadata": {},
   "outputs": [
    {
     "data": {
      "text/plain": [
       "<seaborn.axisgrid.FacetGrid at 0x7fd52e7f3400>"
      ]
     },
     "execution_count": 53,
     "metadata": {},
     "output_type": "execute_result"
    },
    {
     "data": {
      "image/png": "[encoded data removed]",
      "text/plain": [
       "<Figure size 948.375x576 with 1 Axes>"
      ]
     },
     "metadata": {
      "needs_background": "light"
     },
     "output_type": "display_data"
    }
   ],
   "source": [
    "sns.displot(x = 'Education', data = train, hue = 'has_No_Cancer', alpha = 0.5, multiple = 'stack',\n",
    "            height=8, aspect=12/8)"
   ]
  },
  {
   "cell_type": "code",
   "execution_count": 98,
   "id": "1bb457ad",
   "metadata": {},
   "outputs": [
    {
     "data": {
      "text/plain": [
       "<AxesSubplot:title={'center':'Education Fundamental I and their cancer rates'}, xlabel='Education_Fundamental I', ylabel='has_No_Cancer'>"
      ]
     },
     "execution_count": 98,
     "metadata": {},
     "output_type": "execute_result"
    },
    {
     "data": {
      "image/png": "[encoded data removed]",
      "text/plain": [
       "<Figure size 1080x576 with 1 Axes>"
      ]
     },
     "metadata": {
      "needs_background": "light"
     },
     "output_type": "display_data"
    }
   ],
   "source": [
    "plt.figure(figsize=(15,8))\n",
    "plt.title('Education Fundamental I and their cancer rates')\n",
    "sns.barplot(x = 'Education_Fundamental I', y = 'has_No_Cancer', data = train)"
   ]
  },
  {
   "cell_type": "code",
   "execution_count": 99,
   "id": "1cd8089a",
   "metadata": {},
   "outputs": [
    {
     "name": "stdout",
     "output_type": "stream",
     "text": [
      "Observed\n",
      "has_No_Cancer                0     1\n",
      "Education_Fundamental I             \n",
      "0                        80196  3452\n",
      "1                        34189  2876\n",
      "--------------------------------------\n",
      "---\n",
      "Expected\n",
      "[[79263.01624514  4384.98375486]\n",
      " [35121.98375486  1943.01624514]]\n",
      "--------------------------------------\n",
      "---\n",
      "\n",
      "chi^2 = 681.5372\n",
      "p     = 0.000000000000\n"
     ]
    }
   ],
   "source": [
    "observed = pd.crosstab(train['Education_Fundamental I'], train.has_No_Cancer)\n",
    "chi, p, degrf, expected = stats.chi2_contingency(observed)\n",
    "\n",
    "print('Observed')\n",
    "print(observed)\n",
    "print(\"--------------------------------------\")\n",
    "print('---\\nExpected')\n",
    "print(expected)\n",
    "print(\"--------------------------------------\")\n",
    "print('---\\n')\n",
    "print(f'chi^2 = {chi:.4f}')\n",
    "print(f'p     = {p:.12f}')"
   ]
  },
  {
   "cell_type": "markdown",
   "id": "fa242b28",
   "metadata": {},
   "source": [
    "# Is being male a reason for no cancer?"
   ]
  },
  {
   "cell_type": "code",
   "execution_count": 56,
   "id": "cfff215f",
   "metadata": {},
   "outputs": [
    {
     "data": {
      "text/plain": [
       "<AxesSubplot:title={'center':'Male or not and their cancer rates'}, xlabel='Gender_Male', ylabel='has_No_Cancer'>"
      ]
     },
     "execution_count": 56,
     "metadata": {},
     "output_type": "execute_result"
    },
    {
     "data": {
      "image/png": "[encoded data removed]",
      "text/plain": [
       "<Figure size 1080x576 with 1 Axes>"
      ]
     },
     "metadata": {
      "needs_background": "light"
     },
     "output_type": "display_data"
    }
   ],
   "source": [
    "plt.figure(figsize=(15,8))\n",
    "plt.title('Male or not and their cancer rates')\n",
    "sns.barplot(x = 'Gender_Male', y = 'has_No_Cancer', data = train)"
   ]
  },
  {
   "cell_type": "code",
   "execution_count": 62,
   "id": "1d96b0d2",
   "metadata": {},
   "outputs": [
    {
     "name": "stdout",
     "output_type": "stream",
     "text": [
      "Observed\n",
      "has_No_Cancer      0     1\n",
      "Gender_Male               \n",
      "0              56010  2807\n",
      "1              58375  3521\n",
      "--------------------------------------\n",
      "---\n",
      "Expected\n",
      "[[55733.70345365  3083.29654635]\n",
      " [58651.29654635  3244.70345365]]\n",
      "--------------------------------------\n",
      "---\n",
      "\n",
      "chi^2 = 50.7737\n",
      "p     = 0.000000000001\n"
     ]
    }
   ],
   "source": [
    "observed = pd.crosstab(train['Gender_Male'], train.has_No_Cancer)\n",
    "chi, p, degrf, expected = stats.chi2_contingency(observed)\n",
    "\n",
    "print('Observed')\n",
    "print(observed)\n",
    "print(\"--------------------------------------\")\n",
    "print('---\\nExpected')\n",
    "print(expected)\n",
    "print(\"--------------------------------------\")\n",
    "print('---\\n')\n",
    "print(f'chi^2 = {chi:.4f}')\n",
    "print(f'p     = {p:.12f}')"
   ]
  },
  {
   "cell_type": "markdown",
   "id": "31d9ab57",
   "metadata": {},
   "source": [
    "# Create a baseline"
   ]
  },
  {
   "cell_type": "code",
   "execution_count": 100,
   "id": "5ea87ae9",
   "metadata": {},
   "outputs": [],
   "source": [
    "train['baseline'] = 0\n",
    "\n",
    "validate['baseline'] = 0\n",
    "\n",
    "test['baseline'] = 0"
   ]
  },
  {
   "cell_type": "code",
   "execution_count": 101,
   "id": "673f441c",
   "metadata": {},
   "outputs": [
    {
     "name": "stdout",
     "output_type": "stream",
     "text": [
      "baseline train accuracy: 94.76%\n",
      "baseline validate accuracy: 94.76%\n",
      "baseline test accuracy: 94.76%\n"
     ]
    }
   ],
   "source": [
    "baseline_accuracy = (train.has_No_Cancer == train.baseline).mean()\n",
    "print(f'baseline train accuracy: {baseline_accuracy:.2%}')\n",
    "\n",
    "baseline_accuracy = (validate.has_No_Cancer == validate.baseline).mean()\n",
    "print(f'baseline validate accuracy: {baseline_accuracy:.2%}')\n",
    "\n",
    "baseline_accuracy = (test.has_No_Cancer == test.baseline).mean()\n",
    "print(f'baseline test accuracy: {baseline_accuracy:.2%}')"
   ]
  },
  {
   "cell_type": "code",
   "execution_count": 180,
   "id": "a47865e8",
   "metadata": {},
   "outputs": [],
   "source": [
    "X_train = train.drop(columns = ['has_No_Cancer', 'baseline', 'Gender', 'Age', 'Nationality',\n",
    "                               'Education', 'Legal_Status', 'Status_Address', 'City_Address',\n",
    "                               'Rare_Case', 'Diagnostic_means', 'Type_of_Death', 'year', 'Race_Color'])\n",
    "y_train = train[['has_No_Cancer']]\n",
    "\n",
    "\n",
    "X_validate = validate.drop(columns = ['has_No_Cancer', 'baseline', 'Gender', 'Age', 'Nationality',\n",
    "                               'Education', 'Legal_Status', 'Status_Address', 'City_Address',\n",
    "                               'Rare_Case', 'Diagnostic_means', 'Type_of_Death', 'year', 'Race_Color'])\n",
    "y_validate = validate[['has_No_Cancer']]\n",
    "\n",
    "X_test = test.drop(columns = ['has_No_Cancer', 'baseline', 'Gender', 'Age', 'Nationality',\n",
    "                               'Education', 'Legal_Status', 'Status_Address', 'City_Address',\n",
    "                               'Rare_Case', 'Diagnostic_means', 'Type_of_Death', 'year', 'Race_Color'])\n",
    "y_test = test[['has_No_Cancer']]"
   ]
  },
  {
   "cell_type": "markdown",
   "id": "85ef6bff",
   "metadata": {},
   "source": [
    "# RANdom forest w/o SMOTE"
   ]
  },
  {
   "cell_type": "code",
   "execution_count": 163,
   "id": "12af03d4",
   "metadata": {},
   "outputs": [],
   "source": [
    "ranf = RandomForestClassifier(max_depth=10, min_samples_leaf=1, random_state= 123)\n",
    "ranf = ranf.fit(X_train, y_train)"
   ]
  },
  {
   "cell_type": "code",
   "execution_count": 164,
   "id": "f7b759c0",
   "metadata": {},
   "outputs": [],
   "source": [
    "y_pred = ranf.predict(X_train)"
   ]
  },
  {
   "cell_type": "code",
   "execution_count": 165,
   "id": "433a093b",
   "metadata": {},
   "outputs": [],
   "source": [
    "y_pred_proba = ranf.predict_proba(X_train)"
   ]
  },
  {
   "cell_type": "code",
   "execution_count": 166,
   "id": "d8443c9c",
   "metadata": {},
   "outputs": [
    {
     "name": "stdout",
     "output_type": "stream",
     "text": [
      "Accuracy of random forest #1 classifier on training set: 0.9476\n"
     ]
    }
   ],
   "source": [
    "print('Accuracy of random forest #1 classifier on training set: {:.4f}'\n",
    "     .format(ranf.score(X_train, y_train)))"
   ]
  },
  {
   "cell_type": "code",
   "execution_count": 167,
   "id": "c457289e",
   "metadata": {},
   "outputs": [
    {
     "name": "stdout",
     "output_type": "stream",
     "text": [
      "              precision    recall  f1-score   support\n",
      "\n",
      "           0       0.95      1.00      0.97    114385\n",
      "           1       1.00      0.00      0.00      6328\n",
      "\n",
      "    accuracy                           0.95    120713\n",
      "   macro avg       0.97      0.50      0.49    120713\n",
      "weighted avg       0.95      0.95      0.92    120713\n",
      "\n"
     ]
    }
   ],
   "source": [
    "# Compare actual y values (from validate) to predicted y_values from the model run on X_validate\n",
    "print(classification_report(y_train, y_pred))"
   ]
  },
  {
   "cell_type": "markdown",
   "id": "505c35c7",
   "metadata": {},
   "source": [
    "# KNN W/O SMOTE"
   ]
  },
  {
   "cell_type": "code",
   "execution_count": 168,
   "id": "b035db7e",
   "metadata": {},
   "outputs": [],
   "source": [
    "knn1 = KNeighborsClassifier()\n",
    "\n",
    "knn1 = knn1.fit(X_train, y_train)"
   ]
  },
  {
   "cell_type": "code",
   "execution_count": 169,
   "id": "af048a42",
   "metadata": {},
   "outputs": [
    {
     "name": "stdout",
     "output_type": "stream",
     "text": [
      "The #1 KNN model has an accuracy:  0.91\n"
     ]
    }
   ],
   "source": [
    "accuracy1 = knn1.score(X_train, y_train)\n",
    "print(\"The #1 KNN model has an accuracy: \", round(accuracy1, 3))"
   ]
  },
  {
   "cell_type": "code",
   "execution_count": 170,
   "id": "732e87e1",
   "metadata": {},
   "outputs": [
    {
     "name": "stdout",
     "output_type": "stream",
     "text": [
      "              precision    recall  f1-score   support\n",
      "\n",
      "           0       0.95      0.95      0.95    114385\n",
      "           1       0.16      0.16      0.16      6328\n",
      "\n",
      "    accuracy                           0.91    120713\n",
      "   macro avg       0.55      0.56      0.56    120713\n",
      "weighted avg       0.91      0.91      0.91    120713\n",
      "\n"
     ]
    }
   ],
   "source": [
    "# Produce y_predictions that come from the X_validate\n",
    "y_pred_knn = knn1.predict(X_train)\n",
    "\n",
    "# Compare actual y values (from validate) to predicted y_values from the model run on X_validate\n",
    "print(classification_report(y_train, y_pred_knn))"
   ]
  },
  {
   "cell_type": "markdown",
   "id": "fdb382e7",
   "metadata": {},
   "source": [
    "# SMOTE"
   ]
  },
  {
   "cell_type": "code",
   "execution_count": null,
   "id": "771a2eb9",
   "metadata": {},
   "outputs": [],
   "source": [
    "### Data is skewed to favor for cancer so lets change the size and see if we get a different result\n",
    "## Explain briefly "
   ]
  },
  {
   "cell_type": "code",
   "execution_count": 181,
   "id": "a22caf1c",
   "metadata": {},
   "outputs": [],
   "source": [
    "sm = SMOTE(random_state=123)\n",
    "X_train_res, y_train_res = sm.fit_resample(X_train, y_train)\n",
    "\n",
    "X_validate_res, y_validate_res = sm.fit_resample(X_validate, y_validate)\n",
    "\n",
    "X_test_res, y_test_res = sm.fit_resample(X_test, y_test)"
   ]
  },
  {
   "cell_type": "markdown",
   "id": "f43a25b5",
   "metadata": {},
   "source": [
    "# KNN w/ SMOTE"
   ]
  },
  {
   "cell_type": "code",
   "execution_count": 172,
   "id": "5ee80b73",
   "metadata": {},
   "outputs": [],
   "source": [
    "knn1_res = knn1.fit(X_train_res, y_train_res)"
   ]
  },
  {
   "cell_type": "code",
   "execution_count": 173,
   "id": "dd238df1",
   "metadata": {},
   "outputs": [
    {
     "name": "stdout",
     "output_type": "stream",
     "text": [
      "The #1 KNN model has an accuracy:  0.588\n"
     ]
    }
   ],
   "source": [
    "accuracy2 = knn1.score(X_train_res, y_train_res)\n",
    "print(\"The #1 KNN model has an accuracy: \", round(accuracy2, 3))"
   ]
  },
  {
   "cell_type": "code",
   "execution_count": 175,
   "id": "22e8399f",
   "metadata": {},
   "outputs": [
    {
     "name": "stdout",
     "output_type": "stream",
     "text": [
      "              precision    recall  f1-score   support\n",
      "\n",
      "           0       0.55      0.94      0.70    114385\n",
      "           1       0.80      0.23      0.36    114385\n",
      "\n",
      "    accuracy                           0.59    228770\n",
      "   macro avg       0.68      0.59      0.53    228770\n",
      "weighted avg       0.68      0.59      0.53    228770\n",
      "\n"
     ]
    }
   ],
   "source": [
    "# Produce y_predictions that come from the X_validate\n",
    "y_pred_knn_res = knn1_res.predict(X_train_res)\n",
    "\n",
    "# Compare actual y values (from validate) to predicted y_values from the model run on X_validate\n",
    "print(classification_report(y_train_res, y_pred_knn_res))"
   ]
  },
  {
   "cell_type": "code",
   "execution_count": null,
   "id": "9fee4f66",
   "metadata": {},
   "outputs": [],
   "source": [
    "# identify types of anomolies\n",
    "# evaluation metric f1-score/ for finding (1)\n"
   ]
  },
  {
   "cell_type": "markdown",
   "id": "03ade000",
   "metadata": {},
   "source": [
    "# RANdom forest w/ smote"
   ]
  },
  {
   "cell_type": "code",
   "execution_count": 176,
   "id": "2f0efb45",
   "metadata": {},
   "outputs": [],
   "source": [
    "ranf_res = ranf.fit(X_train_res, y_train_res)\n",
    "y_pred_ranf_res = ranf.predict(X_train_res)"
   ]
  },
  {
   "cell_type": "code",
   "execution_count": 177,
   "id": "d079d2cf",
   "metadata": {},
   "outputs": [
    {
     "name": "stdout",
     "output_type": "stream",
     "text": [
      "              precision    recall  f1-score   support\n",
      "\n",
      "           0       0.66      0.73      0.69    114385\n",
      "           1       0.70      0.62      0.66    114385\n",
      "\n",
      "    accuracy                           0.67    228770\n",
      "   macro avg       0.68      0.67      0.67    228770\n",
      "weighted avg       0.68      0.67      0.67    228770\n",
      "\n"
     ]
    }
   ],
   "source": [
    "# Compare actual y values (from validate) to predicted y_values from the model run on X_validate\n",
    "print(classification_report(y_train_res, y_pred_ranf_res))"
   ]
  },
  {
   "cell_type": "markdown",
   "id": "57bca229",
   "metadata": {},
   "source": [
    "# Decision Tree w/ SMOTE"
   ]
  },
  {
   "cell_type": "code",
   "execution_count": 178,
   "id": "c446940f",
   "metadata": {},
   "outputs": [],
   "source": [
    "clf = DecisionTreeClassifier(max_depth=3, random_state= 123)\n",
    "\n",
    "clf = clf.fit(X_train_res, y_train_res)\n",
    "\n",
    "y_pred_dec_res = clf.predict(X_train_res)"
   ]
  },
  {
   "cell_type": "code",
   "execution_count": 179,
   "id": "c9881aa3",
   "metadata": {},
   "outputs": [
    {
     "name": "stdout",
     "output_type": "stream",
     "text": [
      "              precision    recall  f1-score   support\n",
      "\n",
      "           0       0.62      0.81      0.71    114385\n",
      "           1       0.73      0.51      0.60    114385\n",
      "\n",
      "    accuracy                           0.66    228770\n",
      "   macro avg       0.68      0.66      0.65    228770\n",
      "weighted avg       0.68      0.66      0.65    228770\n",
      "\n"
     ]
    }
   ],
   "source": [
    "# Compare actual y values (from validate) to predicted y_values from the model run on X_validate\n",
    "print(classification_report(y_train_res, y_pred_dec_res))"
   ]
  },
  {
   "cell_type": "markdown",
   "id": "3fe259f8",
   "metadata": {},
   "source": [
    "# Validation W/ Smote"
   ]
  },
  {
   "cell_type": "markdown",
   "id": "3d842cc1",
   "metadata": {},
   "source": [
    "## Knn validate w/ smote"
   ]
  },
  {
   "cell_type": "code",
   "execution_count": 187,
   "id": "efd2c124",
   "metadata": {},
   "outputs": [
    {
     "name": "stdout",
     "output_type": "stream",
     "text": [
      "              precision    recall  f1-score   support\n",
      "\n",
      "           0       0.51      1.00      0.67     49023\n",
      "           1       1.00      0.03      0.05     49023\n",
      "\n",
      "    accuracy                           0.51     98046\n",
      "   macro avg       0.75      0.51      0.36     98046\n",
      "weighted avg       0.75      0.51      0.36     98046\n",
      "\n"
     ]
    }
   ],
   "source": [
    "knn1 = KNeighborsClassifier()\n",
    "knn1_res_validate = knn1.fit(X_validate_res, y_validate_res)\n",
    "\n",
    "\n",
    "# Produce y_predictions that come from the X_validate\n",
    "y_pred_knn_validate = knn1_res_validate.predict(X_validate_res)\n",
    "\n",
    "# Compare actual y values (from validate) to predicted y_values from the model run on X_validate\n",
    "print(classification_report(y_validate_res, y_pred_knn_validate))"
   ]
  },
  {
   "cell_type": "markdown",
   "id": "95853442",
   "metadata": {},
   "source": [
    "## Random forest validate w/ smote"
   ]
  },
  {
   "cell_type": "code",
   "execution_count": 188,
   "id": "0a0a9997",
   "metadata": {},
   "outputs": [
    {
     "name": "stdout",
     "output_type": "stream",
     "text": [
      "              precision    recall  f1-score   support\n",
      "\n",
      "           0       0.68      0.68      0.68     49023\n",
      "           1       0.68      0.68      0.68     49023\n",
      "\n",
      "    accuracy                           0.68     98046\n",
      "   macro avg       0.68      0.68      0.68     98046\n",
      "weighted avg       0.68      0.68      0.68     98046\n",
      "\n"
     ]
    }
   ],
   "source": [
    "ranf = RandomForestClassifier(max_depth=10, min_samples_leaf=1, random_state= 123)\n",
    "ranf_validate = ranf.fit(X_validate_res, y_validate_res)\n",
    "y_pred_ranf_validate = ranf_validate.predict(X_validate_res)\n",
    "\n",
    "# Compare actual y values (from validate) to predicted y_values from the model run on X_validate\n",
    "print(classification_report(y_validate_res, y_pred_ranf_validate))"
   ]
  },
  {
   "cell_type": "markdown",
   "id": "e2177213",
   "metadata": {},
   "source": [
    "## Decision tree validation w/ smote"
   ]
  },
  {
   "cell_type": "code",
   "execution_count": 189,
   "id": "f65accb0",
   "metadata": {},
   "outputs": [
    {
     "name": "stdout",
     "output_type": "stream",
     "text": [
      "              precision    recall  f1-score   support\n",
      "\n",
      "           0       0.62      0.83      0.71     49023\n",
      "           1       0.74      0.48      0.58     49023\n",
      "\n",
      "    accuracy                           0.66     98046\n",
      "   macro avg       0.68      0.66      0.65     98046\n",
      "weighted avg       0.68      0.66      0.65     98046\n",
      "\n"
     ]
    }
   ],
   "source": [
    "clf = DecisionTreeClassifier(max_depth=3, random_state= 123)\n",
    "clf_validate = clf.fit(X_validate_res, y_validate_res)\n",
    "\n",
    "y_pred_dec_validate = clf_validate.predict(X_validate_res)\n",
    "\n",
    "# Compare actual y values (from validate) to predicted y_values from the model run on X_validate\n",
    "print(classification_report(y_validate_res, y_pred_dec_validate))"
   ]
  },
  {
   "cell_type": "markdown",
   "id": "045effbd",
   "metadata": {},
   "source": [
    "# Test Decision tree Test w/ smote"
   ]
  },
  {
   "cell_type": "code",
   "execution_count": 191,
   "id": "715b6f09",
   "metadata": {},
   "outputs": [
    {
     "name": "stdout",
     "output_type": "stream",
     "text": [
      "              precision    recall  f1-score   support\n",
      "\n",
      "           0       0.62      0.83      0.71     40852\n",
      "           1       0.75      0.50      0.60     40852\n",
      "\n",
      "    accuracy                           0.67     81704\n",
      "   macro avg       0.69      0.67      0.66     81704\n",
      "weighted avg       0.69      0.67      0.66     81704\n",
      "\n"
     ]
    }
   ],
   "source": [
    "clf = DecisionTreeClassifier(max_depth=3, random_state= 123)\n",
    "clf_test = clf.fit(X_test_res, y_test_res)\n",
    "\n",
    "y_pred_dec_test = clf_test.predict(X_test_res)\n",
    "\n",
    "# Compare actual y values (from validate) to predicted y_values from the model run on X_validate\n",
    "print(classification_report(y_test_res, y_pred_dec_test))"
   ]
  },
  {
   "cell_type": "markdown",
   "id": "cb65e480",
   "metadata": {},
   "source": [
    "## Will use this df first for alive / dead"
   ]
  },
  {
   "cell_type": "code",
   "execution_count": 264,
   "id": "1288f87a",
   "metadata": {},
   "outputs": [],
   "source": [
    "df = df[df['Status.Vital'].notna()]"
   ]
  },
  {
   "cell_type": "code",
   "execution_count": 140,
   "id": "1b6693fe",
   "metadata": {},
   "outputs": [
    {
     "data": {
      "text/plain": [
       "(209758, 38)"
      ]
     },
     "execution_count": 140,
     "metadata": {},
     "output_type": "execute_result"
    }
   ],
   "source": [
    "df.shape"
   ]
  },
  {
   "cell_type": "code",
   "execution_count": 265,
   "id": "2c22ad34",
   "metadata": {},
   "outputs": [],
   "source": [
    "df = df.drop(columns=['Child.Illness.Description', 'Child.Illness.Code', 'Description.of.Disease',\n",
    "                'Illness.Code', 'Youth.Adult.Illness.Description', 'Code.of.Disease.Adult.Young.',\n",
    "                'Indicator.of.Rare.Case', 'Patient.Code' , 'RCBP.Name', 'Date.of.Birth',\n",
    "                'TNM', 'Extension', 'Statement', 'Topography.Code', 'Morphology.Description',\n",
    "                'Code.of.Morphology', 'Description.of.Disease', 'Illness.Code', 'Description.of.Topography',\n",
    "                     'Date.of.Last.Contact', 'Date.of.Diagnostic', 'Distant.metastasis', 'Code.Profession',\n",
    "                     'Name.Occupation','Laterality', 'Date.of.Death'])"
   ]
  },
  {
   "cell_type": "code",
   "execution_count": 142,
   "id": "1275d6f8",
   "metadata": {},
   "outputs": [
    {
     "data": {
      "text/html": [
       "<div>\n",
       "<style scoped>\n",
       "    .dataframe tbody tr th:only-of-type {\n",
       "        vertical-align: middle;\n",
       "    }\n",
       "\n",
       "    .dataframe tbody tr th {\n",
       "        vertical-align: top;\n",
       "    }\n",
       "\n",
       "    .dataframe thead th {\n",
       "        text-align: right;\n",
       "    }\n",
       "</style>\n",
       "<table border=\"1\" class=\"dataframe\">\n",
       "  <thead>\n",
       "    <tr style=\"text-align: right;\">\n",
       "      <th></th>\n",
       "      <th>Gender</th>\n",
       "      <th>Age</th>\n",
       "      <th>Raca.Color</th>\n",
       "      <th>Nationality</th>\n",
       "      <th>Naturality.State</th>\n",
       "      <th>Naturality</th>\n",
       "      <th>Degree.of.Education</th>\n",
       "      <th>State.Civil</th>\n",
       "      <th>Status.Address</th>\n",
       "      <th>City.Address</th>\n",
       "      <th>Diagnostic.means</th>\n",
       "      <th>Status.Vital</th>\n",
       "      <th>Type.of.Death</th>\n",
       "      <th>year</th>\n",
       "    </tr>\n",
       "  </thead>\n",
       "  <tbody>\n",
       "    <tr>\n",
       "      <th>0</th>\n",
       "      <td>MASCULINO</td>\n",
       "      <td>30.0</td>\n",
       "      <td>BRANCO</td>\n",
       "      <td>BRASIL</td>\n",
       "      <td>S�O PAULO</td>\n",
       "      <td>NaN</td>\n",
       "      <td>NaN</td>\n",
       "      <td>CASADO</td>\n",
       "      <td>S�O PAULO</td>\n",
       "      <td>CAMPINAS</td>\n",
       "      <td>SDO</td>\n",
       "      <td>MORTO</td>\n",
       "      <td>C�NCER</td>\n",
       "      <td>2005.0</td>\n",
       "    </tr>\n",
       "    <tr>\n",
       "      <th>1</th>\n",
       "      <td>FEMININO</td>\n",
       "      <td>53.0</td>\n",
       "      <td>NaN</td>\n",
       "      <td>NaN</td>\n",
       "      <td>NaN</td>\n",
       "      <td>NaN</td>\n",
       "      <td>NaN</td>\n",
       "      <td>NaN</td>\n",
       "      <td>S�O PAULO</td>\n",
       "      <td>CAMPINAS</td>\n",
       "      <td>HISTOLOGIA DO TUMOR PRIM�RIO</td>\n",
       "      <td>MORTO</td>\n",
       "      <td>NaN</td>\n",
       "      <td>2003.0</td>\n",
       "    </tr>\n",
       "    <tr>\n",
       "      <th>2</th>\n",
       "      <td>FEMININO</td>\n",
       "      <td>51.0</td>\n",
       "      <td>PARDA</td>\n",
       "      <td>BRASIL</td>\n",
       "      <td>S�O PAULO</td>\n",
       "      <td>NaN</td>\n",
       "      <td>NaN</td>\n",
       "      <td>SOLTEIRO</td>\n",
       "      <td>S�O PAULO</td>\n",
       "      <td>CAMPINAS</td>\n",
       "      <td>HISTOLOGIA DO TUMOR PRIM�RIO</td>\n",
       "      <td>MORTO</td>\n",
       "      <td>C�NCER</td>\n",
       "      <td>2003.0</td>\n",
       "    </tr>\n",
       "    <tr>\n",
       "      <th>3</th>\n",
       "      <td>FEMININO</td>\n",
       "      <td>73.0</td>\n",
       "      <td>NaN</td>\n",
       "      <td>NaN</td>\n",
       "      <td>NaN</td>\n",
       "      <td>NaN</td>\n",
       "      <td>NaN</td>\n",
       "      <td>NaN</td>\n",
       "      <td>S�O PAULO</td>\n",
       "      <td>CAMPINAS</td>\n",
       "      <td>HISTOLOGIA DO TUMOR PRIM�RIO</td>\n",
       "      <td>VIVO</td>\n",
       "      <td>NaN</td>\n",
       "      <td>2003.0</td>\n",
       "    </tr>\n",
       "    <tr>\n",
       "      <th>4</th>\n",
       "      <td>MASCULINO</td>\n",
       "      <td>71.0</td>\n",
       "      <td>BRANCO</td>\n",
       "      <td>BRASIL</td>\n",
       "      <td>S�O PAULO</td>\n",
       "      <td>NaN</td>\n",
       "      <td>NaN</td>\n",
       "      <td>SOLTEIRO</td>\n",
       "      <td>S�O PAULO</td>\n",
       "      <td>CAMPINAS</td>\n",
       "      <td>SDO</td>\n",
       "      <td>MORTO</td>\n",
       "      <td>C�NCER</td>\n",
       "      <td>2005.0</td>\n",
       "    </tr>\n",
       "  </tbody>\n",
       "</table>\n",
       "</div>"
      ],
      "text/plain": [
       "      Gender   Age Raca.Color Nationality Naturality.State Naturality  \\\n",
       "0  MASCULINO  30.0     BRANCO      BRASIL        S�O PAULO        NaN   \n",
       "1   FEMININO  53.0        NaN         NaN              NaN        NaN   \n",
       "2   FEMININO  51.0      PARDA      BRASIL        S�O PAULO        NaN   \n",
       "3   FEMININO  73.0        NaN         NaN              NaN        NaN   \n",
       "4  MASCULINO  71.0     BRANCO      BRASIL        S�O PAULO        NaN   \n",
       "\n",
       "  Degree.of.Education State.Civil Status.Address City.Address  \\\n",
       "0                 NaN      CASADO      S�O PAULO     CAMPINAS   \n",
       "1                 NaN         NaN      S�O PAULO     CAMPINAS   \n",
       "2                 NaN    SOLTEIRO      S�O PAULO     CAMPINAS   \n",
       "3                 NaN         NaN      S�O PAULO     CAMPINAS   \n",
       "4                 NaN    SOLTEIRO      S�O PAULO     CAMPINAS   \n",
       "\n",
       "               Diagnostic.means Status.Vital Type.of.Death    year  \n",
       "0                           SDO        MORTO        C�NCER  2005.0  \n",
       "1  HISTOLOGIA DO TUMOR PRIM�RIO        MORTO           NaN  2003.0  \n",
       "2  HISTOLOGIA DO TUMOR PRIM�RIO        MORTO        C�NCER  2003.0  \n",
       "3  HISTOLOGIA DO TUMOR PRIM�RIO         VIVO           NaN  2003.0  \n",
       "4                           SDO        MORTO        C�NCER  2005.0  "
      ]
     },
     "execution_count": 142,
     "metadata": {},
     "output_type": "execute_result"
    }
   ],
   "source": [
    "df.head()"
   ]
  },
  {
   "cell_type": "code",
   "execution_count": 143,
   "id": "42adc29c",
   "metadata": {},
   "outputs": [
    {
     "name": "stdout",
     "output_type": "stream",
     "text": [
      "<class 'pandas.core.frame.DataFrame'>\n",
      "Int64Index: 209758 entries, 0 to 1759896\n",
      "Data columns (total 14 columns):\n",
      " #   Column               Non-Null Count   Dtype  \n",
      "---  ------               --------------   -----  \n",
      " 0   Gender               209758 non-null  object \n",
      " 1   Age                  209443 non-null  float64\n",
      " 2   Raca.Color           177827 non-null  object \n",
      " 3   Nationality          203393 non-null  object \n",
      " 4   Naturality.State     86722 non-null   object \n",
      " 5   Naturality           42211 non-null   object \n",
      " 6   Degree.of.Education  140833 non-null  object \n",
      " 7   State.Civil          153185 non-null  object \n",
      " 8   Status.Address       209757 non-null  object \n",
      " 9   City.Address         209758 non-null  object \n",
      " 10  Diagnostic.means     208974 non-null  object \n",
      " 11  Status.Vital         209758 non-null  object \n",
      " 12  Type.of.Death        120445 non-null  object \n",
      " 13  year                 209758 non-null  float64\n",
      "dtypes: float64(2), object(12)\n",
      "memory usage: 24.0+ MB\n"
     ]
    }
   ],
   "source": [
    "df.info()"
   ]
  },
  {
   "cell_type": "code",
   "execution_count": 144,
   "id": "50acf752",
   "metadata": {},
   "outputs": [
    {
     "data": {
      "text/plain": [
       "Gender                      0\n",
       "Age                       315\n",
       "Raca.Color              31931\n",
       "Nationality              6365\n",
       "Naturality.State       123036\n",
       "Naturality             167547\n",
       "Degree.of.Education     68925\n",
       "State.Civil             56573\n",
       "Status.Address              1\n",
       "City.Address                0\n",
       "Diagnostic.means          784\n",
       "Status.Vital                0\n",
       "Type.of.Death           89313\n",
       "year                        0\n",
       "dtype: int64"
      ]
     },
     "execution_count": 144,
     "metadata": {},
     "output_type": "execute_result"
    }
   ],
   "source": [
    "df.isna().sum()"
   ]
  },
  {
   "cell_type": "code",
   "execution_count": 145,
   "id": "ebeb7ac2",
   "metadata": {},
   "outputs": [
    {
     "data": {
      "text/plain": [
       "JA�                         4608\n",
       "BARRETOS                    2797\n",
       "CURITIBA                    2011\n",
       "PO�OS DE CALDAS             1440\n",
       "ARACAJU                     1333\n",
       "                            ... \n",
       "ITAPEMA                        1\n",
       "BAIAN�POLIS                    1\n",
       "CAPIT�O LE�NIDAS MARQUES       1\n",
       "S�O JOS� DO RIO CLARO          1\n",
       "UBA�RA                         1\n",
       "Name: Naturality, Length: 2723, dtype: int64"
      ]
     },
     "execution_count": 145,
     "metadata": {},
     "output_type": "execute_result"
    }
   ],
   "source": [
    "df.Naturality.value_counts()"
   ]
  },
  {
   "cell_type": "code",
   "execution_count": 146,
   "id": "404e6365",
   "metadata": {},
   "outputs": [
    {
     "data": {
      "text/plain": [
       "S�O PAULO              23085\n",
       "PARAN�                 16606\n",
       "MINAS GERAIS           12287\n",
       "ALAGOAS                 5363\n",
       "RIO GRANDE DO SUL       5355\n",
       "SERGIPE                 3201\n",
       "SANTA CATARINA          2930\n",
       "PAR�                    2680\n",
       "CEAR�                   2226\n",
       "BAHIA                   2020\n",
       "RIO DE JANEIRO          1558\n",
       "AMAZONAS                1421\n",
       "PERNAMBUCO              1379\n",
       "ESPIRITO SANTO          1165\n",
       "PARA�BA                  871\n",
       "GOIAS                    757\n",
       "MATO GROSSO              750\n",
       "ACRE                     604\n",
       "MARANH�O                 569\n",
       "PIAU�                    525\n",
       "MATO GROSSO DO SUL       445\n",
       "DISTRITO FEDERAL         368\n",
       "RIO GRANDE DO NORTE      361\n",
       "TOCANTINS                 86\n",
       "RONDONIA                  45\n",
       "RORAIMA                   34\n",
       "AMAPA                     31\n",
       "Name: Naturality.State, dtype: int64"
      ]
     },
     "execution_count": 146,
     "metadata": {},
     "output_type": "execute_result"
    }
   ],
   "source": [
    "df['Naturality.State'].value_counts()"
   ]
  },
  {
   "cell_type": "code",
   "execution_count": 147,
   "id": "edacc9da",
   "metadata": {},
   "outputs": [
    {
     "data": {
      "text/plain": [
       "CASADO                    75308\n",
       "SOLTEIRO                  31012\n",
       "VI�VO                     29771\n",
       "SEPARADO JUDICIALMENTE    13290\n",
       "UNI�O CONSENSUAL           3804\n",
       "Name: State.Civil, dtype: int64"
      ]
     },
     "execution_count": 147,
     "metadata": {},
     "output_type": "execute_result"
    }
   ],
   "source": [
    "df['State.Civil'].value_counts()"
   ]
  },
  {
   "cell_type": "code",
   "execution_count": 148,
   "id": "4243542f",
   "metadata": {},
   "outputs": [
    {
     "data": {
      "text/plain": [
       "C�NCER        112155\n",
       "N�O C�NCER      8290\n",
       "Name: Type.of.Death, dtype: int64"
      ]
     },
     "execution_count": 148,
     "metadata": {},
     "output_type": "execute_result"
    }
   ],
   "source": [
    "df['Type.of.Death'].value_counts()"
   ]
  },
  {
   "cell_type": "code",
   "execution_count": 149,
   "id": "cfc53a10",
   "metadata": {},
   "outputs": [
    {
     "data": {
      "text/plain": [
       "BRANCO      117315\n",
       "PARDA        48908\n",
       "PRETA         9232\n",
       "AMARELA       2161\n",
       "IND�GENA       211\n",
       "Name: Raca.Color, dtype: int64"
      ]
     },
     "execution_count": 149,
     "metadata": {},
     "output_type": "execute_result"
    }
   ],
   "source": [
    "df['Raca.Color'].value_counts()"
   ]
  },
  {
   "cell_type": "code",
   "execution_count": 150,
   "id": "3e3480c4",
   "metadata": {},
   "outputs": [
    {
     "data": {
      "text/plain": [
       "71.0     5211\n",
       "69.0     5209\n",
       "70.0     5206\n",
       "68.0     5178\n",
       "66.0     5130\n",
       "         ... \n",
       "108.0       3\n",
       "199.0       1\n",
       "110.0       1\n",
       "111.0       1\n",
       "109.0       1\n",
       "Name: Age, Length: 113, dtype: int64"
      ]
     },
     "execution_count": 150,
     "metadata": {},
     "output_type": "execute_result"
    }
   ],
   "source": [
    "df['Age'].value_counts()"
   ]
  },
  {
   "cell_type": "code",
   "execution_count": 151,
   "id": "6b1e201d",
   "metadata": {},
   "outputs": [
    {
     "data": {
      "text/plain": [
       "HISTOLOGIA DO TUMOR PRIM�RIO    135684\n",
       "SDO                              65686\n",
       "PESQUISA                          3228\n",
       "HISTOLOGIA DA MET�STASE           1737\n",
       "CITOLOGIA                         1249\n",
       "CL�NICO                           1213\n",
       "MARCADORES TUMORAIS                177\n",
       "Name: Diagnostic.means, dtype: int64"
      ]
     },
     "execution_count": 151,
     "metadata": {},
     "output_type": "execute_result"
    }
   ],
   "source": [
    "df['Diagnostic.means'].value_counts()"
   ]
  },
  {
   "cell_type": "code",
   "execution_count": 152,
   "id": "4134d419",
   "metadata": {},
   "outputs": [
    {
     "data": {
      "text/plain": [
       "FUNDAMENTAL I (1� A 4� S�RIE)     49447\n",
       "FUNDAMENTAL II (5� A 8� S�RIE)    27074\n",
       "M�DIO (ANTIGO SEGUNDO GRAU)       26927\n",
       "SUPERIOR COMPLETO                 19583\n",
       "SEM ESCOLARIDADE                  15594\n",
       "SUPERIOR INCOMPLETO                2208\n",
       "Name: Degree.of.Education, dtype: int64"
      ]
     },
     "execution_count": 152,
     "metadata": {},
     "output_type": "execute_result"
    }
   ],
   "source": [
    "df['Degree.of.Education'].value_counts()"
   ]
  },
  {
   "cell_type": "code",
   "execution_count": 266,
   "id": "4f18a244",
   "metadata": {},
   "outputs": [],
   "source": [
    "df = df[df['Age'] <= 120]"
   ]
  },
  {
   "cell_type": "code",
   "execution_count": 267,
   "id": "881f6113",
   "metadata": {},
   "outputs": [],
   "source": [
    "df = df.drop(columns = ['Naturality','Naturality.State'])"
   ]
  },
  {
   "cell_type": "code",
   "execution_count": 155,
   "id": "c7772d14",
   "metadata": {},
   "outputs": [
    {
     "name": "stdout",
     "output_type": "stream",
     "text": [
      "<class 'pandas.core.frame.DataFrame'>\n",
      "Int64Index: 209442 entries, 0 to 1759896\n",
      "Data columns (total 12 columns):\n",
      " #   Column               Non-Null Count   Dtype  \n",
      "---  ------               --------------   -----  \n",
      " 0   Gender               209442 non-null  object \n",
      " 1   Age                  209442 non-null  float64\n",
      " 2   Raca.Color           177753 non-null  object \n",
      " 3   Nationality          203084 non-null  object \n",
      " 4   Degree.of.Education  140812 non-null  object \n",
      " 5   State.Civil          153138 non-null  object \n",
      " 6   Status.Address       209441 non-null  object \n",
      " 7   City.Address         209442 non-null  object \n",
      " 8   Diagnostic.means     208658 non-null  object \n",
      " 9   Status.Vital         209442 non-null  object \n",
      " 10  Type.of.Death        120406 non-null  object \n",
      " 11  year                 209442 non-null  float64\n",
      "dtypes: float64(2), object(10)\n",
      "memory usage: 20.8+ MB\n"
     ]
    }
   ],
   "source": [
    "df.info()"
   ]
  },
  {
   "cell_type": "code",
   "execution_count": 156,
   "id": "18a7896f",
   "metadata": {},
   "outputs": [
    {
     "data": {
      "text/plain": [
       "Gender                     0\n",
       "Age                        0\n",
       "Raca.Color             31689\n",
       "Nationality             6358\n",
       "Degree.of.Education    68630\n",
       "State.Civil            56304\n",
       "Status.Address             1\n",
       "City.Address               0\n",
       "Diagnostic.means         784\n",
       "Status.Vital               0\n",
       "Type.of.Death          89036\n",
       "year                       0\n",
       "dtype: int64"
      ]
     },
     "execution_count": 156,
     "metadata": {},
     "output_type": "execute_result"
    }
   ],
   "source": [
    "df.isna().sum()"
   ]
  },
  {
   "cell_type": "code",
   "execution_count": 268,
   "id": "74d1391e",
   "metadata": {},
   "outputs": [],
   "source": [
    "df = df[df['Type.of.Death'].notna()]"
   ]
  },
  {
   "cell_type": "code",
   "execution_count": 158,
   "id": "c9daba16",
   "metadata": {},
   "outputs": [
    {
     "data": {
      "text/plain": [
       "Gender                     0\n",
       "Age                        0\n",
       "Raca.Color              9302\n",
       "Nationality             2282\n",
       "Degree.of.Education    28132\n",
       "State.Civil            17140\n",
       "Status.Address             0\n",
       "City.Address               0\n",
       "Diagnostic.means         680\n",
       "Status.Vital               0\n",
       "Type.of.Death              0\n",
       "year                       0\n",
       "dtype: int64"
      ]
     },
     "execution_count": 158,
     "metadata": {},
     "output_type": "execute_result"
    }
   ],
   "source": [
    "df.isna().sum()"
   ]
  },
  {
   "cell_type": "code",
   "execution_count": 159,
   "id": "77fadbe7",
   "metadata": {},
   "outputs": [
    {
     "data": {
      "text/plain": [
       "(120406, 12)"
      ]
     },
     "execution_count": 159,
     "metadata": {},
     "output_type": "execute_result"
    }
   ],
   "source": [
    "df.shape"
   ]
  },
  {
   "cell_type": "code",
   "execution_count": 160,
   "id": "09bf2f4a",
   "metadata": {},
   "outputs": [
    {
     "data": {
      "text/plain": [
       "FUNDAMENTAL I (1� A 4� S�RIE)     30599\n",
       "FUNDAMENTAL II (5� A 8� S�RIE)    18929\n",
       "M�DIO (ANTIGO SEGUNDO GRAU)       17260\n",
       "SEM ESCOLARIDADE                  12662\n",
       "SUPERIOR COMPLETO                 12018\n",
       "SUPERIOR INCOMPLETO                 806\n",
       "Name: Degree.of.Education, dtype: int64"
      ]
     },
     "execution_count": 160,
     "metadata": {},
     "output_type": "execute_result"
    }
   ],
   "source": [
    "df['Degree.of.Education'].value_counts()"
   ]
  },
  {
   "cell_type": "code",
   "execution_count": 269,
   "id": "9ac8a195",
   "metadata": {},
   "outputs": [],
   "source": [
    "df['Degree.of.Education'] = df['Degree.of.Education'].replace(regex={r'^FUNDAMENTAL I .1. A 4. S.RIE.$': 'Fundamental I',\n",
    "                  r'^FUNDAMENTAL II .5. A 8. S.RIE.$': 'Fundamental II',\n",
    "                 r'^M.DIO .ANTIGO SEGUNDO GRAU.$': 'Former Second Degree',\n",
    "                 'SEM ESCOLARIDADE': 'Without Education', 'SUPERIOR COMPLETO' : 'Graduated',\n",
    "                 'SUPERIOR INCOMPLETO' : 'Incomplete High'})\n",
    "\n",
    "\n"
   ]
  },
  {
   "cell_type": "code",
   "execution_count": 167,
   "id": "b5a8a971",
   "metadata": {},
   "outputs": [
    {
     "data": {
      "text/plain": [
       "Fundamental I           30599\n",
       "Fundamental II          18929\n",
       "Former Second Degree    17260\n",
       "Without Education       12662\n",
       "Graduated               12018\n",
       "Incomplete High           806\n",
       "Name: Degree.of.Education, dtype: int64"
      ]
     },
     "execution_count": 167,
     "metadata": {},
     "output_type": "execute_result"
    }
   ],
   "source": [
    "df['Degree.of.Education'].value_counts()"
   ]
  },
  {
   "cell_type": "code",
   "execution_count": 168,
   "id": "0d9abd2e",
   "metadata": {},
   "outputs": [
    {
     "data": {
      "text/html": [
       "<div>\n",
       "<style scoped>\n",
       "    .dataframe tbody tr th:only-of-type {\n",
       "        vertical-align: middle;\n",
       "    }\n",
       "\n",
       "    .dataframe tbody tr th {\n",
       "        vertical-align: top;\n",
       "    }\n",
       "\n",
       "    .dataframe thead th {\n",
       "        text-align: right;\n",
       "    }\n",
       "</style>\n",
       "<table border=\"1\" class=\"dataframe\">\n",
       "  <thead>\n",
       "    <tr style=\"text-align: right;\">\n",
       "      <th></th>\n",
       "      <th>Gender</th>\n",
       "      <th>Age</th>\n",
       "      <th>Raca.Color</th>\n",
       "      <th>Nationality</th>\n",
       "      <th>Degree.of.Education</th>\n",
       "      <th>State.Civil</th>\n",
       "      <th>Status.Address</th>\n",
       "      <th>City.Address</th>\n",
       "      <th>Diagnostic.means</th>\n",
       "      <th>Status.Vital</th>\n",
       "      <th>Type.of.Death</th>\n",
       "      <th>year</th>\n",
       "    </tr>\n",
       "  </thead>\n",
       "  <tbody>\n",
       "    <tr>\n",
       "      <th>0</th>\n",
       "      <td>MASCULINO</td>\n",
       "      <td>30.0</td>\n",
       "      <td>BRANCO</td>\n",
       "      <td>BRASIL</td>\n",
       "      <td>NaN</td>\n",
       "      <td>CASADO</td>\n",
       "      <td>S�O PAULO</td>\n",
       "      <td>CAMPINAS</td>\n",
       "      <td>SDO</td>\n",
       "      <td>MORTO</td>\n",
       "      <td>C�NCER</td>\n",
       "      <td>2005.0</td>\n",
       "    </tr>\n",
       "    <tr>\n",
       "      <th>2</th>\n",
       "      <td>FEMININO</td>\n",
       "      <td>51.0</td>\n",
       "      <td>PARDA</td>\n",
       "      <td>BRASIL</td>\n",
       "      <td>NaN</td>\n",
       "      <td>SOLTEIRO</td>\n",
       "      <td>S�O PAULO</td>\n",
       "      <td>CAMPINAS</td>\n",
       "      <td>HISTOLOGIA DO TUMOR PRIM�RIO</td>\n",
       "      <td>MORTO</td>\n",
       "      <td>C�NCER</td>\n",
       "      <td>2003.0</td>\n",
       "    </tr>\n",
       "    <tr>\n",
       "      <th>4</th>\n",
       "      <td>MASCULINO</td>\n",
       "      <td>71.0</td>\n",
       "      <td>BRANCO</td>\n",
       "      <td>BRASIL</td>\n",
       "      <td>NaN</td>\n",
       "      <td>SOLTEIRO</td>\n",
       "      <td>S�O PAULO</td>\n",
       "      <td>CAMPINAS</td>\n",
       "      <td>SDO</td>\n",
       "      <td>MORTO</td>\n",
       "      <td>C�NCER</td>\n",
       "      <td>2005.0</td>\n",
       "    </tr>\n",
       "    <tr>\n",
       "      <th>5</th>\n",
       "      <td>MASCULINO</td>\n",
       "      <td>71.0</td>\n",
       "      <td>BRANCO</td>\n",
       "      <td>BRASIL</td>\n",
       "      <td>Graduated</td>\n",
       "      <td>VI�VO</td>\n",
       "      <td>S�O PAULO</td>\n",
       "      <td>CAMPINAS</td>\n",
       "      <td>SDO</td>\n",
       "      <td>MORTO</td>\n",
       "      <td>C�NCER</td>\n",
       "      <td>2005.0</td>\n",
       "    </tr>\n",
       "    <tr>\n",
       "      <th>6</th>\n",
       "      <td>FEMININO</td>\n",
       "      <td>57.0</td>\n",
       "      <td>PARDA</td>\n",
       "      <td>BRASIL</td>\n",
       "      <td>NaN</td>\n",
       "      <td>CASADO</td>\n",
       "      <td>S�O PAULO</td>\n",
       "      <td>CAMPINAS</td>\n",
       "      <td>SDO</td>\n",
       "      <td>MORTO</td>\n",
       "      <td>C�NCER</td>\n",
       "      <td>2005.0</td>\n",
       "    </tr>\n",
       "  </tbody>\n",
       "</table>\n",
       "</div>"
      ],
      "text/plain": [
       "      Gender   Age Raca.Color Nationality Degree.of.Education State.Civil  \\\n",
       "0  MASCULINO  30.0     BRANCO      BRASIL                 NaN      CASADO   \n",
       "2   FEMININO  51.0      PARDA      BRASIL                 NaN    SOLTEIRO   \n",
       "4  MASCULINO  71.0     BRANCO      BRASIL                 NaN    SOLTEIRO   \n",
       "5  MASCULINO  71.0     BRANCO      BRASIL           Graduated       VI�VO   \n",
       "6   FEMININO  57.0      PARDA      BRASIL                 NaN      CASADO   \n",
       "\n",
       "  Status.Address City.Address              Diagnostic.means Status.Vital  \\\n",
       "0      S�O PAULO     CAMPINAS                           SDO        MORTO   \n",
       "2      S�O PAULO     CAMPINAS  HISTOLOGIA DO TUMOR PRIM�RIO        MORTO   \n",
       "4      S�O PAULO     CAMPINAS                           SDO        MORTO   \n",
       "5      S�O PAULO     CAMPINAS                           SDO        MORTO   \n",
       "6      S�O PAULO     CAMPINAS                           SDO        MORTO   \n",
       "\n",
       "  Type.of.Death    year  \n",
       "0        C�NCER  2005.0  \n",
       "2        C�NCER  2003.0  \n",
       "4        C�NCER  2005.0  \n",
       "5        C�NCER  2005.0  \n",
       "6        C�NCER  2005.0  "
      ]
     },
     "execution_count": 168,
     "metadata": {},
     "output_type": "execute_result"
    }
   ],
   "source": [
    "df.head()"
   ]
  },
  {
   "cell_type": "code",
   "execution_count": 169,
   "id": "ed8c0464",
   "metadata": {},
   "outputs": [
    {
     "data": {
      "text/plain": [
       "MORTO    119791\n",
       "VIVO        615\n",
       "Name: Status.Vital, dtype: int64"
      ]
     },
     "execution_count": 169,
     "metadata": {},
     "output_type": "execute_result"
    }
   ],
   "source": [
    "df['Status.Vital'].value_counts()"
   ]
  },
  {
   "cell_type": "code",
   "execution_count": 270,
   "id": "f24d8fc8",
   "metadata": {},
   "outputs": [],
   "source": [
    "df['Status.Vital'] = df['Status.Vital'].replace(regex={r'^MORTO$': 'Dead', r'^VIVO$': 'Alive'})"
   ]
  },
  {
   "cell_type": "code",
   "execution_count": 271,
   "id": "f63a4ff4",
   "metadata": {},
   "outputs": [],
   "source": [
    "df['Type.of.Death'] = df['Type.of.Death'].replace(regex={r'^C.NCER$': 'Cancer', r'^N.O C.NCER$': 'No Cancer'})"
   ]
  },
  {
   "cell_type": "code",
   "execution_count": 179,
   "id": "9243560e",
   "metadata": {},
   "outputs": [
    {
     "data": {
      "text/plain": [
       "Cancer       112116\n",
       "No Cancer      8290\n",
       "Name: Type.of.Death, dtype: int64"
      ]
     },
     "execution_count": 179,
     "metadata": {},
     "output_type": "execute_result"
    }
   ],
   "source": [
    "df['Type.of.Death'].value_counts()"
   ]
  },
  {
   "cell_type": "code",
   "execution_count": 272,
   "id": "f8a31ecf",
   "metadata": {},
   "outputs": [],
   "source": [
    "df['Gender'] = df['Gender'].replace(regex={r'^MASCULINO$': 'Male', r'^FEMININO$': 'Female', r'^IGNORADO$' : 'Ignored'})"
   ]
  },
  {
   "cell_type": "code",
   "execution_count": 182,
   "id": "594ac3d3",
   "metadata": {},
   "outputs": [
    {
     "data": {
      "text/plain": [
       "Male       63572\n",
       "Female     56833\n",
       "Ignored        1\n",
       "Name: Gender, dtype: int64"
      ]
     },
     "execution_count": 182,
     "metadata": {},
     "output_type": "execute_result"
    }
   ],
   "source": [
    "df['Gender'].value_counts()"
   ]
  },
  {
   "cell_type": "code",
   "execution_count": 183,
   "id": "8bfcaf59",
   "metadata": {},
   "outputs": [
    {
     "data": {
      "text/html": [
       "<div>\n",
       "<style scoped>\n",
       "    .dataframe tbody tr th:only-of-type {\n",
       "        vertical-align: middle;\n",
       "    }\n",
       "\n",
       "    .dataframe tbody tr th {\n",
       "        vertical-align: top;\n",
       "    }\n",
       "\n",
       "    .dataframe thead th {\n",
       "        text-align: right;\n",
       "    }\n",
       "</style>\n",
       "<table border=\"1\" class=\"dataframe\">\n",
       "  <thead>\n",
       "    <tr style=\"text-align: right;\">\n",
       "      <th></th>\n",
       "      <th>Gender</th>\n",
       "      <th>Age</th>\n",
       "      <th>Raca.Color</th>\n",
       "      <th>Nationality</th>\n",
       "      <th>Degree.of.Education</th>\n",
       "      <th>State.Civil</th>\n",
       "      <th>Status.Address</th>\n",
       "      <th>City.Address</th>\n",
       "      <th>Diagnostic.means</th>\n",
       "      <th>Status.Vital</th>\n",
       "      <th>Type.of.Death</th>\n",
       "      <th>year</th>\n",
       "    </tr>\n",
       "  </thead>\n",
       "  <tbody>\n",
       "    <tr>\n",
       "      <th>0</th>\n",
       "      <td>Male</td>\n",
       "      <td>30.0</td>\n",
       "      <td>BRANCO</td>\n",
       "      <td>BRASIL</td>\n",
       "      <td>NaN</td>\n",
       "      <td>CASADO</td>\n",
       "      <td>S�O PAULO</td>\n",
       "      <td>CAMPINAS</td>\n",
       "      <td>SDO</td>\n",
       "      <td>Dead</td>\n",
       "      <td>Cancer</td>\n",
       "      <td>2005.0</td>\n",
       "    </tr>\n",
       "    <tr>\n",
       "      <th>2</th>\n",
       "      <td>Female</td>\n",
       "      <td>51.0</td>\n",
       "      <td>PARDA</td>\n",
       "      <td>BRASIL</td>\n",
       "      <td>NaN</td>\n",
       "      <td>SOLTEIRO</td>\n",
       "      <td>S�O PAULO</td>\n",
       "      <td>CAMPINAS</td>\n",
       "      <td>HISTOLOGIA DO TUMOR PRIM�RIO</td>\n",
       "      <td>Dead</td>\n",
       "      <td>Cancer</td>\n",
       "      <td>2003.0</td>\n",
       "    </tr>\n",
       "    <tr>\n",
       "      <th>4</th>\n",
       "      <td>Male</td>\n",
       "      <td>71.0</td>\n",
       "      <td>BRANCO</td>\n",
       "      <td>BRASIL</td>\n",
       "      <td>NaN</td>\n",
       "      <td>SOLTEIRO</td>\n",
       "      <td>S�O PAULO</td>\n",
       "      <td>CAMPINAS</td>\n",
       "      <td>SDO</td>\n",
       "      <td>Dead</td>\n",
       "      <td>Cancer</td>\n",
       "      <td>2005.0</td>\n",
       "    </tr>\n",
       "    <tr>\n",
       "      <th>5</th>\n",
       "      <td>Male</td>\n",
       "      <td>71.0</td>\n",
       "      <td>BRANCO</td>\n",
       "      <td>BRASIL</td>\n",
       "      <td>Graduated</td>\n",
       "      <td>VI�VO</td>\n",
       "      <td>S�O PAULO</td>\n",
       "      <td>CAMPINAS</td>\n",
       "      <td>SDO</td>\n",
       "      <td>Dead</td>\n",
       "      <td>Cancer</td>\n",
       "      <td>2005.0</td>\n",
       "    </tr>\n",
       "    <tr>\n",
       "      <th>6</th>\n",
       "      <td>Female</td>\n",
       "      <td>57.0</td>\n",
       "      <td>PARDA</td>\n",
       "      <td>BRASIL</td>\n",
       "      <td>NaN</td>\n",
       "      <td>CASADO</td>\n",
       "      <td>S�O PAULO</td>\n",
       "      <td>CAMPINAS</td>\n",
       "      <td>SDO</td>\n",
       "      <td>Dead</td>\n",
       "      <td>Cancer</td>\n",
       "      <td>2005.0</td>\n",
       "    </tr>\n",
       "  </tbody>\n",
       "</table>\n",
       "</div>"
      ],
      "text/plain": [
       "   Gender   Age Raca.Color Nationality Degree.of.Education State.Civil  \\\n",
       "0    Male  30.0     BRANCO      BRASIL                 NaN      CASADO   \n",
       "2  Female  51.0      PARDA      BRASIL                 NaN    SOLTEIRO   \n",
       "4    Male  71.0     BRANCO      BRASIL                 NaN    SOLTEIRO   \n",
       "5    Male  71.0     BRANCO      BRASIL           Graduated       VI�VO   \n",
       "6  Female  57.0      PARDA      BRASIL                 NaN      CASADO   \n",
       "\n",
       "  Status.Address City.Address              Diagnostic.means Status.Vital  \\\n",
       "0      S�O PAULO     CAMPINAS                           SDO         Dead   \n",
       "2      S�O PAULO     CAMPINAS  HISTOLOGIA DO TUMOR PRIM�RIO         Dead   \n",
       "4      S�O PAULO     CAMPINAS                           SDO         Dead   \n",
       "5      S�O PAULO     CAMPINAS                           SDO         Dead   \n",
       "6      S�O PAULO     CAMPINAS                           SDO         Dead   \n",
       "\n",
       "  Type.of.Death    year  \n",
       "0        Cancer  2005.0  \n",
       "2        Cancer  2003.0  \n",
       "4        Cancer  2005.0  \n",
       "5        Cancer  2005.0  \n",
       "6        Cancer  2005.0  "
      ]
     },
     "execution_count": 183,
     "metadata": {},
     "output_type": "execute_result"
    }
   ],
   "source": [
    "df.head()"
   ]
  },
  {
   "cell_type": "code",
   "execution_count": 273,
   "id": "f2ccf606",
   "metadata": {},
   "outputs": [],
   "source": [
    "df['Degree.of.Education'] = df['Degree.of.Education'].fillna('Fundamental I')"
   ]
  },
  {
   "cell_type": "code",
   "execution_count": 274,
   "id": "13a8b284",
   "metadata": {},
   "outputs": [],
   "source": [
    "df['Raca.Color'] = df['Raca.Color'].fillna('BRANCO')"
   ]
  },
  {
   "cell_type": "code",
   "execution_count": 187,
   "id": "67795d07",
   "metadata": {},
   "outputs": [
    {
     "data": {
      "text/html": [
       "<div>\n",
       "<style scoped>\n",
       "    .dataframe tbody tr th:only-of-type {\n",
       "        vertical-align: middle;\n",
       "    }\n",
       "\n",
       "    .dataframe tbody tr th {\n",
       "        vertical-align: top;\n",
       "    }\n",
       "\n",
       "    .dataframe thead th {\n",
       "        text-align: right;\n",
       "    }\n",
       "</style>\n",
       "<table border=\"1\" class=\"dataframe\">\n",
       "  <thead>\n",
       "    <tr style=\"text-align: right;\">\n",
       "      <th></th>\n",
       "      <th>Gender</th>\n",
       "      <th>Age</th>\n",
       "      <th>Raca.Color</th>\n",
       "      <th>Nationality</th>\n",
       "      <th>Degree.of.Education</th>\n",
       "      <th>State.Civil</th>\n",
       "      <th>Status.Address</th>\n",
       "      <th>City.Address</th>\n",
       "      <th>Diagnostic.means</th>\n",
       "      <th>Status.Vital</th>\n",
       "      <th>Type.of.Death</th>\n",
       "      <th>year</th>\n",
       "    </tr>\n",
       "  </thead>\n",
       "  <tbody>\n",
       "    <tr>\n",
       "      <th>0</th>\n",
       "      <td>Male</td>\n",
       "      <td>30.0</td>\n",
       "      <td>BRANCO</td>\n",
       "      <td>BRASIL</td>\n",
       "      <td>Fundamental I</td>\n",
       "      <td>CASADO</td>\n",
       "      <td>S�O PAULO</td>\n",
       "      <td>CAMPINAS</td>\n",
       "      <td>SDO</td>\n",
       "      <td>Dead</td>\n",
       "      <td>Cancer</td>\n",
       "      <td>2005.0</td>\n",
       "    </tr>\n",
       "    <tr>\n",
       "      <th>2</th>\n",
       "      <td>Female</td>\n",
       "      <td>51.0</td>\n",
       "      <td>PARDA</td>\n",
       "      <td>BRASIL</td>\n",
       "      <td>Fundamental I</td>\n",
       "      <td>SOLTEIRO</td>\n",
       "      <td>S�O PAULO</td>\n",
       "      <td>CAMPINAS</td>\n",
       "      <td>HISTOLOGIA DO TUMOR PRIM�RIO</td>\n",
       "      <td>Dead</td>\n",
       "      <td>Cancer</td>\n",
       "      <td>2003.0</td>\n",
       "    </tr>\n",
       "    <tr>\n",
       "      <th>4</th>\n",
       "      <td>Male</td>\n",
       "      <td>71.0</td>\n",
       "      <td>BRANCO</td>\n",
       "      <td>BRASIL</td>\n",
       "      <td>Fundamental I</td>\n",
       "      <td>SOLTEIRO</td>\n",
       "      <td>S�O PAULO</td>\n",
       "      <td>CAMPINAS</td>\n",
       "      <td>SDO</td>\n",
       "      <td>Dead</td>\n",
       "      <td>Cancer</td>\n",
       "      <td>2005.0</td>\n",
       "    </tr>\n",
       "    <tr>\n",
       "      <th>5</th>\n",
       "      <td>Male</td>\n",
       "      <td>71.0</td>\n",
       "      <td>BRANCO</td>\n",
       "      <td>BRASIL</td>\n",
       "      <td>Graduated</td>\n",
       "      <td>VI�VO</td>\n",
       "      <td>S�O PAULO</td>\n",
       "      <td>CAMPINAS</td>\n",
       "      <td>SDO</td>\n",
       "      <td>Dead</td>\n",
       "      <td>Cancer</td>\n",
       "      <td>2005.0</td>\n",
       "    </tr>\n",
       "    <tr>\n",
       "      <th>6</th>\n",
       "      <td>Female</td>\n",
       "      <td>57.0</td>\n",
       "      <td>PARDA</td>\n",
       "      <td>BRASIL</td>\n",
       "      <td>Fundamental I</td>\n",
       "      <td>CASADO</td>\n",
       "      <td>S�O PAULO</td>\n",
       "      <td>CAMPINAS</td>\n",
       "      <td>SDO</td>\n",
       "      <td>Dead</td>\n",
       "      <td>Cancer</td>\n",
       "      <td>2005.0</td>\n",
       "    </tr>\n",
       "  </tbody>\n",
       "</table>\n",
       "</div>"
      ],
      "text/plain": [
       "   Gender   Age Raca.Color Nationality Degree.of.Education State.Civil  \\\n",
       "0    Male  30.0     BRANCO      BRASIL       Fundamental I      CASADO   \n",
       "2  Female  51.0      PARDA      BRASIL       Fundamental I    SOLTEIRO   \n",
       "4    Male  71.0     BRANCO      BRASIL       Fundamental I    SOLTEIRO   \n",
       "5    Male  71.0     BRANCO      BRASIL           Graduated       VI�VO   \n",
       "6  Female  57.0      PARDA      BRASIL       Fundamental I      CASADO   \n",
       "\n",
       "  Status.Address City.Address              Diagnostic.means Status.Vital  \\\n",
       "0      S�O PAULO     CAMPINAS                           SDO         Dead   \n",
       "2      S�O PAULO     CAMPINAS  HISTOLOGIA DO TUMOR PRIM�RIO         Dead   \n",
       "4      S�O PAULO     CAMPINAS                           SDO         Dead   \n",
       "5      S�O PAULO     CAMPINAS                           SDO         Dead   \n",
       "6      S�O PAULO     CAMPINAS                           SDO         Dead   \n",
       "\n",
       "  Type.of.Death    year  \n",
       "0        Cancer  2005.0  \n",
       "2        Cancer  2003.0  \n",
       "4        Cancer  2005.0  \n",
       "5        Cancer  2005.0  \n",
       "6        Cancer  2005.0  "
      ]
     },
     "execution_count": 187,
     "metadata": {},
     "output_type": "execute_result"
    }
   ],
   "source": [
    "df.head()"
   ]
  },
  {
   "cell_type": "code",
   "execution_count": 275,
   "id": "d3138b85",
   "metadata": {},
   "outputs": [],
   "source": [
    "df.Nationality = df.Nationality.fillna('BRASIL')"
   ]
  },
  {
   "cell_type": "code",
   "execution_count": 276,
   "id": "c55b8bbd",
   "metadata": {},
   "outputs": [],
   "source": [
    "df = df[df['State.Civil'].notna()]"
   ]
  },
  {
   "cell_type": "code",
   "execution_count": 277,
   "id": "694109d1",
   "metadata": {},
   "outputs": [],
   "source": [
    "df = df[df['Diagnostic.means'].notna()]"
   ]
  },
  {
   "cell_type": "code",
   "execution_count": 195,
   "id": "67f6bb8f",
   "metadata": {},
   "outputs": [
    {
     "data": {
      "text/plain": [
       "Gender                 0\n",
       "Age                    0\n",
       "Raca.Color             0\n",
       "Nationality            0\n",
       "Degree.of.Education    0\n",
       "State.Civil            0\n",
       "Status.Address         0\n",
       "City.Address           0\n",
       "Diagnostic.means       0\n",
       "Status.Vital           0\n",
       "Type.of.Death          0\n",
       "year                   0\n",
       "dtype: int64"
      ]
     },
     "execution_count": 195,
     "metadata": {},
     "output_type": "execute_result"
    }
   ],
   "source": [
    "df.isnull().sum()"
   ]
  },
  {
   "cell_type": "code",
   "execution_count": 196,
   "id": "9efc96ba",
   "metadata": {},
   "outputs": [
    {
     "data": {
      "text/plain": [
       "(102666, 12)"
      ]
     },
     "execution_count": 196,
     "metadata": {},
     "output_type": "execute_result"
    }
   ],
   "source": [
    "df.shape"
   ]
  },
  {
   "cell_type": "code",
   "execution_count": 278,
   "id": "2acbaae3",
   "metadata": {},
   "outputs": [],
   "source": [
    "dummy_df = pd.get_dummies(df[['Gender', 'Type.of.Death', 'Status.Vital']],\n",
    "                             dummy_na = False, drop_first = [True])"
   ]
  },
  {
   "cell_type": "code",
   "execution_count": 279,
   "id": "3e067860",
   "metadata": {},
   "outputs": [],
   "source": [
    "df = pd.concat([df, dummy_df], axis = 1)"
   ]
  },
  {
   "cell_type": "code",
   "execution_count": 201,
   "id": "7528ca30",
   "metadata": {},
   "outputs": [
    {
     "data": {
      "text/html": [
       "<div>\n",
       "<style scoped>\n",
       "    .dataframe tbody tr th:only-of-type {\n",
       "        vertical-align: middle;\n",
       "    }\n",
       "\n",
       "    .dataframe tbody tr th {\n",
       "        vertical-align: top;\n",
       "    }\n",
       "\n",
       "    .dataframe thead th {\n",
       "        text-align: right;\n",
       "    }\n",
       "</style>\n",
       "<table border=\"1\" class=\"dataframe\">\n",
       "  <thead>\n",
       "    <tr style=\"text-align: right;\">\n",
       "      <th></th>\n",
       "      <th>Gender</th>\n",
       "      <th>Age</th>\n",
       "      <th>Raca.Color</th>\n",
       "      <th>Nationality</th>\n",
       "      <th>Degree.of.Education</th>\n",
       "      <th>State.Civil</th>\n",
       "      <th>Status.Address</th>\n",
       "      <th>City.Address</th>\n",
       "      <th>Diagnostic.means</th>\n",
       "      <th>Status.Vital</th>\n",
       "      <th>Type.of.Death</th>\n",
       "      <th>year</th>\n",
       "      <th>Gender_Male</th>\n",
       "      <th>Type.of.Death_No Cancer</th>\n",
       "      <th>Status.Vital_Dead</th>\n",
       "    </tr>\n",
       "  </thead>\n",
       "  <tbody>\n",
       "    <tr>\n",
       "      <th>0</th>\n",
       "      <td>Male</td>\n",
       "      <td>30.0</td>\n",
       "      <td>BRANCO</td>\n",
       "      <td>BRASIL</td>\n",
       "      <td>Fundamental I</td>\n",
       "      <td>CASADO</td>\n",
       "      <td>S�O PAULO</td>\n",
       "      <td>CAMPINAS</td>\n",
       "      <td>SDO</td>\n",
       "      <td>Dead</td>\n",
       "      <td>Cancer</td>\n",
       "      <td>2005.0</td>\n",
       "      <td>1</td>\n",
       "      <td>0</td>\n",
       "      <td>1</td>\n",
       "    </tr>\n",
       "    <tr>\n",
       "      <th>2</th>\n",
       "      <td>Female</td>\n",
       "      <td>51.0</td>\n",
       "      <td>PARDA</td>\n",
       "      <td>BRASIL</td>\n",
       "      <td>Fundamental I</td>\n",
       "      <td>SOLTEIRO</td>\n",
       "      <td>S�O PAULO</td>\n",
       "      <td>CAMPINAS</td>\n",
       "      <td>HISTOLOGIA DO TUMOR PRIM�RIO</td>\n",
       "      <td>Dead</td>\n",
       "      <td>Cancer</td>\n",
       "      <td>2003.0</td>\n",
       "      <td>0</td>\n",
       "      <td>0</td>\n",
       "      <td>1</td>\n",
       "    </tr>\n",
       "    <tr>\n",
       "      <th>4</th>\n",
       "      <td>Male</td>\n",
       "      <td>71.0</td>\n",
       "      <td>BRANCO</td>\n",
       "      <td>BRASIL</td>\n",
       "      <td>Fundamental I</td>\n",
       "      <td>SOLTEIRO</td>\n",
       "      <td>S�O PAULO</td>\n",
       "      <td>CAMPINAS</td>\n",
       "      <td>SDO</td>\n",
       "      <td>Dead</td>\n",
       "      <td>Cancer</td>\n",
       "      <td>2005.0</td>\n",
       "      <td>1</td>\n",
       "      <td>0</td>\n",
       "      <td>1</td>\n",
       "    </tr>\n",
       "    <tr>\n",
       "      <th>5</th>\n",
       "      <td>Male</td>\n",
       "      <td>71.0</td>\n",
       "      <td>BRANCO</td>\n",
       "      <td>BRASIL</td>\n",
       "      <td>Graduated</td>\n",
       "      <td>VI�VO</td>\n",
       "      <td>S�O PAULO</td>\n",
       "      <td>CAMPINAS</td>\n",
       "      <td>SDO</td>\n",
       "      <td>Dead</td>\n",
       "      <td>Cancer</td>\n",
       "      <td>2005.0</td>\n",
       "      <td>1</td>\n",
       "      <td>0</td>\n",
       "      <td>1</td>\n",
       "    </tr>\n",
       "    <tr>\n",
       "      <th>6</th>\n",
       "      <td>Female</td>\n",
       "      <td>57.0</td>\n",
       "      <td>PARDA</td>\n",
       "      <td>BRASIL</td>\n",
       "      <td>Fundamental I</td>\n",
       "      <td>CASADO</td>\n",
       "      <td>S�O PAULO</td>\n",
       "      <td>CAMPINAS</td>\n",
       "      <td>SDO</td>\n",
       "      <td>Dead</td>\n",
       "      <td>Cancer</td>\n",
       "      <td>2005.0</td>\n",
       "      <td>0</td>\n",
       "      <td>0</td>\n",
       "      <td>1</td>\n",
       "    </tr>\n",
       "  </tbody>\n",
       "</table>\n",
       "</div>"
      ],
      "text/plain": [
       "   Gender   Age Raca.Color Nationality Degree.of.Education State.Civil  \\\n",
       "0    Male  30.0     BRANCO      BRASIL       Fundamental I      CASADO   \n",
       "2  Female  51.0      PARDA      BRASIL       Fundamental I    SOLTEIRO   \n",
       "4    Male  71.0     BRANCO      BRASIL       Fundamental I    SOLTEIRO   \n",
       "5    Male  71.0     BRANCO      BRASIL           Graduated       VI�VO   \n",
       "6  Female  57.0      PARDA      BRASIL       Fundamental I      CASADO   \n",
       "\n",
       "  Status.Address City.Address              Diagnostic.means Status.Vital  \\\n",
       "0      S�O PAULO     CAMPINAS                           SDO         Dead   \n",
       "2      S�O PAULO     CAMPINAS  HISTOLOGIA DO TUMOR PRIM�RIO         Dead   \n",
       "4      S�O PAULO     CAMPINAS                           SDO         Dead   \n",
       "5      S�O PAULO     CAMPINAS                           SDO         Dead   \n",
       "6      S�O PAULO     CAMPINAS                           SDO         Dead   \n",
       "\n",
       "  Type.of.Death    year  Gender_Male  Type.of.Death_No Cancer  \\\n",
       "0        Cancer  2005.0            1                        0   \n",
       "2        Cancer  2003.0            0                        0   \n",
       "4        Cancer  2005.0            1                        0   \n",
       "5        Cancer  2005.0            1                        0   \n",
       "6        Cancer  2005.0            0                        0   \n",
       "\n",
       "   Status.Vital_Dead  \n",
       "0                  1  \n",
       "2                  1  \n",
       "4                  1  \n",
       "5                  1  \n",
       "6                  1  "
      ]
     },
     "execution_count": 201,
     "metadata": {},
     "output_type": "execute_result"
    }
   ],
   "source": [
    "df.head()"
   ]
  },
  {
   "cell_type": "code",
   "execution_count": 280,
   "id": "213336d3",
   "metadata": {},
   "outputs": [],
   "source": [
    "df.rename(columns={'Type.of.Death_No Cancer': 'Type_No_Cancer',\n",
    "                   'Status.Vital_Dead': 'Status_Dead', 'State.Civil' : 'Legal_Status',\n",
    "                  'Degree.of.Education' : 'Education', 'Status.Vital' : 'Vital_Status',\n",
    "                   'Type.of.Death' : 'Type_of_Death', 'Status.Address' : 'Status_Address',\n",
    "                   'City.Address' : 'City_Address', 'Diagnostic.means' : 'Diagnostic_means',\n",
    "                  'Raca.Color' : 'Race_Color'}, inplace=True)"
   ]
  },
  {
   "cell_type": "code",
   "execution_count": 240,
   "id": "91f8d6cd",
   "metadata": {},
   "outputs": [
    {
     "name": "stdout",
     "output_type": "stream",
     "text": [
      "<class 'pandas.core.frame.DataFrame'>\n",
      "Int64Index: 102666 entries, 0 to 1759896\n",
      "Data columns (total 15 columns):\n",
      " #   Column            Non-Null Count   Dtype  \n",
      "---  ------            --------------   -----  \n",
      " 0   Gender            102666 non-null  object \n",
      " 1   Age               102666 non-null  float64\n",
      " 2   Race_Color        102666 non-null  object \n",
      " 3   Nationality       102666 non-null  object \n",
      " 4   Education         102666 non-null  object \n",
      " 5   Legal_Status      102666 non-null  object \n",
      " 6   Status_Address    102666 non-null  object \n",
      " 7   City_Address      102666 non-null  object \n",
      " 8   Diagnostic_means  102666 non-null  object \n",
      " 9   Vital_Status      102666 non-null  object \n",
      " 10  Type_of_Death     102666 non-null  object \n",
      " 11  year              102666 non-null  float64\n",
      " 12  Gender_Male       102666 non-null  uint8  \n",
      " 13  Type_No_Cancer    102666 non-null  uint8  \n",
      " 14  Status_Dead       102666 non-null  uint8  \n",
      "dtypes: float64(2), object(10), uint8(3)\n",
      "memory usage: 10.5+ MB\n"
     ]
    }
   ],
   "source": [
    "df.info()"
   ]
  },
  {
   "cell_type": "code",
   "execution_count": 18,
   "id": "f1e7018e",
   "metadata": {},
   "outputs": [],
   "source": [
    "def train_validate_test_split(df, target):\n",
    "    train_validate, test = train_test_split(df, test_size=0.2,  \n",
    "                                            stratify=df[target], random_state = 123)\n",
    "    \n",
    "    \n",
    "    train, validate = train_test_split(train_validate, test_size=0.3, \n",
    "                                       stratify=train_validate[target], random_state = 123)\n",
    "    return train, validate, test"
   ]
  },
  {
   "cell_type": "code",
   "execution_count": 242,
   "id": "62cc2867",
   "metadata": {},
   "outputs": [],
   "source": [
    "train, validate, test = train_validate_test_split(df, 'Vital_Status')"
   ]
  },
  {
   "cell_type": "code",
   "execution_count": 243,
   "id": "405f1186",
   "metadata": {},
   "outputs": [
    {
     "data": {
      "text/html": [
       "<div>\n",
       "<style scoped>\n",
       "    .dataframe tbody tr th:only-of-type {\n",
       "        vertical-align: middle;\n",
       "    }\n",
       "\n",
       "    .dataframe tbody tr th {\n",
       "        vertical-align: top;\n",
       "    }\n",
       "\n",
       "    .dataframe thead th {\n",
       "        text-align: right;\n",
       "    }\n",
       "</style>\n",
       "<table border=\"1\" class=\"dataframe\">\n",
       "  <thead>\n",
       "    <tr style=\"text-align: right;\">\n",
       "      <th></th>\n",
       "      <th>Gender</th>\n",
       "      <th>Age</th>\n",
       "      <th>Race_Color</th>\n",
       "      <th>Nationality</th>\n",
       "      <th>Education</th>\n",
       "      <th>Legal_Status</th>\n",
       "      <th>Status_Address</th>\n",
       "      <th>City_Address</th>\n",
       "      <th>Diagnostic_means</th>\n",
       "      <th>Vital_Status</th>\n",
       "      <th>Type_of_Death</th>\n",
       "      <th>year</th>\n",
       "      <th>Gender_Male</th>\n",
       "      <th>Type_No_Cancer</th>\n",
       "      <th>Status_Dead</th>\n",
       "    </tr>\n",
       "  </thead>\n",
       "  <tbody>\n",
       "    <tr>\n",
       "      <th>1619599</th>\n",
       "      <td>Female</td>\n",
       "      <td>26.0</td>\n",
       "      <td>PRETA</td>\n",
       "      <td>BRASIL</td>\n",
       "      <td>Graduated</td>\n",
       "      <td>SOLTEIRO</td>\n",
       "      <td>CEAR�</td>\n",
       "      <td>FORTALEZA</td>\n",
       "      <td>SDO</td>\n",
       "      <td>Dead</td>\n",
       "      <td>Cancer</td>\n",
       "      <td>2010.0</td>\n",
       "      <td>0</td>\n",
       "      <td>0</td>\n",
       "      <td>1</td>\n",
       "    </tr>\n",
       "    <tr>\n",
       "      <th>1453958</th>\n",
       "      <td>Male</td>\n",
       "      <td>61.0</td>\n",
       "      <td>BRANCO</td>\n",
       "      <td>BRASIL</td>\n",
       "      <td>Fundamental I</td>\n",
       "      <td>CASADO</td>\n",
       "      <td>PARAN�</td>\n",
       "      <td>CURITIBA</td>\n",
       "      <td>HISTOLOGIA DO TUMOR PRIM�RIO</td>\n",
       "      <td>Dead</td>\n",
       "      <td>Cancer</td>\n",
       "      <td>2010.0</td>\n",
       "      <td>1</td>\n",
       "      <td>0</td>\n",
       "      <td>1</td>\n",
       "    </tr>\n",
       "    <tr>\n",
       "      <th>1676476</th>\n",
       "      <td>Female</td>\n",
       "      <td>36.0</td>\n",
       "      <td>PARDA</td>\n",
       "      <td>BRASIL</td>\n",
       "      <td>Fundamental I</td>\n",
       "      <td>CASADO</td>\n",
       "      <td>AMAZONAS</td>\n",
       "      <td>MANAUS</td>\n",
       "      <td>SDO</td>\n",
       "      <td>Dead</td>\n",
       "      <td>Cancer</td>\n",
       "      <td>2013.0</td>\n",
       "      <td>0</td>\n",
       "      <td>0</td>\n",
       "      <td>1</td>\n",
       "    </tr>\n",
       "    <tr>\n",
       "      <th>1461604</th>\n",
       "      <td>Male</td>\n",
       "      <td>75.0</td>\n",
       "      <td>BRANCO</td>\n",
       "      <td>BRASIL</td>\n",
       "      <td>Fundamental I</td>\n",
       "      <td>VI�VO</td>\n",
       "      <td>PARAN�</td>\n",
       "      <td>CURITIBA</td>\n",
       "      <td>SDO</td>\n",
       "      <td>Dead</td>\n",
       "      <td>Cancer</td>\n",
       "      <td>2011.0</td>\n",
       "      <td>1</td>\n",
       "      <td>0</td>\n",
       "      <td>1</td>\n",
       "    </tr>\n",
       "    <tr>\n",
       "      <th>1349858</th>\n",
       "      <td>Male</td>\n",
       "      <td>41.0</td>\n",
       "      <td>PARDA</td>\n",
       "      <td>BRASIL</td>\n",
       "      <td>Fundamental I</td>\n",
       "      <td>SOLTEIRO</td>\n",
       "      <td>MINAS GERAIS</td>\n",
       "      <td>BELO HORIZONTE</td>\n",
       "      <td>HISTOLOGIA DO TUMOR PRIM�RIO</td>\n",
       "      <td>Alive</td>\n",
       "      <td>Cancer</td>\n",
       "      <td>2015.0</td>\n",
       "      <td>1</td>\n",
       "      <td>0</td>\n",
       "      <td>0</td>\n",
       "    </tr>\n",
       "  </tbody>\n",
       "</table>\n",
       "</div>"
      ],
      "text/plain": [
       "         Gender   Age Race_Color Nationality      Education Legal_Status  \\\n",
       "1619599  Female  26.0      PRETA      BRASIL      Graduated     SOLTEIRO   \n",
       "1453958    Male  61.0     BRANCO      BRASIL  Fundamental I       CASADO   \n",
       "1676476  Female  36.0      PARDA      BRASIL  Fundamental I       CASADO   \n",
       "1461604    Male  75.0     BRANCO      BRASIL  Fundamental I        VI�VO   \n",
       "1349858    Male  41.0      PARDA      BRASIL  Fundamental I     SOLTEIRO   \n",
       "\n",
       "        Status_Address    City_Address              Diagnostic_means  \\\n",
       "1619599          CEAR�       FORTALEZA                           SDO   \n",
       "1453958         PARAN�        CURITIBA  HISTOLOGIA DO TUMOR PRIM�RIO   \n",
       "1676476       AMAZONAS          MANAUS                           SDO   \n",
       "1461604         PARAN�        CURITIBA                           SDO   \n",
       "1349858   MINAS GERAIS  BELO HORIZONTE  HISTOLOGIA DO TUMOR PRIM�RIO   \n",
       "\n",
       "        Vital_Status Type_of_Death    year  Gender_Male  Type_No_Cancer  \\\n",
       "1619599         Dead        Cancer  2010.0            0               0   \n",
       "1453958         Dead        Cancer  2010.0            1               0   \n",
       "1676476         Dead        Cancer  2013.0            0               0   \n",
       "1461604         Dead        Cancer  2011.0            1               0   \n",
       "1349858        Alive        Cancer  2015.0            1               0   \n",
       "\n",
       "         Status_Dead  \n",
       "1619599            1  \n",
       "1453958            1  \n",
       "1676476            1  \n",
       "1461604            1  \n",
       "1349858            0  "
      ]
     },
     "execution_count": 243,
     "metadata": {},
     "output_type": "execute_result"
    }
   ],
   "source": [
    "train.head()"
   ]
  },
  {
   "cell_type": "markdown",
   "id": "478360ba",
   "metadata": {},
   "source": [
    "# Exploration"
   ]
  },
  {
   "cell_type": "markdown",
   "id": "ed579828",
   "metadata": {},
   "source": [
    "## Find Drivers for NO Cancer?"
   ]
  },
  {
   "cell_type": "markdown",
   "id": "99e30bfb",
   "metadata": {},
   "source": [
    "## Find drivers for death?"
   ]
  },
  {
   "cell_type": "code",
   "execution_count": 330,
   "id": "ad71a0d6",
   "metadata": {},
   "outputs": [
    {
     "data": {
      "text/plain": [
       "(120713, 15)"
      ]
     },
     "execution_count": 330,
     "metadata": {},
     "output_type": "execute_result"
    }
   ],
   "source": [
    "train.shape"
   ]
  },
  {
   "cell_type": "code",
   "execution_count": 209,
   "id": "33b4ef38",
   "metadata": {},
   "outputs": [
    {
     "data": {
      "text/html": [
       "<div>\n",
       "<style scoped>\n",
       "    .dataframe tbody tr th:only-of-type {\n",
       "        vertical-align: middle;\n",
       "    }\n",
       "\n",
       "    .dataframe tbody tr th {\n",
       "        vertical-align: top;\n",
       "    }\n",
       "\n",
       "    .dataframe thead th {\n",
       "        text-align: right;\n",
       "    }\n",
       "</style>\n",
       "<table border=\"1\" class=\"dataframe\">\n",
       "  <thead>\n",
       "    <tr style=\"text-align: right;\">\n",
       "      <th>Status_Dead</th>\n",
       "      <th>0</th>\n",
       "      <th>1</th>\n",
       "    </tr>\n",
       "    <tr>\n",
       "      <th>Vital_Status</th>\n",
       "      <th></th>\n",
       "      <th></th>\n",
       "    </tr>\n",
       "  </thead>\n",
       "  <tbody>\n",
       "    <tr>\n",
       "      <th>Alive</th>\n",
       "      <td>227</td>\n",
       "      <td>0</td>\n",
       "    </tr>\n",
       "    <tr>\n",
       "      <th>Dead</th>\n",
       "      <td>0</td>\n",
       "      <td>57265</td>\n",
       "    </tr>\n",
       "  </tbody>\n",
       "</table>\n",
       "</div>"
      ],
      "text/plain": [
       "Status_Dead     0      1\n",
       "Vital_Status            \n",
       "Alive         227      0\n",
       "Dead            0  57265"
      ]
     },
     "execution_count": 209,
     "metadata": {},
     "output_type": "execute_result"
    }
   ],
   "source": [
    "pd.crosstab(train['Vital_Status'], train['Status_Dead'])"
   ]
  },
  {
   "cell_type": "code",
   "execution_count": 329,
   "id": "2a40a80f",
   "metadata": {},
   "outputs": [
    {
     "data": {
      "text/html": [
       "<div>\n",
       "<style scoped>\n",
       "    .dataframe tbody tr th:only-of-type {\n",
       "        vertical-align: middle;\n",
       "    }\n",
       "\n",
       "    .dataframe tbody tr th {\n",
       "        vertical-align: top;\n",
       "    }\n",
       "\n",
       "    .dataframe thead th {\n",
       "        text-align: right;\n",
       "    }\n",
       "</style>\n",
       "<table border=\"1\" class=\"dataframe\">\n",
       "  <thead>\n",
       "    <tr style=\"text-align: right;\">\n",
       "      <th>Type_No_Cancer</th>\n",
       "      <th>0</th>\n",
       "      <th>1</th>\n",
       "    </tr>\n",
       "    <tr>\n",
       "      <th>Type_of_Death</th>\n",
       "      <th></th>\n",
       "      <th></th>\n",
       "    </tr>\n",
       "  </thead>\n",
       "  <tbody>\n",
       "    <tr>\n",
       "      <th>Cancer</th>\n",
       "      <td>114385</td>\n",
       "      <td>0</td>\n",
       "    </tr>\n",
       "    <tr>\n",
       "      <th>No Cancer</th>\n",
       "      <td>0</td>\n",
       "      <td>6328</td>\n",
       "    </tr>\n",
       "  </tbody>\n",
       "</table>\n",
       "</div>"
      ],
      "text/plain": [
       "Type_No_Cancer       0     1\n",
       "Type_of_Death               \n",
       "Cancer          114385     0\n",
       "No Cancer            0  6328"
      ]
     },
     "execution_count": 329,
     "metadata": {},
     "output_type": "execute_result"
    }
   ],
   "source": [
    "pd.crosstab(train['Type_of_Death'], train['Type_No_Cancer'])"
   ]
  },
  {
   "cell_type": "code",
   "execution_count": 332,
   "id": "7776238b",
   "metadata": {},
   "outputs": [
    {
     "data": {
      "text/plain": [
       "0.05212899185973701"
      ]
     },
     "execution_count": 332,
     "metadata": {},
     "output_type": "execute_result"
    }
   ],
   "source": [
    "2997/57492"
   ]
  },
  {
   "cell_type": "code",
   "execution_count": 333,
   "id": "b883898b",
   "metadata": {},
   "outputs": [
    {
     "data": {
      "text/plain": [
       "0.05242186011448643"
      ]
     },
     "execution_count": 333,
     "metadata": {},
     "output_type": "execute_result"
    }
   ],
   "source": [
    "6328/120713"
   ]
  },
  {
   "cell_type": "code",
   "execution_count": null,
   "id": "c542232c",
   "metadata": {},
   "outputs": [],
   "source": [
    "# inbalanced problem\n",
    "# SMOT - synthetic minority \n",
    "# sample from majority class"
   ]
  },
  {
   "cell_type": "code",
   "execution_count": 246,
   "id": "3fd1a7d5",
   "metadata": {},
   "outputs": [
    {
     "data": {
      "text/html": [
       "<div>\n",
       "<style scoped>\n",
       "    .dataframe tbody tr th:only-of-type {\n",
       "        vertical-align: middle;\n",
       "    }\n",
       "\n",
       "    .dataframe tbody tr th {\n",
       "        vertical-align: top;\n",
       "    }\n",
       "\n",
       "    .dataframe thead th {\n",
       "        text-align: right;\n",
       "    }\n",
       "</style>\n",
       "<table border=\"1\" class=\"dataframe\">\n",
       "  <thead>\n",
       "    <tr style=\"text-align: right;\">\n",
       "      <th>Type_No_Cancer</th>\n",
       "      <th>0</th>\n",
       "      <th>1</th>\n",
       "    </tr>\n",
       "    <tr>\n",
       "      <th>Education</th>\n",
       "      <th></th>\n",
       "      <th></th>\n",
       "    </tr>\n",
       "  </thead>\n",
       "  <tbody>\n",
       "    <tr>\n",
       "      <th>Former Second Degree</th>\n",
       "      <td>8839</td>\n",
       "      <td>311</td>\n",
       "    </tr>\n",
       "    <tr>\n",
       "      <th>Fundamental I</th>\n",
       "      <td>23621</td>\n",
       "      <td>1717</td>\n",
       "    </tr>\n",
       "    <tr>\n",
       "      <th>Fundamental II</th>\n",
       "      <td>9729</td>\n",
       "      <td>361</td>\n",
       "    </tr>\n",
       "    <tr>\n",
       "      <th>Graduated</th>\n",
       "      <td>6352</td>\n",
       "      <td>241</td>\n",
       "    </tr>\n",
       "    <tr>\n",
       "      <th>Incomplete High</th>\n",
       "      <td>428</td>\n",
       "      <td>9</td>\n",
       "    </tr>\n",
       "    <tr>\n",
       "      <th>Without Education</th>\n",
       "      <td>5526</td>\n",
       "      <td>358</td>\n",
       "    </tr>\n",
       "  </tbody>\n",
       "</table>\n",
       "</div>"
      ],
      "text/plain": [
       "Type_No_Cancer            0     1\n",
       "Education                        \n",
       "Former Second Degree   8839   311\n",
       "Fundamental I         23621  1717\n",
       "Fundamental II         9729   361\n",
       "Graduated              6352   241\n",
       "Incomplete High         428     9\n",
       "Without Education      5526   358"
      ]
     },
     "execution_count": 246,
     "metadata": {},
     "output_type": "execute_result"
    }
   ],
   "source": [
    "pd.crosstab(train['Education'], train['Type_No_Cancer'])"
   ]
  },
  {
   "cell_type": "code",
   "execution_count": 223,
   "id": "55e88e82",
   "metadata": {},
   "outputs": [
    {
     "data": {
      "text/html": [
       "<div>\n",
       "<style scoped>\n",
       "    .dataframe tbody tr th:only-of-type {\n",
       "        vertical-align: middle;\n",
       "    }\n",
       "\n",
       "    .dataframe tbody tr th {\n",
       "        vertical-align: top;\n",
       "    }\n",
       "\n",
       "    .dataframe thead th {\n",
       "        text-align: right;\n",
       "    }\n",
       "</style>\n",
       "<table border=\"1\" class=\"dataframe\">\n",
       "  <thead>\n",
       "    <tr style=\"text-align: right;\">\n",
       "      <th>Status_Dead</th>\n",
       "      <th>0</th>\n",
       "      <th>1</th>\n",
       "    </tr>\n",
       "    <tr>\n",
       "      <th>Education</th>\n",
       "      <th></th>\n",
       "      <th></th>\n",
       "    </tr>\n",
       "  </thead>\n",
       "  <tbody>\n",
       "    <tr>\n",
       "      <th>Former Second Degree</th>\n",
       "      <td>42</td>\n",
       "      <td>9108</td>\n",
       "    </tr>\n",
       "    <tr>\n",
       "      <th>Fundamental I</th>\n",
       "      <td>104</td>\n",
       "      <td>25234</td>\n",
       "    </tr>\n",
       "    <tr>\n",
       "      <th>Fundamental II</th>\n",
       "      <td>39</td>\n",
       "      <td>10051</td>\n",
       "    </tr>\n",
       "    <tr>\n",
       "      <th>Graduated</th>\n",
       "      <td>35</td>\n",
       "      <td>6558</td>\n",
       "    </tr>\n",
       "    <tr>\n",
       "      <th>Incomplete High</th>\n",
       "      <td>1</td>\n",
       "      <td>436</td>\n",
       "    </tr>\n",
       "    <tr>\n",
       "      <th>Without Education</th>\n",
       "      <td>6</td>\n",
       "      <td>5878</td>\n",
       "    </tr>\n",
       "  </tbody>\n",
       "</table>\n",
       "</div>"
      ],
      "text/plain": [
       "Status_Dead             0      1\n",
       "Education                       \n",
       "Former Second Degree   42   9108\n",
       "Fundamental I         104  25234\n",
       "Fundamental II         39  10051\n",
       "Graduated              35   6558\n",
       "Incomplete High         1    436\n",
       "Without Education       6   5878"
      ]
     },
     "execution_count": 223,
     "metadata": {},
     "output_type": "execute_result"
    }
   ],
   "source": [
    "pd.crosstab(train['Education'], train['Status_Dead'])"
   ]
  },
  {
   "cell_type": "code",
   "execution_count": 247,
   "id": "14b177fb",
   "metadata": {},
   "outputs": [
    {
     "data": {
      "text/plain": [
       "<seaborn.axisgrid.FacetGrid at 0x7fb46e53dd60>"
      ]
     },
     "execution_count": 247,
     "metadata": {},
     "output_type": "execute_result"
    },
    {
     "data": {
      "image/png": "[encoded data removed]",
      "text/plain": [
       "<Figure size 953.375x576 with 1 Axes>"
      ]
     },
     "metadata": {
      "needs_background": "light"
     },
     "output_type": "display_data"
    }
   ],
   "source": [
    "sns.displot(x = 'Education', data = train, hue = 'Type_No_Cancer', alpha = 0.5, multiple = 'stack',\n",
    "            height=8, aspect=12/8)"
   ]
  },
  {
   "cell_type": "code",
   "execution_count": 211,
   "id": "856a2452",
   "metadata": {},
   "outputs": [
    {
     "data": {
      "text/plain": [
       "<seaborn.axisgrid.FacetGrid at 0x7fb46e539880>"
      ]
     },
     "execution_count": 211,
     "metadata": {},
     "output_type": "execute_result"
    },
    {
     "data": {
      "image/png": "[encoded data removed]",
      "text/plain": [
       "<Figure size 931.125x576 with 1 Axes>"
      ]
     },
     "metadata": {
      "needs_background": "light"
     },
     "output_type": "display_data"
    }
   ],
   "source": [
    "sns.displot(x = 'Education', data = train, hue = 'Vital_Status', alpha = 0.5, multiple = 'stack',\n",
    "            height=8, aspect=12/8)"
   ]
  },
  {
   "cell_type": "code",
   "execution_count": 245,
   "id": "332756ac",
   "metadata": {},
   "outputs": [
    {
     "data": {
      "text/plain": [
       "<AxesSubplot:title={'center':'Internet Service Type and their Churn Rates'}, xlabel='Legal_Status', ylabel='Status_Dead'>"
      ]
     },
     "execution_count": 245,
     "metadata": {},
     "output_type": "execute_result"
    },
    {
     "data": {
      "image/png": "[encoded data removed]",
      "text/plain": [
       "<Figure size 1080x576 with 1 Axes>"
      ]
     },
     "metadata": {
      "needs_background": "light"
     },
     "output_type": "display_data"
    }
   ],
   "source": [
    "plt.figure(figsize=(15,8))\n",
    "plt.title('Internet Service Type and their Churn Rates')\n",
    "sns.barplot(x = 'Legal_Status', y = 'Status_Dead', data = train)"
   ]
  },
  {
   "cell_type": "code",
   "execution_count": 249,
   "id": "07406e14",
   "metadata": {},
   "outputs": [
    {
     "data": {
      "text/plain": [
       "<AxesSubplot:title={'center':'Legal Status and their cancer rates'}, xlabel='Legal_Status', ylabel='Type_No_Cancer'>"
      ]
     },
     "execution_count": 249,
     "metadata": {},
     "output_type": "execute_result"
    },
    {
     "data": {
      "image/png": "[encoded data removed]",
      "text/plain": [
       "<Figure size 1080x576 with 1 Axes>"
      ]
     },
     "metadata": {
      "needs_background": "light"
     },
     "output_type": "display_data"
    }
   ],
   "source": [
    "plt.figure(figsize=(15,8))\n",
    "plt.title('Legal Status and their cancer rates')\n",
    "sns.barplot(x = 'Legal_Status', y = 'Type_No_Cancer', data = train)"
   ]
  },
  {
   "cell_type": "code",
   "execution_count": 250,
   "id": "c5e03739",
   "metadata": {},
   "outputs": [
    {
     "data": {
      "text/plain": [
       "<AxesSubplot:title={'center':'Legal Status and their cancer rates'}, xlabel='Race_Color', ylabel='Type_No_Cancer'>"
      ]
     },
     "execution_count": 250,
     "metadata": {},
     "output_type": "execute_result"
    },
    {
     "data": {
      "image/png": "[encoded data removed]",
      "text/plain": [
       "<Figure size 1080x576 with 1 Axes>"
      ]
     },
     "metadata": {
      "needs_background": "light"
     },
     "output_type": "display_data"
    }
   ],
   "source": [
    "plt.figure(figsize=(15,8))\n",
    "plt.title('Legal Status and their cancer rates')\n",
    "sns.barplot(x = 'Race_Color', y = 'Type_No_Cancer', data = train)"
   ]
  },
  {
   "cell_type": "code",
   "execution_count": 251,
   "id": "e72be82f",
   "metadata": {},
   "outputs": [
    {
     "data": {
      "text/plain": [
       "<AxesSubplot:title={'center':'Legal Status and their cancer rates'}, xlabel='Race_Color', ylabel='Status_Dead'>"
      ]
     },
     "execution_count": 251,
     "metadata": {},
     "output_type": "execute_result"
    },
    {
     "data": {
      "image/png": "[encoded data removed]",
      "text/plain": [
       "<Figure size 1080x576 with 1 Axes>"
      ]
     },
     "metadata": {
      "needs_background": "light"
     },
     "output_type": "display_data"
    }
   ],
   "source": [
    "plt.figure(figsize=(15,8))\n",
    "plt.title('Legal Status and their cancer rates')\n",
    "sns.barplot(x = 'Race_Color', y = 'Status_Dead', data = train)"
   ]
  },
  {
   "cell_type": "code",
   "execution_count": null,
   "id": "100d89ac",
   "metadata": {},
   "outputs": [],
   "source": []
  }
 ],
 "metadata": {
  "kernelspec": {
   "display_name": "Python 3",
   "language": "python",
   "name": "python3"
  },
  "language_info": {
   "codemirror_mode": {
    "name": "ipython",
    "version": 3
   },
   "file_extension": ".py",
   "mimetype": "text/x-python",
   "name": "python",
   "nbconvert_exporter": "python",
   "pygments_lexer": "ipython3",
   "version": "3.8.8"
  }
 },
 "nbformat": 4,
 "nbformat_minor": 5
}
