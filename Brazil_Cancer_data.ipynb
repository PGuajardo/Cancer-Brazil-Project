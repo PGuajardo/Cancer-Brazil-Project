{
 "cells": [
  {
   "cell_type": "code",
   "execution_count": 44,
   "id": "4bcc3874",
   "metadata": {},
   "outputs": [],
   "source": [
    "import acquire\n",
    "\n",
    "import pandas as pd"
   ]
  },
  {
   "cell_type": "code",
   "execution_count": 138,
   "id": "6ed8addf",
   "metadata": {},
   "outputs": [
    {
     "name": "stderr",
     "output_type": "stream",
     "text": [
      "/usr/local/anaconda3/lib/python3.8/site-packages/IPython/core/interactiveshell.py:3357: DtypeWarning: Columns (3,5,6,7,8,9,10,13,14,23,24,25,27,28,29,30,31,32,33,34,35,36) have mixed types.Specify dtype option on import or set low_memory=False.\n",
      "  if (await self.run_code(code, result,  async_=asy)):\n"
     ]
    },
    {
     "data": {
      "text/html": [
       "<div>\n",
       "<style scoped>\n",
       "    .dataframe tbody tr th:only-of-type {\n",
       "        vertical-align: middle;\n",
       "    }\n",
       "\n",
       "    .dataframe tbody tr th {\n",
       "        vertical-align: top;\n",
       "    }\n",
       "\n",
       "    .dataframe thead th {\n",
       "        text-align: right;\n",
       "    }\n",
       "</style>\n",
       "<table border=\"1\" class=\"dataframe\">\n",
       "  <thead>\n",
       "    <tr style=\"text-align: right;\">\n",
       "      <th></th>\n",
       "      <th>Patient.Code</th>\n",
       "      <th>RCBP.Name</th>\n",
       "      <th>Gender</th>\n",
       "      <th>Date.of.Birth</th>\n",
       "      <th>Age</th>\n",
       "      <th>Raca.Color</th>\n",
       "      <th>Nationality</th>\n",
       "      <th>Naturality.State</th>\n",
       "      <th>Naturality</th>\n",
       "      <th>Degree.of.Education</th>\n",
       "      <th>...</th>\n",
       "      <th>Laterality</th>\n",
       "      <th>Statement</th>\n",
       "      <th>TNM</th>\n",
       "      <th>Status.Vital</th>\n",
       "      <th>Type.of.Death</th>\n",
       "      <th>Date.of.Death</th>\n",
       "      <th>Date.of.Last.Contact</th>\n",
       "      <th>Date.of.Diagnostic</th>\n",
       "      <th>Distant.metastasis</th>\n",
       "      <th>year</th>\n",
       "    </tr>\n",
       "  </thead>\n",
       "  <tbody>\n",
       "    <tr>\n",
       "      <th>0</th>\n",
       "      <td>672054.0</td>\n",
       "      <td>RCBP CAMPINAS-UNICAMP</td>\n",
       "      <td>MASCULINO</td>\n",
       "      <td>1975-03-16</td>\n",
       "      <td>30.0</td>\n",
       "      <td>BRANCO</td>\n",
       "      <td>BRASIL</td>\n",
       "      <td>S�O PAULO</td>\n",
       "      <td>NaN</td>\n",
       "      <td>NaN</td>\n",
       "      <td>...</td>\n",
       "      <td>NaN</td>\n",
       "      <td>NaN</td>\n",
       "      <td>NaN</td>\n",
       "      <td>MORTO</td>\n",
       "      <td>C�NCER</td>\n",
       "      <td>2005-10-07</td>\n",
       "      <td>2005-10-07</td>\n",
       "      <td>2005-10-07</td>\n",
       "      <td>NaN</td>\n",
       "      <td>2005.0</td>\n",
       "    </tr>\n",
       "    <tr>\n",
       "      <th>1</th>\n",
       "      <td>673213.0</td>\n",
       "      <td>RCBP CAMPINAS-UNICAMP</td>\n",
       "      <td>FEMININO</td>\n",
       "      <td>1950-05-24</td>\n",
       "      <td>53.0</td>\n",
       "      <td>NaN</td>\n",
       "      <td>NaN</td>\n",
       "      <td>NaN</td>\n",
       "      <td>NaN</td>\n",
       "      <td>NaN</td>\n",
       "      <td>...</td>\n",
       "      <td>NaN</td>\n",
       "      <td>NaN</td>\n",
       "      <td>NaN</td>\n",
       "      <td>MORTO</td>\n",
       "      <td>NaN</td>\n",
       "      <td>2007-01-30</td>\n",
       "      <td>2007-01-30</td>\n",
       "      <td>2003-07-18</td>\n",
       "      <td>NaN</td>\n",
       "      <td>2003.0</td>\n",
       "    </tr>\n",
       "    <tr>\n",
       "      <th>2</th>\n",
       "      <td>673396.0</td>\n",
       "      <td>RCBP CAMPINAS-UNICAMP</td>\n",
       "      <td>FEMININO</td>\n",
       "      <td>1951-09-02</td>\n",
       "      <td>51.0</td>\n",
       "      <td>PARDA</td>\n",
       "      <td>BRASIL</td>\n",
       "      <td>S�O PAULO</td>\n",
       "      <td>NaN</td>\n",
       "      <td>NaN</td>\n",
       "      <td>...</td>\n",
       "      <td>NaN</td>\n",
       "      <td>NaN</td>\n",
       "      <td>NaN</td>\n",
       "      <td>MORTO</td>\n",
       "      <td>C�NCER</td>\n",
       "      <td>2005-07-03</td>\n",
       "      <td>2005-07-03</td>\n",
       "      <td>2003-05-16</td>\n",
       "      <td>NaN</td>\n",
       "      <td>2003.0</td>\n",
       "    </tr>\n",
       "    <tr>\n",
       "      <th>3</th>\n",
       "      <td>673425.0</td>\n",
       "      <td>RCBP CAMPINAS-UNICAMP</td>\n",
       "      <td>FEMININO</td>\n",
       "      <td>1929-11-21</td>\n",
       "      <td>73.0</td>\n",
       "      <td>NaN</td>\n",
       "      <td>NaN</td>\n",
       "      <td>NaN</td>\n",
       "      <td>NaN</td>\n",
       "      <td>NaN</td>\n",
       "      <td>...</td>\n",
       "      <td>NaN</td>\n",
       "      <td>NaN</td>\n",
       "      <td>NaN</td>\n",
       "      <td>VIVO</td>\n",
       "      <td>NaN</td>\n",
       "      <td>NaN</td>\n",
       "      <td>2010-07-28</td>\n",
       "      <td>2003-04-01</td>\n",
       "      <td>NaN</td>\n",
       "      <td>2003.0</td>\n",
       "    </tr>\n",
       "    <tr>\n",
       "      <th>4</th>\n",
       "      <td>673745.0</td>\n",
       "      <td>RCBP CAMPINAS-UNICAMP</td>\n",
       "      <td>MASCULINO</td>\n",
       "      <td>1934-07-03</td>\n",
       "      <td>71.0</td>\n",
       "      <td>BRANCO</td>\n",
       "      <td>BRASIL</td>\n",
       "      <td>S�O PAULO</td>\n",
       "      <td>NaN</td>\n",
       "      <td>NaN</td>\n",
       "      <td>...</td>\n",
       "      <td>NaN</td>\n",
       "      <td>NaN</td>\n",
       "      <td>NaN</td>\n",
       "      <td>MORTO</td>\n",
       "      <td>C�NCER</td>\n",
       "      <td>2005-10-21</td>\n",
       "      <td>2005-10-21</td>\n",
       "      <td>2005-10-21</td>\n",
       "      <td>NaN</td>\n",
       "      <td>2005.0</td>\n",
       "    </tr>\n",
       "  </tbody>\n",
       "</table>\n",
       "<p>5 rows × 38 columns</p>\n",
       "</div>"
      ],
      "text/plain": [
       "   Patient.Code              RCBP.Name     Gender Date.of.Birth   Age  \\\n",
       "0      672054.0  RCBP CAMPINAS-UNICAMP  MASCULINO    1975-03-16  30.0   \n",
       "1      673213.0  RCBP CAMPINAS-UNICAMP   FEMININO    1950-05-24  53.0   \n",
       "2      673396.0  RCBP CAMPINAS-UNICAMP   FEMININO    1951-09-02  51.0   \n",
       "3      673425.0  RCBP CAMPINAS-UNICAMP   FEMININO    1929-11-21  73.0   \n",
       "4      673745.0  RCBP CAMPINAS-UNICAMP  MASCULINO    1934-07-03  71.0   \n",
       "\n",
       "  Raca.Color Nationality Naturality.State Naturality Degree.of.Education  ...  \\\n",
       "0     BRANCO      BRASIL        S�O PAULO        NaN                 NaN  ...   \n",
       "1        NaN         NaN              NaN        NaN                 NaN  ...   \n",
       "2      PARDA      BRASIL        S�O PAULO        NaN                 NaN  ...   \n",
       "3        NaN         NaN              NaN        NaN                 NaN  ...   \n",
       "4     BRANCO      BRASIL        S�O PAULO        NaN                 NaN  ...   \n",
       "\n",
       "  Laterality  Statement  TNM Status.Vital Type.of.Death Date.of.Death  \\\n",
       "0        NaN        NaN  NaN        MORTO        C�NCER    2005-10-07   \n",
       "1        NaN        NaN  NaN        MORTO           NaN    2007-01-30   \n",
       "2        NaN        NaN  NaN        MORTO        C�NCER    2005-07-03   \n",
       "3        NaN        NaN  NaN         VIVO           NaN           NaN   \n",
       "4        NaN        NaN  NaN        MORTO        C�NCER    2005-10-21   \n",
       "\n",
       "  Date.of.Last.Contact Date.of.Diagnostic  Distant.metastasis    year  \n",
       "0           2005-10-07         2005-10-07                 NaN  2005.0  \n",
       "1           2007-01-30         2003-07-18                 NaN  2003.0  \n",
       "2           2005-07-03         2003-05-16                 NaN  2003.0  \n",
       "3           2010-07-28         2003-04-01                 NaN  2003.0  \n",
       "4           2005-10-21         2005-10-21                 NaN  2005.0  \n",
       "\n",
       "[5 rows x 38 columns]"
      ]
     },
     "execution_count": 138,
     "metadata": {},
     "output_type": "execute_result"
    }
   ],
   "source": [
    "df = acquire.get_brazil_data()\n",
    "df.head()"
   ]
  },
  {
   "cell_type": "code",
   "execution_count": 3,
   "id": "bb85e4c6",
   "metadata": {},
   "outputs": [
    {
     "data": {
      "text/plain": [
       "(1778176, 38)"
      ]
     },
     "execution_count": 3,
     "metadata": {},
     "output_type": "execute_result"
    }
   ],
   "source": [
    "df.shape"
   ]
  },
  {
   "cell_type": "code",
   "execution_count": 4,
   "id": "7c9e2d48",
   "metadata": {},
   "outputs": [
    {
     "name": "stdout",
     "output_type": "stream",
     "text": [
      "<class 'pandas.core.frame.DataFrame'>\n",
      "RangeIndex: 1778176 entries, 0 to 1778175\n",
      "Data columns (total 38 columns):\n",
      " #   Column                           Dtype  \n",
      "---  ------                           -----  \n",
      " 0   Patient.Code                     float64\n",
      " 1   RCBP.Name                        object \n",
      " 2   Gender                           object \n",
      " 3   Date.of.Birth                    object \n",
      " 4   Age                              float64\n",
      " 5   Raca.Color                       object \n",
      " 6   Nationality                      object \n",
      " 7   Naturality.State                 object \n",
      " 8   Naturality                       object \n",
      " 9   Degree.of.Education              object \n",
      " 10  State.Civil                      object \n",
      " 11  Code.Profession                  float64\n",
      " 12  Name.Occupation                  object \n",
      " 13  Status.Address                   object \n",
      " 14  City.Address                     object \n",
      " 15  Description.of.Topography        object \n",
      " 16  Topography.Code                  object \n",
      " 17  Morphology.Description           object \n",
      " 18  Code.of.Morphology               int64  \n",
      " 19  Description.of.Disease           object \n",
      " 20  Illness.Code                     object \n",
      " 21  Child.Illness.Description        object \n",
      " 22  Child.Illness.Code               object \n",
      " 23  Youth.Adult.Illness.Description  object \n",
      " 24  Code.of.Disease.Adult.Young.     object \n",
      " 25  Indicator.of.Rare.Case           object \n",
      " 26  Diagnostic.means                 object \n",
      " 27  Extension                        object \n",
      " 28  Laterality                       object \n",
      " 29  Statement                        object \n",
      " 30  TNM                              object \n",
      " 31  Status.Vital                     object \n",
      " 32  Type.of.Death                    object \n",
      " 33  Date.of.Death                    object \n",
      " 34  Date.of.Last.Contact             object \n",
      " 35  Date.of.Diagnostic               object \n",
      " 36  Distant.metastasis               object \n",
      " 37  year                             float64\n",
      "dtypes: float64(4), int64(1), object(33)\n",
      "memory usage: 515.5+ MB\n"
     ]
    }
   ],
   "source": [
    "df.info()"
   ]
  },
  {
   "cell_type": "code",
   "execution_count": 7,
   "id": "aef7ca6b",
   "metadata": {},
   "outputs": [
    {
     "data": {
      "text/plain": [
       "MORTO    123862\n",
       "VIVO      85896\n",
       "Name: Status.Vital, dtype: int64"
      ]
     },
     "execution_count": 7,
     "metadata": {},
     "output_type": "execute_result"
    }
   ],
   "source": [
    "df['Status.Vital'].value_counts()"
   ]
  },
  {
   "cell_type": "code",
   "execution_count": 8,
   "id": "4c261584",
   "metadata": {},
   "outputs": [
    {
     "data": {
      "text/plain": [
       "C�NCER        375903\n",
       "N�O C�NCER     23376\n",
       "Name: Type.of.Death, dtype: int64"
      ]
     },
     "execution_count": 8,
     "metadata": {},
     "output_type": "execute_result"
    }
   ],
   "source": [
    "df['Type.of.Death'].value_counts()"
   ]
  },
  {
   "cell_type": "code",
   "execution_count": 11,
   "id": "95d45506",
   "metadata": {},
   "outputs": [
    {
     "data": {
      "text/plain": [
       "BRASIL           811183\n",
       "PORTUGAL            749\n",
       "ITALIA              451\n",
       "JAPAO               448\n",
       "ESPANHA             266\n",
       "                  ...  \n",
       "BAREIN                1\n",
       "AFEGANISTAO           1\n",
       "SUDAO                 1\n",
       "ILHAS NORFOLK         1\n",
       "ANTIGUA               1\n",
       "Name: Nationality, Length: 113, dtype: int64"
      ]
     },
     "execution_count": 11,
     "metadata": {},
     "output_type": "execute_result"
    }
   ],
   "source": [
    "df.Nationality.value_counts()"
   ]
  },
  {
   "cell_type": "code",
   "execution_count": 14,
   "id": "ef590934",
   "metadata": {},
   "outputs": [
    {
     "data": {
      "text/plain": [
       "Patient.Code                         74429\n",
       "RCBP.Name                                0\n",
       "Gender                                   0\n",
       "Date.of.Birth                       768445\n",
       "Age                                  79972\n",
       "Raca.Color                          785048\n",
       "Nationality                         962996\n",
       "Naturality.State                   1326620\n",
       "Naturality                         1591764\n",
       "Degree.of.Education                1372348\n",
       "State.Civil                        1179041\n",
       "Code.Profession                     140150\n",
       "Name.Occupation                     140150\n",
       "Status.Address                       64197\n",
       "City.Address                         63842\n",
       "Description.of.Topography                0\n",
       "Topography.Code                          0\n",
       "Morphology.Description                   0\n",
       "Code.of.Morphology                       0\n",
       "Description.of.Disease                   0\n",
       "Illness.Code                             0\n",
       "Child.Illness.Description          1079470\n",
       "Child.Illness.Code                 1079470\n",
       "Youth.Adult.Illness.Description    1098116\n",
       "Code.of.Disease.Adult.Young.       1098116\n",
       "Indicator.of.Rare.Case              731311\n",
       "Diagnostic.means                     30326\n",
       "Extension                          1227546\n",
       "Laterality                         1580348\n",
       "Statement                          1713701\n",
       "TNM                                1715988\n",
       "Status.Vital                       1568418\n",
       "Type.of.Death                      1378897\n",
       "Date.of.Death                      1151656\n",
       "Date.of.Last.Contact               1335704\n",
       "Date.of.Diagnostic                   63842\n",
       "Distant.metastasis                 1760809\n",
       "year                                 63842\n",
       "dtype: int64"
      ]
     },
     "execution_count": 14,
     "metadata": {},
     "output_type": "execute_result"
    }
   ],
   "source": [
    "df.isna().sum()"
   ]
  },
  {
   "cell_type": "code",
   "execution_count": 15,
   "id": "fddcb6d6",
   "metadata": {},
   "outputs": [
    {
     "data": {
      "text/plain": [
       "0          C�NCER\n",
       "1             NaN\n",
       "2          C�NCER\n",
       "3             NaN\n",
       "4          C�NCER\n",
       "            ...  \n",
       "1778171       NaN\n",
       "1778172       NaN\n",
       "1778173       NaN\n",
       "1778174       NaN\n",
       "1778175       NaN\n",
       "Name: Type.of.Death, Length: 1778176, dtype: object"
      ]
     },
     "execution_count": 15,
     "metadata": {},
     "output_type": "execute_result"
    }
   ],
   "source": [
    "df['Type.of.Death']"
   ]
  },
  {
   "cell_type": "code",
   "execution_count": 19,
   "id": "52c542d2",
   "metadata": {},
   "outputs": [
    {
     "data": {
      "text/plain": [
       "1568418"
      ]
     },
     "execution_count": 19,
     "metadata": {},
     "output_type": "execute_result"
    }
   ],
   "source": [
    "df['Status.Vital'].isna().sum()"
   ]
  },
  {
   "cell_type": "code",
   "execution_count": 17,
   "id": "0130d1ef",
   "metadata": {},
   "outputs": [],
   "source": [
    "# Explain a lot of the data is missing, for cancer and death (thats why I have to drop about 80% of the data)"
   ]
  },
  {
   "cell_type": "code",
   "execution_count": 20,
   "id": "2b7d882c",
   "metadata": {},
   "outputs": [],
   "source": [
    "df_cancer = df.copy()"
   ]
  },
  {
   "cell_type": "markdown",
   "id": "fbe4a6ab",
   "metadata": {},
   "source": [
    "## I'll use this for just looking for cancer or no cancer "
   ]
  },
  {
   "cell_type": "code",
   "execution_count": 39,
   "id": "49a5843c",
   "metadata": {},
   "outputs": [],
   "source": [
    "df_cancer = df_cancer[df_cancer['Type.of.Death'].notna()]"
   ]
  },
  {
   "cell_type": "code",
   "execution_count": 21,
   "id": "bd3012b3",
   "metadata": {},
   "outputs": [
    {
     "data": {
      "text/plain": [
       "(1778176, 38)"
      ]
     },
     "execution_count": 21,
     "metadata": {},
     "output_type": "execute_result"
    }
   ],
   "source": [
    "df_cancer.shape"
   ]
  },
  {
   "cell_type": "code",
   "execution_count": 22,
   "id": "0e8d6be6",
   "metadata": {},
   "outputs": [
    {
     "data": {
      "text/html": [
       "<div>\n",
       "<style scoped>\n",
       "    .dataframe tbody tr th:only-of-type {\n",
       "        vertical-align: middle;\n",
       "    }\n",
       "\n",
       "    .dataframe tbody tr th {\n",
       "        vertical-align: top;\n",
       "    }\n",
       "\n",
       "    .dataframe thead th {\n",
       "        text-align: right;\n",
       "    }\n",
       "</style>\n",
       "<table border=\"1\" class=\"dataframe\">\n",
       "  <thead>\n",
       "    <tr style=\"text-align: right;\">\n",
       "      <th></th>\n",
       "      <th>Patient.Code</th>\n",
       "      <th>RCBP.Name</th>\n",
       "      <th>Gender</th>\n",
       "      <th>Date.of.Birth</th>\n",
       "      <th>Age</th>\n",
       "      <th>Raca.Color</th>\n",
       "      <th>Nationality</th>\n",
       "      <th>Naturality.State</th>\n",
       "      <th>Naturality</th>\n",
       "      <th>Degree.of.Education</th>\n",
       "      <th>...</th>\n",
       "      <th>Laterality</th>\n",
       "      <th>Statement</th>\n",
       "      <th>TNM</th>\n",
       "      <th>Status.Vital</th>\n",
       "      <th>Type.of.Death</th>\n",
       "      <th>Date.of.Death</th>\n",
       "      <th>Date.of.Last.Contact</th>\n",
       "      <th>Date.of.Diagnostic</th>\n",
       "      <th>Distant.metastasis</th>\n",
       "      <th>year</th>\n",
       "    </tr>\n",
       "  </thead>\n",
       "  <tbody>\n",
       "    <tr>\n",
       "      <th>0</th>\n",
       "      <td>672054.0</td>\n",
       "      <td>RCBP CAMPINAS-UNICAMP</td>\n",
       "      <td>MASCULINO</td>\n",
       "      <td>1975-03-16</td>\n",
       "      <td>30.0</td>\n",
       "      <td>BRANCO</td>\n",
       "      <td>BRASIL</td>\n",
       "      <td>S�O PAULO</td>\n",
       "      <td>NaN</td>\n",
       "      <td>NaN</td>\n",
       "      <td>...</td>\n",
       "      <td>NaN</td>\n",
       "      <td>NaN</td>\n",
       "      <td>NaN</td>\n",
       "      <td>MORTO</td>\n",
       "      <td>C�NCER</td>\n",
       "      <td>2005-10-07</td>\n",
       "      <td>2005-10-07</td>\n",
       "      <td>2005-10-07</td>\n",
       "      <td>NaN</td>\n",
       "      <td>2005.0</td>\n",
       "    </tr>\n",
       "    <tr>\n",
       "      <th>1</th>\n",
       "      <td>673213.0</td>\n",
       "      <td>RCBP CAMPINAS-UNICAMP</td>\n",
       "      <td>FEMININO</td>\n",
       "      <td>1950-05-24</td>\n",
       "      <td>53.0</td>\n",
       "      <td>NaN</td>\n",
       "      <td>NaN</td>\n",
       "      <td>NaN</td>\n",
       "      <td>NaN</td>\n",
       "      <td>NaN</td>\n",
       "      <td>...</td>\n",
       "      <td>NaN</td>\n",
       "      <td>NaN</td>\n",
       "      <td>NaN</td>\n",
       "      <td>MORTO</td>\n",
       "      <td>NaN</td>\n",
       "      <td>2007-01-30</td>\n",
       "      <td>2007-01-30</td>\n",
       "      <td>2003-07-18</td>\n",
       "      <td>NaN</td>\n",
       "      <td>2003.0</td>\n",
       "    </tr>\n",
       "    <tr>\n",
       "      <th>2</th>\n",
       "      <td>673396.0</td>\n",
       "      <td>RCBP CAMPINAS-UNICAMP</td>\n",
       "      <td>FEMININO</td>\n",
       "      <td>1951-09-02</td>\n",
       "      <td>51.0</td>\n",
       "      <td>PARDA</td>\n",
       "      <td>BRASIL</td>\n",
       "      <td>S�O PAULO</td>\n",
       "      <td>NaN</td>\n",
       "      <td>NaN</td>\n",
       "      <td>...</td>\n",
       "      <td>NaN</td>\n",
       "      <td>NaN</td>\n",
       "      <td>NaN</td>\n",
       "      <td>MORTO</td>\n",
       "      <td>C�NCER</td>\n",
       "      <td>2005-07-03</td>\n",
       "      <td>2005-07-03</td>\n",
       "      <td>2003-05-16</td>\n",
       "      <td>NaN</td>\n",
       "      <td>2003.0</td>\n",
       "    </tr>\n",
       "    <tr>\n",
       "      <th>3</th>\n",
       "      <td>673425.0</td>\n",
       "      <td>RCBP CAMPINAS-UNICAMP</td>\n",
       "      <td>FEMININO</td>\n",
       "      <td>1929-11-21</td>\n",
       "      <td>73.0</td>\n",
       "      <td>NaN</td>\n",
       "      <td>NaN</td>\n",
       "      <td>NaN</td>\n",
       "      <td>NaN</td>\n",
       "      <td>NaN</td>\n",
       "      <td>...</td>\n",
       "      <td>NaN</td>\n",
       "      <td>NaN</td>\n",
       "      <td>NaN</td>\n",
       "      <td>VIVO</td>\n",
       "      <td>NaN</td>\n",
       "      <td>NaN</td>\n",
       "      <td>2010-07-28</td>\n",
       "      <td>2003-04-01</td>\n",
       "      <td>NaN</td>\n",
       "      <td>2003.0</td>\n",
       "    </tr>\n",
       "    <tr>\n",
       "      <th>4</th>\n",
       "      <td>673745.0</td>\n",
       "      <td>RCBP CAMPINAS-UNICAMP</td>\n",
       "      <td>MASCULINO</td>\n",
       "      <td>1934-07-03</td>\n",
       "      <td>71.0</td>\n",
       "      <td>BRANCO</td>\n",
       "      <td>BRASIL</td>\n",
       "      <td>S�O PAULO</td>\n",
       "      <td>NaN</td>\n",
       "      <td>NaN</td>\n",
       "      <td>...</td>\n",
       "      <td>NaN</td>\n",
       "      <td>NaN</td>\n",
       "      <td>NaN</td>\n",
       "      <td>MORTO</td>\n",
       "      <td>C�NCER</td>\n",
       "      <td>2005-10-21</td>\n",
       "      <td>2005-10-21</td>\n",
       "      <td>2005-10-21</td>\n",
       "      <td>NaN</td>\n",
       "      <td>2005.0</td>\n",
       "    </tr>\n",
       "  </tbody>\n",
       "</table>\n",
       "<p>5 rows × 38 columns</p>\n",
       "</div>"
      ],
      "text/plain": [
       "   Patient.Code              RCBP.Name     Gender Date.of.Birth   Age  \\\n",
       "0      672054.0  RCBP CAMPINAS-UNICAMP  MASCULINO    1975-03-16  30.0   \n",
       "1      673213.0  RCBP CAMPINAS-UNICAMP   FEMININO    1950-05-24  53.0   \n",
       "2      673396.0  RCBP CAMPINAS-UNICAMP   FEMININO    1951-09-02  51.0   \n",
       "3      673425.0  RCBP CAMPINAS-UNICAMP   FEMININO    1929-11-21  73.0   \n",
       "4      673745.0  RCBP CAMPINAS-UNICAMP  MASCULINO    1934-07-03  71.0   \n",
       "\n",
       "  Raca.Color Nationality Naturality.State Naturality Degree.of.Education  ...  \\\n",
       "0     BRANCO      BRASIL        S�O PAULO        NaN                 NaN  ...   \n",
       "1        NaN         NaN              NaN        NaN                 NaN  ...   \n",
       "2      PARDA      BRASIL        S�O PAULO        NaN                 NaN  ...   \n",
       "3        NaN         NaN              NaN        NaN                 NaN  ...   \n",
       "4     BRANCO      BRASIL        S�O PAULO        NaN                 NaN  ...   \n",
       "\n",
       "  Laterality  Statement  TNM Status.Vital Type.of.Death Date.of.Death  \\\n",
       "0        NaN        NaN  NaN        MORTO        C�NCER    2005-10-07   \n",
       "1        NaN        NaN  NaN        MORTO           NaN    2007-01-30   \n",
       "2        NaN        NaN  NaN        MORTO        C�NCER    2005-07-03   \n",
       "3        NaN        NaN  NaN         VIVO           NaN           NaN   \n",
       "4        NaN        NaN  NaN        MORTO        C�NCER    2005-10-21   \n",
       "\n",
       "  Date.of.Last.Contact Date.of.Diagnostic  Distant.metastasis    year  \n",
       "0           2005-10-07         2005-10-07                 NaN  2005.0  \n",
       "1           2007-01-30         2003-07-18                 NaN  2003.0  \n",
       "2           2005-07-03         2003-05-16                 NaN  2003.0  \n",
       "3           2010-07-28         2003-04-01                 NaN  2003.0  \n",
       "4           2005-10-21         2005-10-21                 NaN  2005.0  \n",
       "\n",
       "[5 rows x 38 columns]"
      ]
     },
     "execution_count": 22,
     "metadata": {},
     "output_type": "execute_result"
    }
   ],
   "source": [
    "df_cancer.head()"
   ]
  },
  {
   "cell_type": "code",
   "execution_count": 24,
   "id": "1b606e33",
   "metadata": {},
   "outputs": [
    {
     "data": {
      "text/plain": [
       "C�NCER        375903\n",
       "N�O C�NCER     23376\n",
       "Name: Type.of.Death, dtype: int64"
      ]
     },
     "execution_count": 24,
     "metadata": {},
     "output_type": "execute_result"
    }
   ],
   "source": [
    "df_cancer['Type.of.Death'].value_counts()"
   ]
  },
  {
   "cell_type": "markdown",
   "id": "f94ed45c",
   "metadata": {},
   "source": [
    "## Will use this df first for life / death"
   ]
  },
  {
   "cell_type": "code",
   "execution_count": 139,
   "id": "515a879f",
   "metadata": {},
   "outputs": [],
   "source": [
    "df = df[df['Status.Vital'].notna()]"
   ]
  },
  {
   "cell_type": "code",
   "execution_count": 140,
   "id": "8b91872d",
   "metadata": {},
   "outputs": [
    {
     "data": {
      "text/plain": [
       "(209758, 38)"
      ]
     },
     "execution_count": 140,
     "metadata": {},
     "output_type": "execute_result"
    }
   ],
   "source": [
    "df.shape"
   ]
  },
  {
   "cell_type": "code",
   "execution_count": 141,
   "id": "1017bc4e",
   "metadata": {},
   "outputs": [],
   "source": [
    "df = df.drop(columns=['Child.Illness.Description', 'Child.Illness.Code', 'Description.of.Disease',\n",
    "                'Illness.Code', 'Youth.Adult.Illness.Description', 'Code.of.Disease.Adult.Young.',\n",
    "                'Indicator.of.Rare.Case', 'Patient.Code' , 'RCBP.Name', 'Date.of.Birth',\n",
    "                'TNM', 'Extension', 'Statement', 'Topography.Code', 'Morphology.Description',\n",
    "                'Code.of.Morphology', 'Description.of.Disease', 'Illness.Code', 'Description.of.Topography',\n",
    "                     'Date.of.Last.Contact', 'Date.of.Diagnostic', 'Distant.metastasis', 'Code.Profession',\n",
    "                     'Name.Occupation','Laterality', 'Date.of.Death'])"
   ]
  },
  {
   "cell_type": "code",
   "execution_count": 142,
   "id": "d1de461c",
   "metadata": {},
   "outputs": [
    {
     "data": {
      "text/html": [
       "<div>\n",
       "<style scoped>\n",
       "    .dataframe tbody tr th:only-of-type {\n",
       "        vertical-align: middle;\n",
       "    }\n",
       "\n",
       "    .dataframe tbody tr th {\n",
       "        vertical-align: top;\n",
       "    }\n",
       "\n",
       "    .dataframe thead th {\n",
       "        text-align: right;\n",
       "    }\n",
       "</style>\n",
       "<table border=\"1\" class=\"dataframe\">\n",
       "  <thead>\n",
       "    <tr style=\"text-align: right;\">\n",
       "      <th></th>\n",
       "      <th>Gender</th>\n",
       "      <th>Age</th>\n",
       "      <th>Raca.Color</th>\n",
       "      <th>Nationality</th>\n",
       "      <th>Naturality.State</th>\n",
       "      <th>Naturality</th>\n",
       "      <th>Degree.of.Education</th>\n",
       "      <th>State.Civil</th>\n",
       "      <th>Status.Address</th>\n",
       "      <th>City.Address</th>\n",
       "      <th>Diagnostic.means</th>\n",
       "      <th>Status.Vital</th>\n",
       "      <th>Type.of.Death</th>\n",
       "      <th>year</th>\n",
       "    </tr>\n",
       "  </thead>\n",
       "  <tbody>\n",
       "    <tr>\n",
       "      <th>0</th>\n",
       "      <td>MASCULINO</td>\n",
       "      <td>30.0</td>\n",
       "      <td>BRANCO</td>\n",
       "      <td>BRASIL</td>\n",
       "      <td>S�O PAULO</td>\n",
       "      <td>NaN</td>\n",
       "      <td>NaN</td>\n",
       "      <td>CASADO</td>\n",
       "      <td>S�O PAULO</td>\n",
       "      <td>CAMPINAS</td>\n",
       "      <td>SDO</td>\n",
       "      <td>MORTO</td>\n",
       "      <td>C�NCER</td>\n",
       "      <td>2005.0</td>\n",
       "    </tr>\n",
       "    <tr>\n",
       "      <th>1</th>\n",
       "      <td>FEMININO</td>\n",
       "      <td>53.0</td>\n",
       "      <td>NaN</td>\n",
       "      <td>NaN</td>\n",
       "      <td>NaN</td>\n",
       "      <td>NaN</td>\n",
       "      <td>NaN</td>\n",
       "      <td>NaN</td>\n",
       "      <td>S�O PAULO</td>\n",
       "      <td>CAMPINAS</td>\n",
       "      <td>HISTOLOGIA DO TUMOR PRIM�RIO</td>\n",
       "      <td>MORTO</td>\n",
       "      <td>NaN</td>\n",
       "      <td>2003.0</td>\n",
       "    </tr>\n",
       "    <tr>\n",
       "      <th>2</th>\n",
       "      <td>FEMININO</td>\n",
       "      <td>51.0</td>\n",
       "      <td>PARDA</td>\n",
       "      <td>BRASIL</td>\n",
       "      <td>S�O PAULO</td>\n",
       "      <td>NaN</td>\n",
       "      <td>NaN</td>\n",
       "      <td>SOLTEIRO</td>\n",
       "      <td>S�O PAULO</td>\n",
       "      <td>CAMPINAS</td>\n",
       "      <td>HISTOLOGIA DO TUMOR PRIM�RIO</td>\n",
       "      <td>MORTO</td>\n",
       "      <td>C�NCER</td>\n",
       "      <td>2003.0</td>\n",
       "    </tr>\n",
       "    <tr>\n",
       "      <th>3</th>\n",
       "      <td>FEMININO</td>\n",
       "      <td>73.0</td>\n",
       "      <td>NaN</td>\n",
       "      <td>NaN</td>\n",
       "      <td>NaN</td>\n",
       "      <td>NaN</td>\n",
       "      <td>NaN</td>\n",
       "      <td>NaN</td>\n",
       "      <td>S�O PAULO</td>\n",
       "      <td>CAMPINAS</td>\n",
       "      <td>HISTOLOGIA DO TUMOR PRIM�RIO</td>\n",
       "      <td>VIVO</td>\n",
       "      <td>NaN</td>\n",
       "      <td>2003.0</td>\n",
       "    </tr>\n",
       "    <tr>\n",
       "      <th>4</th>\n",
       "      <td>MASCULINO</td>\n",
       "      <td>71.0</td>\n",
       "      <td>BRANCO</td>\n",
       "      <td>BRASIL</td>\n",
       "      <td>S�O PAULO</td>\n",
       "      <td>NaN</td>\n",
       "      <td>NaN</td>\n",
       "      <td>SOLTEIRO</td>\n",
       "      <td>S�O PAULO</td>\n",
       "      <td>CAMPINAS</td>\n",
       "      <td>SDO</td>\n",
       "      <td>MORTO</td>\n",
       "      <td>C�NCER</td>\n",
       "      <td>2005.0</td>\n",
       "    </tr>\n",
       "  </tbody>\n",
       "</table>\n",
       "</div>"
      ],
      "text/plain": [
       "      Gender   Age Raca.Color Nationality Naturality.State Naturality  \\\n",
       "0  MASCULINO  30.0     BRANCO      BRASIL        S�O PAULO        NaN   \n",
       "1   FEMININO  53.0        NaN         NaN              NaN        NaN   \n",
       "2   FEMININO  51.0      PARDA      BRASIL        S�O PAULO        NaN   \n",
       "3   FEMININO  73.0        NaN         NaN              NaN        NaN   \n",
       "4  MASCULINO  71.0     BRANCO      BRASIL        S�O PAULO        NaN   \n",
       "\n",
       "  Degree.of.Education State.Civil Status.Address City.Address  \\\n",
       "0                 NaN      CASADO      S�O PAULO     CAMPINAS   \n",
       "1                 NaN         NaN      S�O PAULO     CAMPINAS   \n",
       "2                 NaN    SOLTEIRO      S�O PAULO     CAMPINAS   \n",
       "3                 NaN         NaN      S�O PAULO     CAMPINAS   \n",
       "4                 NaN    SOLTEIRO      S�O PAULO     CAMPINAS   \n",
       "\n",
       "               Diagnostic.means Status.Vital Type.of.Death    year  \n",
       "0                           SDO        MORTO        C�NCER  2005.0  \n",
       "1  HISTOLOGIA DO TUMOR PRIM�RIO        MORTO           NaN  2003.0  \n",
       "2  HISTOLOGIA DO TUMOR PRIM�RIO        MORTO        C�NCER  2003.0  \n",
       "3  HISTOLOGIA DO TUMOR PRIM�RIO         VIVO           NaN  2003.0  \n",
       "4                           SDO        MORTO        C�NCER  2005.0  "
      ]
     },
     "execution_count": 142,
     "metadata": {},
     "output_type": "execute_result"
    }
   ],
   "source": [
    "df.head()"
   ]
  },
  {
   "cell_type": "code",
   "execution_count": 143,
   "id": "831b1b5d",
   "metadata": {},
   "outputs": [
    {
     "name": "stdout",
     "output_type": "stream",
     "text": [
      "<class 'pandas.core.frame.DataFrame'>\n",
      "Int64Index: 209758 entries, 0 to 1759896\n",
      "Data columns (total 14 columns):\n",
      " #   Column               Non-Null Count   Dtype  \n",
      "---  ------               --------------   -----  \n",
      " 0   Gender               209758 non-null  object \n",
      " 1   Age                  209443 non-null  float64\n",
      " 2   Raca.Color           177827 non-null  object \n",
      " 3   Nationality          203393 non-null  object \n",
      " 4   Naturality.State     86722 non-null   object \n",
      " 5   Naturality           42211 non-null   object \n",
      " 6   Degree.of.Education  140833 non-null  object \n",
      " 7   State.Civil          153185 non-null  object \n",
      " 8   Status.Address       209757 non-null  object \n",
      " 9   City.Address         209758 non-null  object \n",
      " 10  Diagnostic.means     208974 non-null  object \n",
      " 11  Status.Vital         209758 non-null  object \n",
      " 12  Type.of.Death        120445 non-null  object \n",
      " 13  year                 209758 non-null  float64\n",
      "dtypes: float64(2), object(12)\n",
      "memory usage: 24.0+ MB\n"
     ]
    }
   ],
   "source": [
    "df.info()"
   ]
  },
  {
   "cell_type": "code",
   "execution_count": 144,
   "id": "c4733245",
   "metadata": {},
   "outputs": [
    {
     "data": {
      "text/plain": [
       "Gender                      0\n",
       "Age                       315\n",
       "Raca.Color              31931\n",
       "Nationality              6365\n",
       "Naturality.State       123036\n",
       "Naturality             167547\n",
       "Degree.of.Education     68925\n",
       "State.Civil             56573\n",
       "Status.Address              1\n",
       "City.Address                0\n",
       "Diagnostic.means          784\n",
       "Status.Vital                0\n",
       "Type.of.Death           89313\n",
       "year                        0\n",
       "dtype: int64"
      ]
     },
     "execution_count": 144,
     "metadata": {},
     "output_type": "execute_result"
    }
   ],
   "source": [
    "df.isna().sum()"
   ]
  },
  {
   "cell_type": "code",
   "execution_count": 145,
   "id": "ae802d66",
   "metadata": {},
   "outputs": [
    {
     "data": {
      "text/plain": [
       "JA�                         4608\n",
       "BARRETOS                    2797\n",
       "CURITIBA                    2011\n",
       "PO�OS DE CALDAS             1440\n",
       "ARACAJU                     1333\n",
       "                            ... \n",
       "ITAPEMA                        1\n",
       "BAIAN�POLIS                    1\n",
       "CAPIT�O LE�NIDAS MARQUES       1\n",
       "S�O JOS� DO RIO CLARO          1\n",
       "UBA�RA                         1\n",
       "Name: Naturality, Length: 2723, dtype: int64"
      ]
     },
     "execution_count": 145,
     "metadata": {},
     "output_type": "execute_result"
    }
   ],
   "source": [
    "df.Naturality.value_counts()"
   ]
  },
  {
   "cell_type": "code",
   "execution_count": 146,
   "id": "b4ba38fb",
   "metadata": {},
   "outputs": [
    {
     "data": {
      "text/plain": [
       "S�O PAULO              23085\n",
       "PARAN�                 16606\n",
       "MINAS GERAIS           12287\n",
       "ALAGOAS                 5363\n",
       "RIO GRANDE DO SUL       5355\n",
       "SERGIPE                 3201\n",
       "SANTA CATARINA          2930\n",
       "PAR�                    2680\n",
       "CEAR�                   2226\n",
       "BAHIA                   2020\n",
       "RIO DE JANEIRO          1558\n",
       "AMAZONAS                1421\n",
       "PERNAMBUCO              1379\n",
       "ESPIRITO SANTO          1165\n",
       "PARA�BA                  871\n",
       "GOIAS                    757\n",
       "MATO GROSSO              750\n",
       "ACRE                     604\n",
       "MARANH�O                 569\n",
       "PIAU�                    525\n",
       "MATO GROSSO DO SUL       445\n",
       "DISTRITO FEDERAL         368\n",
       "RIO GRANDE DO NORTE      361\n",
       "TOCANTINS                 86\n",
       "RONDONIA                  45\n",
       "RORAIMA                   34\n",
       "AMAPA                     31\n",
       "Name: Naturality.State, dtype: int64"
      ]
     },
     "execution_count": 146,
     "metadata": {},
     "output_type": "execute_result"
    }
   ],
   "source": [
    "df['Naturality.State'].value_counts()"
   ]
  },
  {
   "cell_type": "code",
   "execution_count": 147,
   "id": "44eadcfa",
   "metadata": {},
   "outputs": [
    {
     "data": {
      "text/plain": [
       "CASADO                    75308\n",
       "SOLTEIRO                  31012\n",
       "VI�VO                     29771\n",
       "SEPARADO JUDICIALMENTE    13290\n",
       "UNI�O CONSENSUAL           3804\n",
       "Name: State.Civil, dtype: int64"
      ]
     },
     "execution_count": 147,
     "metadata": {},
     "output_type": "execute_result"
    }
   ],
   "source": [
    "df['State.Civil'].value_counts()"
   ]
  },
  {
   "cell_type": "code",
   "execution_count": 148,
   "id": "331cc390",
   "metadata": {},
   "outputs": [
    {
     "data": {
      "text/plain": [
       "C�NCER        112155\n",
       "N�O C�NCER      8290\n",
       "Name: Type.of.Death, dtype: int64"
      ]
     },
     "execution_count": 148,
     "metadata": {},
     "output_type": "execute_result"
    }
   ],
   "source": [
    "df['Type.of.Death'].value_counts()"
   ]
  },
  {
   "cell_type": "code",
   "execution_count": 149,
   "id": "eb863da8",
   "metadata": {},
   "outputs": [
    {
     "data": {
      "text/plain": [
       "BRANCO      117315\n",
       "PARDA        48908\n",
       "PRETA         9232\n",
       "AMARELA       2161\n",
       "IND�GENA       211\n",
       "Name: Raca.Color, dtype: int64"
      ]
     },
     "execution_count": 149,
     "metadata": {},
     "output_type": "execute_result"
    }
   ],
   "source": [
    "df['Raca.Color'].value_counts()"
   ]
  },
  {
   "cell_type": "code",
   "execution_count": 150,
   "id": "e2d793d3",
   "metadata": {},
   "outputs": [
    {
     "data": {
      "text/plain": [
       "71.0     5211\n",
       "69.0     5209\n",
       "70.0     5206\n",
       "68.0     5178\n",
       "66.0     5130\n",
       "         ... \n",
       "108.0       3\n",
       "199.0       1\n",
       "110.0       1\n",
       "111.0       1\n",
       "109.0       1\n",
       "Name: Age, Length: 113, dtype: int64"
      ]
     },
     "execution_count": 150,
     "metadata": {},
     "output_type": "execute_result"
    }
   ],
   "source": [
    "df['Age'].value_counts()"
   ]
  },
  {
   "cell_type": "code",
   "execution_count": 151,
   "id": "947ac8aa",
   "metadata": {},
   "outputs": [
    {
     "data": {
      "text/plain": [
       "HISTOLOGIA DO TUMOR PRIM�RIO    135684\n",
       "SDO                              65686\n",
       "PESQUISA                          3228\n",
       "HISTOLOGIA DA MET�STASE           1737\n",
       "CITOLOGIA                         1249\n",
       "CL�NICO                           1213\n",
       "MARCADORES TUMORAIS                177\n",
       "Name: Diagnostic.means, dtype: int64"
      ]
     },
     "execution_count": 151,
     "metadata": {},
     "output_type": "execute_result"
    }
   ],
   "source": [
    "df['Diagnostic.means'].value_counts()"
   ]
  },
  {
   "cell_type": "code",
   "execution_count": 152,
   "id": "8a6add34",
   "metadata": {},
   "outputs": [
    {
     "data": {
      "text/plain": [
       "FUNDAMENTAL I (1� A 4� S�RIE)     49447\n",
       "FUNDAMENTAL II (5� A 8� S�RIE)    27074\n",
       "M�DIO (ANTIGO SEGUNDO GRAU)       26927\n",
       "SUPERIOR COMPLETO                 19583\n",
       "SEM ESCOLARIDADE                  15594\n",
       "SUPERIOR INCOMPLETO                2208\n",
       "Name: Degree.of.Education, dtype: int64"
      ]
     },
     "execution_count": 152,
     "metadata": {},
     "output_type": "execute_result"
    }
   ],
   "source": [
    "df['Degree.of.Education'].value_counts()"
   ]
  },
  {
   "cell_type": "code",
   "execution_count": 153,
   "id": "deeca77e",
   "metadata": {},
   "outputs": [],
   "source": [
    "df = df[df['Age'] <= 120]"
   ]
  },
  {
   "cell_type": "code",
   "execution_count": 154,
   "id": "b38b76eb",
   "metadata": {},
   "outputs": [],
   "source": [
    "df = df.drop(columns = ['Naturality','Naturality.State'])"
   ]
  },
  {
   "cell_type": "code",
   "execution_count": 155,
   "id": "bac8c5ae",
   "metadata": {},
   "outputs": [
    {
     "name": "stdout",
     "output_type": "stream",
     "text": [
      "<class 'pandas.core.frame.DataFrame'>\n",
      "Int64Index: 209442 entries, 0 to 1759896\n",
      "Data columns (total 12 columns):\n",
      " #   Column               Non-Null Count   Dtype  \n",
      "---  ------               --------------   -----  \n",
      " 0   Gender               209442 non-null  object \n",
      " 1   Age                  209442 non-null  float64\n",
      " 2   Raca.Color           177753 non-null  object \n",
      " 3   Nationality          203084 non-null  object \n",
      " 4   Degree.of.Education  140812 non-null  object \n",
      " 5   State.Civil          153138 non-null  object \n",
      " 6   Status.Address       209441 non-null  object \n",
      " 7   City.Address         209442 non-null  object \n",
      " 8   Diagnostic.means     208658 non-null  object \n",
      " 9   Status.Vital         209442 non-null  object \n",
      " 10  Type.of.Death        120406 non-null  object \n",
      " 11  year                 209442 non-null  float64\n",
      "dtypes: float64(2), object(10)\n",
      "memory usage: 20.8+ MB\n"
     ]
    }
   ],
   "source": [
    "df.info()"
   ]
  },
  {
   "cell_type": "code",
   "execution_count": 156,
   "id": "68c3bad9",
   "metadata": {},
   "outputs": [
    {
     "data": {
      "text/plain": [
       "Gender                     0\n",
       "Age                        0\n",
       "Raca.Color             31689\n",
       "Nationality             6358\n",
       "Degree.of.Education    68630\n",
       "State.Civil            56304\n",
       "Status.Address             1\n",
       "City.Address               0\n",
       "Diagnostic.means         784\n",
       "Status.Vital               0\n",
       "Type.of.Death          89036\n",
       "year                       0\n",
       "dtype: int64"
      ]
     },
     "execution_count": 156,
     "metadata": {},
     "output_type": "execute_result"
    }
   ],
   "source": [
    "df.isna().sum()"
   ]
  },
  {
   "cell_type": "code",
   "execution_count": 157,
   "id": "c222ac38",
   "metadata": {},
   "outputs": [],
   "source": [
    "df = df[df['Type.of.Death'].notna()]"
   ]
  },
  {
   "cell_type": "code",
   "execution_count": 158,
   "id": "7630dfef",
   "metadata": {},
   "outputs": [
    {
     "data": {
      "text/plain": [
       "Gender                     0\n",
       "Age                        0\n",
       "Raca.Color              9302\n",
       "Nationality             2282\n",
       "Degree.of.Education    28132\n",
       "State.Civil            17140\n",
       "Status.Address             0\n",
       "City.Address               0\n",
       "Diagnostic.means         680\n",
       "Status.Vital               0\n",
       "Type.of.Death              0\n",
       "year                       0\n",
       "dtype: int64"
      ]
     },
     "execution_count": 158,
     "metadata": {},
     "output_type": "execute_result"
    }
   ],
   "source": [
    "df.isna().sum()"
   ]
  },
  {
   "cell_type": "code",
   "execution_count": 159,
   "id": "8c97bcb7",
   "metadata": {},
   "outputs": [
    {
     "data": {
      "text/plain": [
       "(120406, 12)"
      ]
     },
     "execution_count": 159,
     "metadata": {},
     "output_type": "execute_result"
    }
   ],
   "source": [
    "df.shape"
   ]
  },
  {
   "cell_type": "code",
   "execution_count": 160,
   "id": "cfadd43c",
   "metadata": {},
   "outputs": [
    {
     "data": {
      "text/plain": [
       "FUNDAMENTAL I (1� A 4� S�RIE)     30599\n",
       "FUNDAMENTAL II (5� A 8� S�RIE)    18929\n",
       "M�DIO (ANTIGO SEGUNDO GRAU)       17260\n",
       "SEM ESCOLARIDADE                  12662\n",
       "SUPERIOR COMPLETO                 12018\n",
       "SUPERIOR INCOMPLETO                 806\n",
       "Name: Degree.of.Education, dtype: int64"
      ]
     },
     "execution_count": 160,
     "metadata": {},
     "output_type": "execute_result"
    }
   ],
   "source": [
    "df['Degree.of.Education'].value_counts()"
   ]
  },
  {
   "cell_type": "code",
   "execution_count": 166,
   "id": "811c2cda",
   "metadata": {},
   "outputs": [],
   "source": [
    "df['Degree.of.Education'] = df['Degree.of.Education'].replace(regex={r'^FUNDAMENTAL I .1. A 4. S.RIE.$': 'Fundamental I',\n",
    "                  r'^FUNDAMENTAL II .5. A 8. S.RIE.$': 'Fundamental II',\n",
    "                 r'^M.DIO .ANTIGO SEGUNDO GRAU.$': 'Former Second Degree',\n",
    "                 'SEM ESCOLARIDADE': 'Without Education', 'SUPERIOR COMPLETO' : 'Graduated',\n",
    "                 'SUPERIOR INCOMPLETO' : 'Incomplete High'})"
   ]
  },
  {
   "cell_type": "code",
   "execution_count": 167,
   "id": "69ca16be",
   "metadata": {},
   "outputs": [
    {
     "data": {
      "text/plain": [
       "Fundamental I           30599\n",
       "Fundamental II          18929\n",
       "Former Second Degree    17260\n",
       "Without Education       12662\n",
       "Graduated               12018\n",
       "Incomplete High           806\n",
       "Name: Degree.of.Education, dtype: int64"
      ]
     },
     "execution_count": 167,
     "metadata": {},
     "output_type": "execute_result"
    }
   ],
   "source": [
    "df['Degree.of.Education'].value_counts()"
   ]
  },
  {
   "cell_type": "code",
   "execution_count": 168,
   "id": "b8442487",
   "metadata": {},
   "outputs": [
    {
     "data": {
      "text/html": [
       "<div>\n",
       "<style scoped>\n",
       "    .dataframe tbody tr th:only-of-type {\n",
       "        vertical-align: middle;\n",
       "    }\n",
       "\n",
       "    .dataframe tbody tr th {\n",
       "        vertical-align: top;\n",
       "    }\n",
       "\n",
       "    .dataframe thead th {\n",
       "        text-align: right;\n",
       "    }\n",
       "</style>\n",
       "<table border=\"1\" class=\"dataframe\">\n",
       "  <thead>\n",
       "    <tr style=\"text-align: right;\">\n",
       "      <th></th>\n",
       "      <th>Gender</th>\n",
       "      <th>Age</th>\n",
       "      <th>Raca.Color</th>\n",
       "      <th>Nationality</th>\n",
       "      <th>Degree.of.Education</th>\n",
       "      <th>State.Civil</th>\n",
       "      <th>Status.Address</th>\n",
       "      <th>City.Address</th>\n",
       "      <th>Diagnostic.means</th>\n",
       "      <th>Status.Vital</th>\n",
       "      <th>Type.of.Death</th>\n",
       "      <th>year</th>\n",
       "    </tr>\n",
       "  </thead>\n",
       "  <tbody>\n",
       "    <tr>\n",
       "      <th>0</th>\n",
       "      <td>MASCULINO</td>\n",
       "      <td>30.0</td>\n",
       "      <td>BRANCO</td>\n",
       "      <td>BRASIL</td>\n",
       "      <td>NaN</td>\n",
       "      <td>CASADO</td>\n",
       "      <td>S�O PAULO</td>\n",
       "      <td>CAMPINAS</td>\n",
       "      <td>SDO</td>\n",
       "      <td>MORTO</td>\n",
       "      <td>C�NCER</td>\n",
       "      <td>2005.0</td>\n",
       "    </tr>\n",
       "    <tr>\n",
       "      <th>2</th>\n",
       "      <td>FEMININO</td>\n",
       "      <td>51.0</td>\n",
       "      <td>PARDA</td>\n",
       "      <td>BRASIL</td>\n",
       "      <td>NaN</td>\n",
       "      <td>SOLTEIRO</td>\n",
       "      <td>S�O PAULO</td>\n",
       "      <td>CAMPINAS</td>\n",
       "      <td>HISTOLOGIA DO TUMOR PRIM�RIO</td>\n",
       "      <td>MORTO</td>\n",
       "      <td>C�NCER</td>\n",
       "      <td>2003.0</td>\n",
       "    </tr>\n",
       "    <tr>\n",
       "      <th>4</th>\n",
       "      <td>MASCULINO</td>\n",
       "      <td>71.0</td>\n",
       "      <td>BRANCO</td>\n",
       "      <td>BRASIL</td>\n",
       "      <td>NaN</td>\n",
       "      <td>SOLTEIRO</td>\n",
       "      <td>S�O PAULO</td>\n",
       "      <td>CAMPINAS</td>\n",
       "      <td>SDO</td>\n",
       "      <td>MORTO</td>\n",
       "      <td>C�NCER</td>\n",
       "      <td>2005.0</td>\n",
       "    </tr>\n",
       "    <tr>\n",
       "      <th>5</th>\n",
       "      <td>MASCULINO</td>\n",
       "      <td>71.0</td>\n",
       "      <td>BRANCO</td>\n",
       "      <td>BRASIL</td>\n",
       "      <td>Graduated</td>\n",
       "      <td>VI�VO</td>\n",
       "      <td>S�O PAULO</td>\n",
       "      <td>CAMPINAS</td>\n",
       "      <td>SDO</td>\n",
       "      <td>MORTO</td>\n",
       "      <td>C�NCER</td>\n",
       "      <td>2005.0</td>\n",
       "    </tr>\n",
       "    <tr>\n",
       "      <th>6</th>\n",
       "      <td>FEMININO</td>\n",
       "      <td>57.0</td>\n",
       "      <td>PARDA</td>\n",
       "      <td>BRASIL</td>\n",
       "      <td>NaN</td>\n",
       "      <td>CASADO</td>\n",
       "      <td>S�O PAULO</td>\n",
       "      <td>CAMPINAS</td>\n",
       "      <td>SDO</td>\n",
       "      <td>MORTO</td>\n",
       "      <td>C�NCER</td>\n",
       "      <td>2005.0</td>\n",
       "    </tr>\n",
       "  </tbody>\n",
       "</table>\n",
       "</div>"
      ],
      "text/plain": [
       "      Gender   Age Raca.Color Nationality Degree.of.Education State.Civil  \\\n",
       "0  MASCULINO  30.0     BRANCO      BRASIL                 NaN      CASADO   \n",
       "2   FEMININO  51.0      PARDA      BRASIL                 NaN    SOLTEIRO   \n",
       "4  MASCULINO  71.0     BRANCO      BRASIL                 NaN    SOLTEIRO   \n",
       "5  MASCULINO  71.0     BRANCO      BRASIL           Graduated       VI�VO   \n",
       "6   FEMININO  57.0      PARDA      BRASIL                 NaN      CASADO   \n",
       "\n",
       "  Status.Address City.Address              Diagnostic.means Status.Vital  \\\n",
       "0      S�O PAULO     CAMPINAS                           SDO        MORTO   \n",
       "2      S�O PAULO     CAMPINAS  HISTOLOGIA DO TUMOR PRIM�RIO        MORTO   \n",
       "4      S�O PAULO     CAMPINAS                           SDO        MORTO   \n",
       "5      S�O PAULO     CAMPINAS                           SDO        MORTO   \n",
       "6      S�O PAULO     CAMPINAS                           SDO        MORTO   \n",
       "\n",
       "  Type.of.Death    year  \n",
       "0        C�NCER  2005.0  \n",
       "2        C�NCER  2003.0  \n",
       "4        C�NCER  2005.0  \n",
       "5        C�NCER  2005.0  \n",
       "6        C�NCER  2005.0  "
      ]
     },
     "execution_count": 168,
     "metadata": {},
     "output_type": "execute_result"
    }
   ],
   "source": [
    "df.head()"
   ]
  },
  {
   "cell_type": "code",
   "execution_count": null,
   "id": "9e6db60f",
   "metadata": {},
   "outputs": [],
   "source": [
    "|"
   ]
  }
 ],
 "metadata": {
  "kernelspec": {
   "display_name": "Python 3",
   "language": "python",
   "name": "python3"
  },
  "language_info": {
   "codemirror_mode": {
    "name": "ipython",
    "version": 3
   },
   "file_extension": ".py",
   "mimetype": "text/x-python",
   "name": "python",
   "nbconvert_exporter": "python",
   "pygments_lexer": "ipython3",
   "version": "3.8.8"
  }
 },
 "nbformat": 4,
 "nbformat_minor": 5
}
